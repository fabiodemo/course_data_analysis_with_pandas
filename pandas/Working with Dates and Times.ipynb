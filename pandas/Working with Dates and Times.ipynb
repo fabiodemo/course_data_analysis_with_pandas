{
 "cells": [
  {
   "cell_type": "markdown",
   "metadata": {},
   "source": [
    "## Intro to the Working with Dates and Times Module"
   ]
  },
  {
   "cell_type": "code",
   "execution_count": null,
   "metadata": {},
   "outputs": [],
   "source": [
    "import pandas as pd\n",
    "import datetime as dt"
   ]
  },
  {
   "cell_type": "markdown",
   "metadata": {},
   "source": [
    "## Review of Python's datetime Module"
   ]
  },
  {
   "cell_type": "code",
   "execution_count": null,
   "metadata": {},
   "outputs": [],
   "source": [
    "#dt.date(yyyy, MM, dd)\n",
    "dt.date(2016, 4, 12) # April 12th 2016\n",
    "someday = dt.date(2010, 1, 20) # January 1st 2010"
   ]
  },
  {
   "cell_type": "code",
   "execution_count": null,
   "metadata": {},
   "outputs": [],
   "source": [
    "someday.year\n",
    "someday.month\n",
    "someday.day"
   ]
  },
  {
   "cell_type": "markdown",
   "metadata": {},
   "source": [
    "Datetime must have a time, or will be set to midnight"
   ]
  },
  {
   "cell_type": "code",
   "execution_count": null,
   "metadata": {},
   "outputs": [],
   "source": [
    "dt.datetime(2010, 1, 20)"
   ]
  },
  {
   "cell_type": "code",
   "execution_count": null,
   "metadata": {},
   "outputs": [],
   "source": [
    "dt.datetime(2010, 1, 10, 8, 13, 57)"
   ]
  },
  {
   "cell_type": "markdown",
   "metadata": {},
   "source": [
    "In the afternoon, we will need the military time"
   ]
  },
  {
   "cell_type": "code",
   "execution_count": null,
   "metadata": {},
   "outputs": [],
   "source": [
    "str(dt.datetime(2010, 1, 10, 17, 13, 57))"
   ]
  },
  {
   "cell_type": "code",
   "execution_count": null,
   "metadata": {},
   "outputs": [],
   "source": [
    "sometime = dt.datetime(2010, 1, 10, 17, 13, 57)"
   ]
  },
  {
   "cell_type": "code",
   "execution_count": null,
   "metadata": {},
   "outputs": [],
   "source": [
    "sometime.year\n",
    "sometime.month\n",
    "sometime.day\n",
    "sometime.hour\n",
    "sometime.minute\n",
    "sometime.second"
   ]
  },
  {
   "cell_type": "markdown",
   "metadata": {},
   "source": [
    "## The pandas Timestamp Object"
   ]
  },
  {
   "cell_type": "code",
   "execution_count": null,
   "metadata": {},
   "outputs": [],
   "source": [
    "pd.Timestamp('2010-01-10')\n",
    "pd.Timestamp('2015/01/31')\n",
    "pd.Timestamp('01/01/2015')\n",
    "pd.Timestamp('2014, 11, 04')\n",
    "pd.Timestamp('19/12/2015') # Becareful with these two formats\n",
    "pd.Timestamp('12/19/2015') #\n",
    "pd.Timestamp('4/3/2000') # or this could happen"
   ]
  },
  {
   "cell_type": "code",
   "execution_count": null,
   "metadata": {},
   "outputs": [],
   "source": [
    "pd.Timestamp('2010-01-10 08:35:15')\n",
    "pd.Timestamp('2010-01-10 6:13:15 PM')"
   ]
  },
  {
   "cell_type": "code",
   "execution_count": null,
   "metadata": {},
   "outputs": [],
   "source": [
    "pd.Timestamp(dt.date(2015,1,1))"
   ]
  },
  {
   "cell_type": "code",
   "execution_count": null,
   "metadata": {},
   "outputs": [],
   "source": [
    "pd.Timestamp(dt.datetime(2020,3,14, 21, 34, 33))"
   ]
  },
  {
   "cell_type": "markdown",
   "metadata": {},
   "source": [
    "## The pandas DateTimeIndex Object"
   ]
  },
  {
   "cell_type": "code",
   "execution_count": null,
   "metadata": {},
   "outputs": [],
   "source": [
    "dates =[\"2016-01-02\", \"2016-03-12\", \"2009-09-07\"]\n",
    "pd.DatetimeIndex(dates)"
   ]
  },
  {
   "cell_type": "code",
   "execution_count": null,
   "metadata": {},
   "outputs": [],
   "source": [
    "dates =[\"2016/01/02\", \"2016/03/12\", \"2009/09/07\"]\n",
    "pd.DatetimeIndex(dates)"
   ]
  },
  {
   "cell_type": "code",
   "execution_count": null,
   "metadata": {},
   "outputs": [],
   "source": [
    "dates = [dt.date(2016, 1, 10), dt.date(1994, 6, 14), dt.date(2003, 12, 29)]\n",
    "dt_index = pd.DatetimeIndex(dates)"
   ]
  },
  {
   "cell_type": "code",
   "execution_count": null,
   "metadata": {},
   "outputs": [],
   "source": [
    "values = [100, 200, 300]\n",
    "pd.Series(data = values, index = dt_index)"
   ]
  },
  {
   "cell_type": "markdown",
   "metadata": {},
   "source": [
    "## The pd.to_datetime() Method"
   ]
  },
  {
   "cell_type": "code",
   "execution_count": null,
   "metadata": {},
   "outputs": [],
   "source": [
    "pd.to_datetime(\"2001-04-19\")\n",
    "pd.to_datetime(dt.date(2015,1, 1))\n",
    "pd.to_datetime(dt.datetime(2015, 1, 1, 14, 25, 20))\n",
    "pd.to_datetime((\"2015-01-03\", \"2014/02/08\", \"2016\", \"May 4th, 1996\"))"
   ]
  },
  {
   "cell_type": "code",
   "execution_count": null,
   "metadata": {},
   "outputs": [],
   "source": [
    "times = pd.Series([\"2015-01-03\", \"2014/02/08\", \"2016\", \"May 4th, 1996\"])\n",
    "times"
   ]
  },
  {
   "cell_type": "markdown",
   "metadata": {},
   "source": [
    "Convert dates to datetime, maintaning the same format (yyyy-MM-dd)"
   ]
  },
  {
   "cell_type": "code",
   "execution_count": null,
   "metadata": {},
   "outputs": [],
   "source": [
    "pd.to_datetime(times)"
   ]
  },
  {
   "cell_type": "code",
   "execution_count": null,
   "metadata": {},
   "outputs": [],
   "source": [
    "dates = pd.Series([\"July 5th, 1996\", \"10/04/1992\", \"Hello\", \"2015-02-31\"])\n",
    "dates"
   ]
  },
  {
   "cell_type": "markdown",
   "metadata": {},
   "source": [
    "Parameter that raise errors if there is a incompatible data"
   ]
  },
  {
   "cell_type": "markdown",
   "metadata": {},
   "source": [
    "So we use coerce to convert to datetime, and everything that is not datetime will be NaT (Not a Time)"
   ]
  },
  {
   "cell_type": "code",
   "execution_count": null,
   "metadata": {},
   "outputs": [],
   "source": [
    "pd.to_datetime(dates, errors= \"coerce\")"
   ]
  },
  {
   "cell_type": "markdown",
   "metadata": {},
   "source": [
    "UNIX TIME IN DATETIME"
   ]
  },
  {
   "cell_type": "code",
   "execution_count": null,
   "metadata": {},
   "outputs": [],
   "source": [
    "pd.to_datetime([1577836800, 1798761600,1830297600, 1861920000], unit=\"s\")"
   ]
  },
  {
   "cell_type": "markdown",
   "metadata": {},
   "source": [
    "## Create Range of Dates with the pd.date_range Method - Part I"
   ]
  },
  {
   "cell_type": "markdown",
   "metadata": {},
   "source": [
    "Freq = \"d\" = DAY"
   ]
  },
  {
   "cell_type": "code",
   "execution_count": null,
   "metadata": {},
   "outputs": [],
   "source": [
    "times =  pd.date_range(start = \"2016-01-01\", end = \"2016-01-10\", freq = \"D\")"
   ]
  },
  {
   "cell_type": "code",
   "execution_count": null,
   "metadata": {},
   "outputs": [],
   "source": [
    "type(times)"
   ]
  },
  {
   "cell_type": "code",
   "execution_count": null,
   "metadata": {},
   "outputs": [],
   "source": [
    "type(times[0])"
   ]
  },
  {
   "cell_type": "code",
   "execution_count": null,
   "metadata": {},
   "outputs": [],
   "source": [
    "pd.date_range(start = \"2016-01-01\", end = \"2016-01-10\", freq = \"2D\") #increment of 2days"
   ]
  },
  {
   "cell_type": "code",
   "execution_count": null,
   "metadata": {},
   "outputs": [],
   "source": [
    "pd.date_range(start = \"2016-01-01\", end = \"2016-01-10\", freq = \"B\") # B will be just business days"
   ]
  },
  {
   "cell_type": "code",
   "execution_count": null,
   "metadata": {},
   "outputs": [],
   "source": [
    "pd.date_range(start = \"2016-01-01\", end = \"2016-01-10\", freq = \"W-FRI\") # Just friday of each week"
   ]
  },
  {
   "cell_type": "code",
   "execution_count": null,
   "metadata": {},
   "outputs": [],
   "source": [
    "pd.date_range(start = \"2016-01-01\", end = \"2016-01-10\", freq = \"H\") # H -> Every single hour"
   ]
  },
  {
   "cell_type": "code",
   "execution_count": null,
   "metadata": {},
   "outputs": [],
   "source": [
    "pd.date_range(start = \"2016-01-01\", end = \"2016-01-10\", freq = \"12h\") # 12h frequency"
   ]
  },
  {
   "cell_type": "code",
   "execution_count": null,
   "metadata": {},
   "outputs": [],
   "source": [
    "pd.date_range(start = \"2016-01-01\", end = \"2017-01-01\", freq = \"M\") # Last day of each month"
   ]
  },
  {
   "cell_type": "code",
   "execution_count": null,
   "metadata": {},
   "outputs": [],
   "source": [
    "pd.date_range(start = \"2016-01-01\", end = \"2017-01-01\", freq = \"MS\") # First day of each month"
   ]
  },
  {
   "cell_type": "markdown",
   "metadata": {},
   "source": [
    "## Create Range of Dates with the pd.date_range Method - Part II"
   ]
  },
  {
   "cell_type": "markdown",
   "metadata": {},
   "source": [
    "Periods will be the number of timestamps we want to generate"
   ]
  },
  {
   "cell_type": "code",
   "execution_count": null,
   "metadata": {},
   "outputs": [],
   "source": [
    "pd.date_range(start= \"2012-09-09\", periods= 25, freq=\"D\")"
   ]
  },
  {
   "cell_type": "code",
   "execution_count": null,
   "metadata": {},
   "outputs": [],
   "source": [
    "len(pd.date_range(start= \"2012-09-09\", periods= 25, freq=\"D\"))"
   ]
  },
  {
   "cell_type": "code",
   "execution_count": null,
   "metadata": {},
   "outputs": [],
   "source": [
    "pd.date_range(start= \"2012-09-09\", periods= 50, freq=\"B\")"
   ]
  },
  {
   "cell_type": "code",
   "execution_count": null,
   "metadata": {},
   "outputs": [],
   "source": [
    "pd.date_range(start= \"2012-09-09\", periods= 50, freq=\"W\")"
   ]
  },
  {
   "cell_type": "code",
   "execution_count": null,
   "metadata": {},
   "outputs": [],
   "source": [
    "pd.date_range(start= \"2012-09-09\", periods= 50, freq=\"W-TUE\")"
   ]
  },
  {
   "cell_type": "code",
   "execution_count": null,
   "metadata": {},
   "outputs": [],
   "source": [
    "pd.date_range(start= \"2012-09-09\", periods= 50, freq=\"6h\")"
   ]
  },
  {
   "cell_type": "markdown",
   "metadata": {},
   "source": [
    "## Create Range of Dates with the pd.date_range Method - Part III"
   ]
  },
  {
   "cell_type": "markdown",
   "metadata": {},
   "source": [
    "Start at the end date and, will move until the beginning that will be the number of periods + our parameters"
   ]
  },
  {
   "cell_type": "code",
   "execution_count": null,
   "metadata": {},
   "outputs": [],
   "source": [
    "pd.date_range(end = \"1999-12-31\", periods= 20, freq= \"D\")"
   ]
  },
  {
   "cell_type": "code",
   "execution_count": null,
   "metadata": {},
   "outputs": [],
   "source": [
    "pd.date_range(end = \"1999-12-31\", periods= 40, freq= \"B\")"
   ]
  },
  {
   "cell_type": "code",
   "execution_count": null,
   "metadata": {},
   "outputs": [],
   "source": [
    "pd.date_range(end = \"1999-12-31\", periods= 40, freq= \"W-SUN\")"
   ]
  },
  {
   "cell_type": "code",
   "execution_count": null,
   "metadata": {},
   "outputs": [],
   "source": [
    "pd.date_range(end = \"1999-12-31\", periods= 53, freq= \"MS\") # MS -> Month Start"
   ]
  },
  {
   "cell_type": "code",
   "execution_count": null,
   "metadata": {},
   "outputs": [],
   "source": [
    "pd.date_range(end = \"1999-12-31\", periods= 53, freq= \"7h\") # MS -> Month Start"
   ]
  },
  {
   "cell_type": "markdown",
   "metadata": {},
   "source": [
    "## The .dt Acessor"
   ]
  },
  {
   "cell_type": "code",
   "execution_count": null,
   "metadata": {},
   "outputs": [],
   "source": [
    "bunch_of_dates = pd.date_range(start= \"2000-01-01\", end= \"2010-12-31\", freq= \"24D\")"
   ]
  },
  {
   "cell_type": "code",
   "execution_count": null,
   "metadata": {},
   "outputs": [],
   "source": [
    "s = pd.Series(bunch_of_dates)\n",
    "s.head(3)"
   ]
  },
  {
   "cell_type": "code",
   "execution_count": null,
   "metadata": {},
   "outputs": [],
   "source": [
    "s.dt.day\n",
    "s.dt.month\n",
    "s.dt.year\n",
    "s.dt.weekday"
   ]
  },
  {
   "cell_type": "code",
   "execution_count": null,
   "metadata": {},
   "outputs": [],
   "source": [
    "mask = s.dt.is_quarter_end\n",
    "s[mask]"
   ]
  },
  {
   "cell_type": "code",
   "execution_count": null,
   "metadata": {},
   "outputs": [],
   "source": [
    "mask = s.dt.is_month_start\n",
    "s[mask]"
   ]
  },
  {
   "cell_type": "markdown",
   "metadata": {},
   "source": [
    "## Import Financial Dataset with pandas_datareader Library"
   ]
  },
  {
   "cell_type": "code",
   "execution_count": null,
   "metadata": {},
   "outputs": [],
   "source": [
    "import pandas as pd\n",
    "import datetime as dt\n",
    "from pandas_datareader import data"
   ]
  },
  {
   "cell_type": "code",
   "execution_count": null,
   "metadata": {},
   "outputs": [],
   "source": [
    "stocks = data.DataReader(name= \"MSFT\", data_source= \"yahoo\", start=\"2010-01-01\", end= \"2020-12-31\") # Microsoft stock history - Getting data from Yahoo Finances\n",
    "stocks.head(3)"
   ]
  },
  {
   "cell_type": "code",
   "execution_count": null,
   "metadata": {},
   "outputs": [],
   "source": [
    "stocks.values"
   ]
  },
  {
   "cell_type": "code",
   "execution_count": null,
   "metadata": {},
   "outputs": [],
   "source": [
    "stocks.columns"
   ]
  },
  {
   "cell_type": "code",
   "execution_count": null,
   "metadata": {},
   "outputs": [],
   "source": [
    "stocks.index"
   ]
  },
  {
   "cell_type": "markdown",
   "metadata": {},
   "source": [
    "## Selecting Rows from a DataFrame with a DatetimeIndex"
   ]
  },
  {
   "cell_type": "code",
   "execution_count": null,
   "metadata": {},
   "outputs": [],
   "source": [
    "stocks.loc[\"2010-01-04\"]"
   ]
  },
  {
   "cell_type": "code",
   "execution_count": null,
   "metadata": {},
   "outputs": [],
   "source": [
    "stocks.loc[pd.Timestamp(\"2010-01-04\")]"
   ]
  },
  {
   "cell_type": "code",
   "execution_count": null,
   "metadata": {},
   "outputs": [],
   "source": [
    "stocks.iloc[0]\n",
    "stocks.iloc[500]\n",
    "stocks.iloc[-1]"
   ]
  },
  {
   "cell_type": "code",
   "execution_count": null,
   "metadata": {},
   "outputs": [],
   "source": [
    "stocks.loc[[pd.Timestamp(\"2010-01-04\"), pd.Timestamp(\"2010-01-05\")]]"
   ]
  },
  {
   "cell_type": "markdown",
   "metadata": {},
   "source": [
    "The two lines below do the same thing"
   ]
  },
  {
   "cell_type": "code",
   "execution_count": null,
   "metadata": {},
   "outputs": [],
   "source": [
    "stocks.loc[\"2013-10-01\":\"2013-10-07\"]\n",
    "stocks.truncate(before= \"2013-10-01\", after=\"2013-10-07\")"
   ]
  },
  {
   "cell_type": "code",
   "execution_count": null,
   "metadata": {},
   "outputs": [],
   "source": [
    "stocks.iloc[1000:1005] # iloc has a exclusive \"after\" parameter"
   ]
  },
  {
   "cell_type": "code",
   "execution_count": null,
   "metadata": {},
   "outputs": [],
   "source": [
    "pd.date_range(start= \"1991-04-12\", end= \"2020-12-31\", freq= pd.DateOffset(years = 1))"
   ]
  },
  {
   "cell_type": "code",
   "execution_count": null,
   "metadata": {},
   "outputs": [],
   "source": [
    "birthdays = stocks.index"
   ]
  },
  {
   "cell_type": "code",
   "execution_count": null,
   "metadata": {},
   "outputs": [],
   "source": [
    "birthdays_stocks = stocks.index.isin(birthdays)"
   ]
  },
  {
   "cell_type": "code",
   "execution_count": null,
   "metadata": {},
   "outputs": [],
   "source": [
    "stocks[birthdays_stocks]\n",
    "stocks.loc[birthdays_stocks] # prefered way to aim a subset of stocks"
   ]
  },
  {
   "cell_type": "markdown",
   "metadata": {},
   "source": [
    "## Timestamp Object Attributes and Methods"
   ]
  },
  {
   "cell_type": "code",
   "execution_count": 82,
   "metadata": {},
   "outputs": [
    {
     "data": {
      "text/html": [
       "<div>\n",
       "<style scoped>\n",
       "    .dataframe tbody tr th:only-of-type {\n",
       "        vertical-align: middle;\n",
       "    }\n",
       "\n",
       "    .dataframe tbody tr th {\n",
       "        vertical-align: top;\n",
       "    }\n",
       "\n",
       "    .dataframe thead th {\n",
       "        text-align: right;\n",
       "    }\n",
       "</style>\n",
       "<table border=\"1\" class=\"dataframe\">\n",
       "  <thead>\n",
       "    <tr style=\"text-align: right;\">\n",
       "      <th></th>\n",
       "      <th>High</th>\n",
       "      <th>Low</th>\n",
       "      <th>Open</th>\n",
       "      <th>Close</th>\n",
       "      <th>Volume</th>\n",
       "      <th>Adj Close</th>\n",
       "    </tr>\n",
       "    <tr>\n",
       "      <th>Date</th>\n",
       "      <th></th>\n",
       "      <th></th>\n",
       "      <th></th>\n",
       "      <th></th>\n",
       "      <th></th>\n",
       "      <th></th>\n",
       "    </tr>\n",
       "  </thead>\n",
       "  <tbody>\n",
       "    <tr>\n",
       "      <th>2010-01-04</th>\n",
       "      <td>31.10</td>\n",
       "      <td>30.590000</td>\n",
       "      <td>30.620001</td>\n",
       "      <td>30.950001</td>\n",
       "      <td>38409100.0</td>\n",
       "      <td>23.855656</td>\n",
       "    </tr>\n",
       "    <tr>\n",
       "      <th>2010-01-05</th>\n",
       "      <td>31.10</td>\n",
       "      <td>30.639999</td>\n",
       "      <td>30.850000</td>\n",
       "      <td>30.959999</td>\n",
       "      <td>49749600.0</td>\n",
       "      <td>23.863363</td>\n",
       "    </tr>\n",
       "    <tr>\n",
       "      <th>2010-01-06</th>\n",
       "      <td>31.08</td>\n",
       "      <td>30.520000</td>\n",
       "      <td>30.879999</td>\n",
       "      <td>30.770000</td>\n",
       "      <td>58182400.0</td>\n",
       "      <td>23.716919</td>\n",
       "    </tr>\n",
       "  </tbody>\n",
       "</table>\n",
       "</div>"
      ],
      "text/plain": [
       "             High        Low       Open      Close      Volume  Adj Close\n",
       "Date                                                                     \n",
       "2010-01-04  31.10  30.590000  30.620001  30.950001  38409100.0  23.855656\n",
       "2010-01-05  31.10  30.639999  30.850000  30.959999  49749600.0  23.863363\n",
       "2010-01-06  31.08  30.520000  30.879999  30.770000  58182400.0  23.716919"
      ]
     },
     "execution_count": 82,
     "metadata": {},
     "output_type": "execute_result"
    }
   ],
   "source": [
    "stocks = data.DataReader(name= \"MSFT\", data_source= \"yahoo\", start=\"2010-01-01\", end= \"2020-12-31\") # Microsoft stock history - Getting data from Yahoo Finances\n",
    "stocks.head(3)"
   ]
  },
  {
   "cell_type": "code",
   "execution_count": 85,
   "metadata": {},
   "outputs": [],
   "source": [
    "someday = stocks.index[500]"
   ]
  },
  {
   "cell_type": "code",
   "execution_count": 86,
   "metadata": {},
   "outputs": [
    {
     "data": {
      "text/plain": [
       "<bound method Timestamp.tz_convert of Timestamp('2011-12-27 00:00:00')>"
      ]
     },
     "execution_count": 86,
     "metadata": {},
     "output_type": "execute_result"
    }
   ],
   "source": [
    "someday.astimezone"
   ]
  },
  {
   "cell_type": "code",
   "execution_count": 89,
   "metadata": {},
   "outputs": [
    {
     "data": {
      "text/plain": [
       "False"
      ]
     },
     "execution_count": 89,
     "metadata": {},
     "output_type": "execute_result"
    }
   ],
   "source": [
    "someday.month\n",
    "someday.day\n",
    "someday.year\n",
    "someday.is_month_start\n",
    "someday.is_quarter_end"
   ]
  },
  {
   "cell_type": "code",
   "execution_count": 92,
   "metadata": {},
   "outputs": [
    {
     "data": {
      "text/plain": [
       "'Tuesday'"
      ]
     },
     "execution_count": 92,
     "metadata": {},
     "output_type": "execute_result"
    }
   ],
   "source": [
    "someday.month_name()\n",
    "someday.day_name()"
   ]
  },
  {
   "cell_type": "code",
   "execution_count": 94,
   "metadata": {},
   "outputs": [
    {
     "data": {
      "text/plain": [
       "Index(['Monday', 'Tuesday', 'Wednesday', 'Thursday', 'Friday', 'Monday',\n",
       "       'Tuesday', 'Wednesday', 'Thursday', 'Friday',\n",
       "       ...\n",
       "       'Thursday', 'Friday', 'Monday', 'Tuesday', 'Wednesday', 'Thursday',\n",
       "       'Monday', 'Tuesday', 'Wednesday', 'Thursday'],\n",
       "      dtype='object', name='Date', length=2769)"
      ]
     },
     "execution_count": 94,
     "metadata": {},
     "output_type": "execute_result"
    }
   ],
   "source": [
    "stocks.index.day_name()"
   ]
  },
  {
   "cell_type": "markdown",
   "metadata": {},
   "source": [
    "Adding a column with the days of the week names corresponding to each date."
   ]
  },
  {
   "cell_type": "code",
   "execution_count": 95,
   "metadata": {},
   "outputs": [],
   "source": [
    "stocks.insert(0, \"Day of the week\",stocks.index.day_name())"
   ]
  },
  {
   "cell_type": "code",
   "execution_count": 96,
   "metadata": {},
   "outputs": [
    {
     "data": {
      "text/html": [
       "<div>\n",
       "<style scoped>\n",
       "    .dataframe tbody tr th:only-of-type {\n",
       "        vertical-align: middle;\n",
       "    }\n",
       "\n",
       "    .dataframe tbody tr th {\n",
       "        vertical-align: top;\n",
       "    }\n",
       "\n",
       "    .dataframe thead th {\n",
       "        text-align: right;\n",
       "    }\n",
       "</style>\n",
       "<table border=\"1\" class=\"dataframe\">\n",
       "  <thead>\n",
       "    <tr style=\"text-align: right;\">\n",
       "      <th></th>\n",
       "      <th>Day of the week</th>\n",
       "      <th>High</th>\n",
       "      <th>Low</th>\n",
       "      <th>Open</th>\n",
       "      <th>Close</th>\n",
       "      <th>Volume</th>\n",
       "      <th>Adj Close</th>\n",
       "    </tr>\n",
       "    <tr>\n",
       "      <th>Date</th>\n",
       "      <th></th>\n",
       "      <th></th>\n",
       "      <th></th>\n",
       "      <th></th>\n",
       "      <th></th>\n",
       "      <th></th>\n",
       "      <th></th>\n",
       "    </tr>\n",
       "  </thead>\n",
       "  <tbody>\n",
       "    <tr>\n",
       "      <th>2010-01-04</th>\n",
       "      <td>Monday</td>\n",
       "      <td>31.100000</td>\n",
       "      <td>30.590000</td>\n",
       "      <td>30.620001</td>\n",
       "      <td>30.950001</td>\n",
       "      <td>38409100.0</td>\n",
       "      <td>23.855656</td>\n",
       "    </tr>\n",
       "    <tr>\n",
       "      <th>2010-01-05</th>\n",
       "      <td>Tuesday</td>\n",
       "      <td>31.100000</td>\n",
       "      <td>30.639999</td>\n",
       "      <td>30.850000</td>\n",
       "      <td>30.959999</td>\n",
       "      <td>49749600.0</td>\n",
       "      <td>23.863363</td>\n",
       "    </tr>\n",
       "    <tr>\n",
       "      <th>2010-01-06</th>\n",
       "      <td>Wednesday</td>\n",
       "      <td>31.080000</td>\n",
       "      <td>30.520000</td>\n",
       "      <td>30.879999</td>\n",
       "      <td>30.770000</td>\n",
       "      <td>58182400.0</td>\n",
       "      <td>23.716919</td>\n",
       "    </tr>\n",
       "    <tr>\n",
       "      <th>2010-01-07</th>\n",
       "      <td>Thursday</td>\n",
       "      <td>30.700001</td>\n",
       "      <td>30.190001</td>\n",
       "      <td>30.629999</td>\n",
       "      <td>30.450001</td>\n",
       "      <td>50559700.0</td>\n",
       "      <td>23.470272</td>\n",
       "    </tr>\n",
       "    <tr>\n",
       "      <th>2010-01-08</th>\n",
       "      <td>Friday</td>\n",
       "      <td>30.879999</td>\n",
       "      <td>30.240000</td>\n",
       "      <td>30.280001</td>\n",
       "      <td>30.660000</td>\n",
       "      <td>51197400.0</td>\n",
       "      <td>23.632130</td>\n",
       "    </tr>\n",
       "    <tr>\n",
       "      <th>...</th>\n",
       "      <td>...</td>\n",
       "      <td>...</td>\n",
       "      <td>...</td>\n",
       "      <td>...</td>\n",
       "      <td>...</td>\n",
       "      <td>...</td>\n",
       "      <td>...</td>\n",
       "    </tr>\n",
       "    <tr>\n",
       "      <th>2020-12-24</th>\n",
       "      <td>Thursday</td>\n",
       "      <td>223.610001</td>\n",
       "      <td>221.199997</td>\n",
       "      <td>221.419998</td>\n",
       "      <td>222.750000</td>\n",
       "      <td>10550600.0</td>\n",
       "      <td>220.442551</td>\n",
       "    </tr>\n",
       "    <tr>\n",
       "      <th>2020-12-28</th>\n",
       "      <td>Monday</td>\n",
       "      <td>226.029999</td>\n",
       "      <td>223.020004</td>\n",
       "      <td>224.449997</td>\n",
       "      <td>224.960007</td>\n",
       "      <td>17933500.0</td>\n",
       "      <td>222.629654</td>\n",
       "    </tr>\n",
       "    <tr>\n",
       "      <th>2020-12-29</th>\n",
       "      <td>Tuesday</td>\n",
       "      <td>227.179993</td>\n",
       "      <td>223.580002</td>\n",
       "      <td>226.309998</td>\n",
       "      <td>224.149994</td>\n",
       "      <td>17403200.0</td>\n",
       "      <td>221.828049</td>\n",
       "    </tr>\n",
       "    <tr>\n",
       "      <th>2020-12-30</th>\n",
       "      <td>Wednesday</td>\n",
       "      <td>225.630005</td>\n",
       "      <td>221.470001</td>\n",
       "      <td>225.229996</td>\n",
       "      <td>221.679993</td>\n",
       "      <td>20272300.0</td>\n",
       "      <td>219.383621</td>\n",
       "    </tr>\n",
       "    <tr>\n",
       "      <th>2020-12-31</th>\n",
       "      <td>Thursday</td>\n",
       "      <td>223.000000</td>\n",
       "      <td>219.679993</td>\n",
       "      <td>221.699997</td>\n",
       "      <td>222.419998</td>\n",
       "      <td>20942100.0</td>\n",
       "      <td>220.115952</td>\n",
       "    </tr>\n",
       "  </tbody>\n",
       "</table>\n",
       "<p>2769 rows × 7 columns</p>\n",
       "</div>"
      ],
      "text/plain": [
       "           Day of the week        High         Low        Open       Close  \\\n",
       "Date                                                                         \n",
       "2010-01-04          Monday   31.100000   30.590000   30.620001   30.950001   \n",
       "2010-01-05         Tuesday   31.100000   30.639999   30.850000   30.959999   \n",
       "2010-01-06       Wednesday   31.080000   30.520000   30.879999   30.770000   \n",
       "2010-01-07        Thursday   30.700001   30.190001   30.629999   30.450001   \n",
       "2010-01-08          Friday   30.879999   30.240000   30.280001   30.660000   \n",
       "...                    ...         ...         ...         ...         ...   \n",
       "2020-12-24        Thursday  223.610001  221.199997  221.419998  222.750000   \n",
       "2020-12-28          Monday  226.029999  223.020004  224.449997  224.960007   \n",
       "2020-12-29         Tuesday  227.179993  223.580002  226.309998  224.149994   \n",
       "2020-12-30       Wednesday  225.630005  221.470001  225.229996  221.679993   \n",
       "2020-12-31        Thursday  223.000000  219.679993  221.699997  222.419998   \n",
       "\n",
       "                Volume   Adj Close  \n",
       "Date                                \n",
       "2010-01-04  38409100.0   23.855656  \n",
       "2010-01-05  49749600.0   23.863363  \n",
       "2010-01-06  58182400.0   23.716919  \n",
       "2010-01-07  50559700.0   23.470272  \n",
       "2010-01-08  51197400.0   23.632130  \n",
       "...                ...         ...  \n",
       "2020-12-24  10550600.0  220.442551  \n",
       "2020-12-28  17933500.0  222.629654  \n",
       "2020-12-29  17403200.0  221.828049  \n",
       "2020-12-30  20272300.0  219.383621  \n",
       "2020-12-31  20942100.0  220.115952  \n",
       "\n",
       "[2769 rows x 7 columns]"
      ]
     },
     "execution_count": 96,
     "metadata": {},
     "output_type": "execute_result"
    }
   ],
   "source": [
    "stocks"
   ]
  },
  {
   "cell_type": "markdown",
   "metadata": {},
   "source": [
    "Adding a Column showing if is the day is at the start of the month or not"
   ]
  },
  {
   "cell_type": "code",
   "execution_count": 100,
   "metadata": {},
   "outputs": [],
   "source": [
    "stocks.insert(1, \"Is Start of Month\", stocks.index.is_month_start)"
   ]
  },
  {
   "cell_type": "code",
   "execution_count": 101,
   "metadata": {},
   "outputs": [
    {
     "data": {
      "text/html": [
       "<div>\n",
       "<style scoped>\n",
       "    .dataframe tbody tr th:only-of-type {\n",
       "        vertical-align: middle;\n",
       "    }\n",
       "\n",
       "    .dataframe tbody tr th {\n",
       "        vertical-align: top;\n",
       "    }\n",
       "\n",
       "    .dataframe thead th {\n",
       "        text-align: right;\n",
       "    }\n",
       "</style>\n",
       "<table border=\"1\" class=\"dataframe\">\n",
       "  <thead>\n",
       "    <tr style=\"text-align: right;\">\n",
       "      <th></th>\n",
       "      <th>Day of the week</th>\n",
       "      <th>Is Start of Month</th>\n",
       "      <th>High</th>\n",
       "      <th>Low</th>\n",
       "      <th>Open</th>\n",
       "      <th>Close</th>\n",
       "      <th>Volume</th>\n",
       "      <th>Adj Close</th>\n",
       "    </tr>\n",
       "    <tr>\n",
       "      <th>Date</th>\n",
       "      <th></th>\n",
       "      <th></th>\n",
       "      <th></th>\n",
       "      <th></th>\n",
       "      <th></th>\n",
       "      <th></th>\n",
       "      <th></th>\n",
       "      <th></th>\n",
       "    </tr>\n",
       "  </thead>\n",
       "  <tbody>\n",
       "    <tr>\n",
       "      <th>2010-01-04</th>\n",
       "      <td>Monday</td>\n",
       "      <td>False</td>\n",
       "      <td>31.100000</td>\n",
       "      <td>30.590000</td>\n",
       "      <td>30.620001</td>\n",
       "      <td>30.950001</td>\n",
       "      <td>38409100.0</td>\n",
       "      <td>23.855656</td>\n",
       "    </tr>\n",
       "    <tr>\n",
       "      <th>2010-01-05</th>\n",
       "      <td>Tuesday</td>\n",
       "      <td>False</td>\n",
       "      <td>31.100000</td>\n",
       "      <td>30.639999</td>\n",
       "      <td>30.850000</td>\n",
       "      <td>30.959999</td>\n",
       "      <td>49749600.0</td>\n",
       "      <td>23.863363</td>\n",
       "    </tr>\n",
       "    <tr>\n",
       "      <th>2010-01-06</th>\n",
       "      <td>Wednesday</td>\n",
       "      <td>False</td>\n",
       "      <td>31.080000</td>\n",
       "      <td>30.520000</td>\n",
       "      <td>30.879999</td>\n",
       "      <td>30.770000</td>\n",
       "      <td>58182400.0</td>\n",
       "      <td>23.716919</td>\n",
       "    </tr>\n",
       "    <tr>\n",
       "      <th>2010-01-07</th>\n",
       "      <td>Thursday</td>\n",
       "      <td>False</td>\n",
       "      <td>30.700001</td>\n",
       "      <td>30.190001</td>\n",
       "      <td>30.629999</td>\n",
       "      <td>30.450001</td>\n",
       "      <td>50559700.0</td>\n",
       "      <td>23.470272</td>\n",
       "    </tr>\n",
       "    <tr>\n",
       "      <th>2010-01-08</th>\n",
       "      <td>Friday</td>\n",
       "      <td>False</td>\n",
       "      <td>30.879999</td>\n",
       "      <td>30.240000</td>\n",
       "      <td>30.280001</td>\n",
       "      <td>30.660000</td>\n",
       "      <td>51197400.0</td>\n",
       "      <td>23.632130</td>\n",
       "    </tr>\n",
       "    <tr>\n",
       "      <th>...</th>\n",
       "      <td>...</td>\n",
       "      <td>...</td>\n",
       "      <td>...</td>\n",
       "      <td>...</td>\n",
       "      <td>...</td>\n",
       "      <td>...</td>\n",
       "      <td>...</td>\n",
       "      <td>...</td>\n",
       "    </tr>\n",
       "    <tr>\n",
       "      <th>2020-12-24</th>\n",
       "      <td>Thursday</td>\n",
       "      <td>False</td>\n",
       "      <td>223.610001</td>\n",
       "      <td>221.199997</td>\n",
       "      <td>221.419998</td>\n",
       "      <td>222.750000</td>\n",
       "      <td>10550600.0</td>\n",
       "      <td>220.442551</td>\n",
       "    </tr>\n",
       "    <tr>\n",
       "      <th>2020-12-28</th>\n",
       "      <td>Monday</td>\n",
       "      <td>False</td>\n",
       "      <td>226.029999</td>\n",
       "      <td>223.020004</td>\n",
       "      <td>224.449997</td>\n",
       "      <td>224.960007</td>\n",
       "      <td>17933500.0</td>\n",
       "      <td>222.629654</td>\n",
       "    </tr>\n",
       "    <tr>\n",
       "      <th>2020-12-29</th>\n",
       "      <td>Tuesday</td>\n",
       "      <td>False</td>\n",
       "      <td>227.179993</td>\n",
       "      <td>223.580002</td>\n",
       "      <td>226.309998</td>\n",
       "      <td>224.149994</td>\n",
       "      <td>17403200.0</td>\n",
       "      <td>221.828049</td>\n",
       "    </tr>\n",
       "    <tr>\n",
       "      <th>2020-12-30</th>\n",
       "      <td>Wednesday</td>\n",
       "      <td>False</td>\n",
       "      <td>225.630005</td>\n",
       "      <td>221.470001</td>\n",
       "      <td>225.229996</td>\n",
       "      <td>221.679993</td>\n",
       "      <td>20272300.0</td>\n",
       "      <td>219.383621</td>\n",
       "    </tr>\n",
       "    <tr>\n",
       "      <th>2020-12-31</th>\n",
       "      <td>Thursday</td>\n",
       "      <td>False</td>\n",
       "      <td>223.000000</td>\n",
       "      <td>219.679993</td>\n",
       "      <td>221.699997</td>\n",
       "      <td>222.419998</td>\n",
       "      <td>20942100.0</td>\n",
       "      <td>220.115952</td>\n",
       "    </tr>\n",
       "  </tbody>\n",
       "</table>\n",
       "<p>2769 rows × 8 columns</p>\n",
       "</div>"
      ],
      "text/plain": [
       "           Day of the week  Is Start of Month        High         Low  \\\n",
       "Date                                                                    \n",
       "2010-01-04          Monday              False   31.100000   30.590000   \n",
       "2010-01-05         Tuesday              False   31.100000   30.639999   \n",
       "2010-01-06       Wednesday              False   31.080000   30.520000   \n",
       "2010-01-07        Thursday              False   30.700001   30.190001   \n",
       "2010-01-08          Friday              False   30.879999   30.240000   \n",
       "...                    ...                ...         ...         ...   \n",
       "2020-12-24        Thursday              False  223.610001  221.199997   \n",
       "2020-12-28          Monday              False  226.029999  223.020004   \n",
       "2020-12-29         Tuesday              False  227.179993  223.580002   \n",
       "2020-12-30       Wednesday              False  225.630005  221.470001   \n",
       "2020-12-31        Thursday              False  223.000000  219.679993   \n",
       "\n",
       "                  Open       Close      Volume   Adj Close  \n",
       "Date                                                        \n",
       "2010-01-04   30.620001   30.950001  38409100.0   23.855656  \n",
       "2010-01-05   30.850000   30.959999  49749600.0   23.863363  \n",
       "2010-01-06   30.879999   30.770000  58182400.0   23.716919  \n",
       "2010-01-07   30.629999   30.450001  50559700.0   23.470272  \n",
       "2010-01-08   30.280001   30.660000  51197400.0   23.632130  \n",
       "...                ...         ...         ...         ...  \n",
       "2020-12-24  221.419998  222.750000  10550600.0  220.442551  \n",
       "2020-12-28  224.449997  224.960007  17933500.0  222.629654  \n",
       "2020-12-29  226.309998  224.149994  17403200.0  221.828049  \n",
       "2020-12-30  225.229996  221.679993  20272300.0  219.383621  \n",
       "2020-12-31  221.699997  222.419998  20942100.0  220.115952  \n",
       "\n",
       "[2769 rows x 8 columns]"
      ]
     },
     "execution_count": 101,
     "metadata": {},
     "output_type": "execute_result"
    }
   ],
   "source": [
    "stocks"
   ]
  },
  {
   "cell_type": "code",
   "execution_count": 102,
   "metadata": {},
   "outputs": [
    {
     "data": {
      "text/html": [
       "<div>\n",
       "<style scoped>\n",
       "    .dataframe tbody tr th:only-of-type {\n",
       "        vertical-align: middle;\n",
       "    }\n",
       "\n",
       "    .dataframe tbody tr th {\n",
       "        vertical-align: top;\n",
       "    }\n",
       "\n",
       "    .dataframe thead th {\n",
       "        text-align: right;\n",
       "    }\n",
       "</style>\n",
       "<table border=\"1\" class=\"dataframe\">\n",
       "  <thead>\n",
       "    <tr style=\"text-align: right;\">\n",
       "      <th></th>\n",
       "      <th>Day of the week</th>\n",
       "      <th>Is Start of Month</th>\n",
       "      <th>High</th>\n",
       "      <th>Low</th>\n",
       "      <th>Open</th>\n",
       "      <th>Close</th>\n",
       "      <th>Volume</th>\n",
       "      <th>Adj Close</th>\n",
       "    </tr>\n",
       "    <tr>\n",
       "      <th>Date</th>\n",
       "      <th></th>\n",
       "      <th></th>\n",
       "      <th></th>\n",
       "      <th></th>\n",
       "      <th></th>\n",
       "      <th></th>\n",
       "      <th></th>\n",
       "      <th></th>\n",
       "    </tr>\n",
       "  </thead>\n",
       "  <tbody>\n",
       "    <tr>\n",
       "      <th>2010-02-01</th>\n",
       "      <td>Monday</td>\n",
       "      <td>True</td>\n",
       "      <td>28.480000</td>\n",
       "      <td>27.920000</td>\n",
       "      <td>28.389999</td>\n",
       "      <td>28.410000</td>\n",
       "      <td>85931100.0</td>\n",
       "      <td>21.897869</td>\n",
       "    </tr>\n",
       "    <tr>\n",
       "      <th>2010-03-01</th>\n",
       "      <td>Monday</td>\n",
       "      <td>True</td>\n",
       "      <td>29.049999</td>\n",
       "      <td>28.530001</td>\n",
       "      <td>28.770000</td>\n",
       "      <td>29.020000</td>\n",
       "      <td>43805400.0</td>\n",
       "      <td>22.472652</td>\n",
       "    </tr>\n",
       "    <tr>\n",
       "      <th>2010-04-01</th>\n",
       "      <td>Thursday</td>\n",
       "      <td>True</td>\n",
       "      <td>29.540001</td>\n",
       "      <td>28.620001</td>\n",
       "      <td>29.350000</td>\n",
       "      <td>29.160000</td>\n",
       "      <td>74768100.0</td>\n",
       "      <td>22.581066</td>\n",
       "    </tr>\n",
       "    <tr>\n",
       "      <th>2010-06-01</th>\n",
       "      <td>Tuesday</td>\n",
       "      <td>True</td>\n",
       "      <td>26.309999</td>\n",
       "      <td>25.520000</td>\n",
       "      <td>25.530001</td>\n",
       "      <td>25.889999</td>\n",
       "      <td>76152400.0</td>\n",
       "      <td>20.139290</td>\n",
       "    </tr>\n",
       "    <tr>\n",
       "      <th>2010-07-01</th>\n",
       "      <td>Thursday</td>\n",
       "      <td>True</td>\n",
       "      <td>23.320000</td>\n",
       "      <td>22.730000</td>\n",
       "      <td>23.090000</td>\n",
       "      <td>23.160000</td>\n",
       "      <td>92239400.0</td>\n",
       "      <td>18.015680</td>\n",
       "    </tr>\n",
       "    <tr>\n",
       "      <th>...</th>\n",
       "      <td>...</td>\n",
       "      <td>...</td>\n",
       "      <td>...</td>\n",
       "      <td>...</td>\n",
       "      <td>...</td>\n",
       "      <td>...</td>\n",
       "      <td>...</td>\n",
       "      <td>...</td>\n",
       "    </tr>\n",
       "    <tr>\n",
       "      <th>2020-06-01</th>\n",
       "      <td>Monday</td>\n",
       "      <td>True</td>\n",
       "      <td>183.000000</td>\n",
       "      <td>181.460007</td>\n",
       "      <td>182.539993</td>\n",
       "      <td>182.830002</td>\n",
       "      <td>22622400.0</td>\n",
       "      <td>180.028442</td>\n",
       "    </tr>\n",
       "    <tr>\n",
       "      <th>2020-07-01</th>\n",
       "      <td>Wednesday</td>\n",
       "      <td>True</td>\n",
       "      <td>206.350006</td>\n",
       "      <td>201.770004</td>\n",
       "      <td>203.139999</td>\n",
       "      <td>204.699997</td>\n",
       "      <td>32061200.0</td>\n",
       "      <td>201.563309</td>\n",
       "    </tr>\n",
       "    <tr>\n",
       "      <th>2020-09-01</th>\n",
       "      <td>Tuesday</td>\n",
       "      <td>True</td>\n",
       "      <td>227.449997</td>\n",
       "      <td>224.429993</td>\n",
       "      <td>225.509995</td>\n",
       "      <td>227.270004</td>\n",
       "      <td>25725500.0</td>\n",
       "      <td>224.328430</td>\n",
       "    </tr>\n",
       "    <tr>\n",
       "      <th>2020-10-01</th>\n",
       "      <td>Thursday</td>\n",
       "      <td>True</td>\n",
       "      <td>213.990005</td>\n",
       "      <td>211.320007</td>\n",
       "      <td>213.490005</td>\n",
       "      <td>212.460007</td>\n",
       "      <td>27158400.0</td>\n",
       "      <td>209.710129</td>\n",
       "    </tr>\n",
       "    <tr>\n",
       "      <th>2020-12-01</th>\n",
       "      <td>Tuesday</td>\n",
       "      <td>True</td>\n",
       "      <td>217.320007</td>\n",
       "      <td>213.350006</td>\n",
       "      <td>214.509995</td>\n",
       "      <td>216.210007</td>\n",
       "      <td>30904500.0</td>\n",
       "      <td>213.970306</td>\n",
       "    </tr>\n",
       "  </tbody>\n",
       "</table>\n",
       "<p>85 rows × 8 columns</p>\n",
       "</div>"
      ],
      "text/plain": [
       "           Day of the week  Is Start of Month        High         Low  \\\n",
       "Date                                                                    \n",
       "2010-02-01          Monday               True   28.480000   27.920000   \n",
       "2010-03-01          Monday               True   29.049999   28.530001   \n",
       "2010-04-01        Thursday               True   29.540001   28.620001   \n",
       "2010-06-01         Tuesday               True   26.309999   25.520000   \n",
       "2010-07-01        Thursday               True   23.320000   22.730000   \n",
       "...                    ...                ...         ...         ...   \n",
       "2020-06-01          Monday               True  183.000000  181.460007   \n",
       "2020-07-01       Wednesday               True  206.350006  201.770004   \n",
       "2020-09-01         Tuesday               True  227.449997  224.429993   \n",
       "2020-10-01        Thursday               True  213.990005  211.320007   \n",
       "2020-12-01         Tuesday               True  217.320007  213.350006   \n",
       "\n",
       "                  Open       Close      Volume   Adj Close  \n",
       "Date                                                        \n",
       "2010-02-01   28.389999   28.410000  85931100.0   21.897869  \n",
       "2010-03-01   28.770000   29.020000  43805400.0   22.472652  \n",
       "2010-04-01   29.350000   29.160000  74768100.0   22.581066  \n",
       "2010-06-01   25.530001   25.889999  76152400.0   20.139290  \n",
       "2010-07-01   23.090000   23.160000  92239400.0   18.015680  \n",
       "...                ...         ...         ...         ...  \n",
       "2020-06-01  182.539993  182.830002  22622400.0  180.028442  \n",
       "2020-07-01  203.139999  204.699997  32061200.0  201.563309  \n",
       "2020-09-01  225.509995  227.270004  25725500.0  224.328430  \n",
       "2020-10-01  213.490005  212.460007  27158400.0  209.710129  \n",
       "2020-12-01  214.509995  216.210007  30904500.0  213.970306  \n",
       "\n",
       "[85 rows x 8 columns]"
      ]
     },
     "execution_count": 102,
     "metadata": {},
     "output_type": "execute_result"
    }
   ],
   "source": [
    "stocks[stocks[\"Is Start of Month\"]]"
   ]
  },
  {
   "cell_type": "markdown",
   "metadata": {},
   "source": [
    "## The pd.dateOffset Object"
   ]
  },
  {
   "cell_type": "code",
   "execution_count": 103,
   "metadata": {},
   "outputs": [
    {
     "data": {
      "text/html": [
       "<div>\n",
       "<style scoped>\n",
       "    .dataframe tbody tr th:only-of-type {\n",
       "        vertical-align: middle;\n",
       "    }\n",
       "\n",
       "    .dataframe tbody tr th {\n",
       "        vertical-align: top;\n",
       "    }\n",
       "\n",
       "    .dataframe thead th {\n",
       "        text-align: right;\n",
       "    }\n",
       "</style>\n",
       "<table border=\"1\" class=\"dataframe\">\n",
       "  <thead>\n",
       "    <tr style=\"text-align: right;\">\n",
       "      <th></th>\n",
       "      <th>High</th>\n",
       "      <th>Low</th>\n",
       "      <th>Open</th>\n",
       "      <th>Close</th>\n",
       "      <th>Volume</th>\n",
       "      <th>Adj Close</th>\n",
       "    </tr>\n",
       "    <tr>\n",
       "      <th>Date</th>\n",
       "      <th></th>\n",
       "      <th></th>\n",
       "      <th></th>\n",
       "      <th></th>\n",
       "      <th></th>\n",
       "      <th></th>\n",
       "    </tr>\n",
       "  </thead>\n",
       "  <tbody>\n",
       "    <tr>\n",
       "      <th>2010-01-04</th>\n",
       "      <td>31.10</td>\n",
       "      <td>30.590000</td>\n",
       "      <td>30.620001</td>\n",
       "      <td>30.950001</td>\n",
       "      <td>38409100.0</td>\n",
       "      <td>23.855654</td>\n",
       "    </tr>\n",
       "    <tr>\n",
       "      <th>2010-01-05</th>\n",
       "      <td>31.10</td>\n",
       "      <td>30.639999</td>\n",
       "      <td>30.850000</td>\n",
       "      <td>30.959999</td>\n",
       "      <td>49749600.0</td>\n",
       "      <td>23.863363</td>\n",
       "    </tr>\n",
       "    <tr>\n",
       "      <th>2010-01-06</th>\n",
       "      <td>31.08</td>\n",
       "      <td>30.520000</td>\n",
       "      <td>30.879999</td>\n",
       "      <td>30.770000</td>\n",
       "      <td>58182400.0</td>\n",
       "      <td>23.716911</td>\n",
       "    </tr>\n",
       "  </tbody>\n",
       "</table>\n",
       "</div>"
      ],
      "text/plain": [
       "             High        Low       Open      Close      Volume  Adj Close\n",
       "Date                                                                     \n",
       "2010-01-04  31.10  30.590000  30.620001  30.950001  38409100.0  23.855654\n",
       "2010-01-05  31.10  30.639999  30.850000  30.959999  49749600.0  23.863363\n",
       "2010-01-06  31.08  30.520000  30.879999  30.770000  58182400.0  23.716911"
      ]
     },
     "execution_count": 103,
     "metadata": {},
     "output_type": "execute_result"
    }
   ],
   "source": [
    "stocks = data.DataReader(name= \"MSFT\", data_source= \"yahoo\", start=\"2010-01-01\", end= \"2020-12-31\") # Microsoft stock history - Getting data from Yahoo Finances\n",
    "stocks.head(3)"
   ]
  },
  {
   "cell_type": "markdown",
   "metadata": {},
   "source": [
    "Adding a certain time of days to the values of the DataFrame"
   ]
  },
  {
   "cell_type": "code",
   "execution_count": 107,
   "metadata": {},
   "outputs": [
    {
     "data": {
      "text/plain": [
       "DatetimeIndex(['2009-12-30', '2009-12-31', '2010-01-01', '2010-01-02',\n",
       "               '2010-01-03', '2010-01-06', '2010-01-07', '2010-01-08',\n",
       "               '2010-01-09', '2010-01-10',\n",
       "               ...\n",
       "               '2020-12-12', '2020-12-13', '2020-12-16', '2020-12-17',\n",
       "               '2020-12-18', '2020-12-19', '2020-12-23', '2020-12-24',\n",
       "               '2020-12-25', '2020-12-26'],\n",
       "              dtype='datetime64[ns]', name='Date', length=2769, freq=None)"
      ]
     },
     "execution_count": 107,
     "metadata": {},
     "output_type": "execute_result"
    }
   ],
   "source": [
    "stocks[\"High\"] + 5 # Can be done\n",
    "#stocks.index + 5 # Do we mean 5 years/months/dates/minutes? Pandas doesn't know how to respond\n",
    "\n",
    "# The two options below will work normally\n",
    "stocks.index + pd.DateOffset(days = 5)\n",
    "stocks.index - pd.DateOffset(days = 5)\n",
    "\n",
    "#stocks.index = stocks.index - pd.DateOffset(days = 5)"
   ]
  },
  {
   "cell_type": "code",
   "execution_count": 118,
   "metadata": {},
   "outputs": [
    {
     "data": {
      "text/plain": [
       "DatetimeIndex(['2011-04-14 06:02:40', '2011-04-15 06:02:40',\n",
       "               '2011-04-16 06:02:40', '2011-04-17 06:02:40',\n",
       "               '2011-04-18 06:02:40', '2011-04-21 06:02:40',\n",
       "               '2011-04-22 06:02:40', '2011-04-23 06:02:40',\n",
       "               '2011-04-24 06:02:40', '2011-04-25 06:02:40',\n",
       "               ...\n",
       "               '2022-03-27 06:02:40', '2022-03-28 06:02:40',\n",
       "               '2022-03-31 06:02:40', '2022-04-01 06:02:40',\n",
       "               '2022-04-02 06:02:40', '2022-04-03 06:02:40',\n",
       "               '2022-04-07 06:02:40', '2022-04-08 06:02:40',\n",
       "               '2022-04-09 06:02:40', '2022-04-10 06:02:40'],\n",
       "              dtype='datetime64[ns]', name='Date', length=2769, freq=None)"
      ]
     },
     "execution_count": 118,
     "metadata": {},
     "output_type": "execute_result"
    }
   ],
   "source": [
    "stocks.index + pd.DateOffset(weeks = 2)\n",
    "stocks.index - pd.DateOffset(weeks = 3)\n",
    "\n",
    "stocks.index + pd.DateOffset(months = 2)\n",
    "stocks.index - pd.DateOffset(months = 3)\n",
    "\n",
    "stocks.index + pd.DateOffset(years = 3)\n",
    "stocks.index - pd.DateOffset(years = 3)\n",
    "\n",
    "# We can mix the parameters\n",
    "stocks.index + pd.DateOffset(years = 1, months = 3, days = 10, hours = 6, minutes = 2, seconds = 40)"
   ]
  }
 ],
 "metadata": {
  "interpreter": {
   "hash": "510b6b8e1d84b453a7d8ac1c7d32df47bbc012607103dc3aad555362b3de02a8"
  },
  "kernelspec": {
   "display_name": "Python 3.9.7 ('pandas_playground')",
   "language": "python",
   "name": "python3"
  },
  "language_info": {
   "codemirror_mode": {
    "name": "ipython",
    "version": 3
   },
   "file_extension": ".py",
   "mimetype": "text/x-python",
   "name": "python",
   "nbconvert_exporter": "python",
   "pygments_lexer": "ipython3",
   "version": "3.9.7"
  },
  "orig_nbformat": 4
 },
 "nbformat": 4,
 "nbformat_minor": 2
}
