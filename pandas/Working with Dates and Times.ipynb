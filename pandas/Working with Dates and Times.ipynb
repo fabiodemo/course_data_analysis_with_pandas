{
 "cells": [
  {
   "cell_type": "markdown",
   "metadata": {},
   "source": [
    "## Intro to the Working with Dates and Times Module"
   ]
  },
  {
   "cell_type": "code",
   "execution_count": 1,
   "metadata": {},
   "outputs": [],
   "source": [
    "import pandas as pd\n",
    "import datetime as dt"
   ]
  },
  {
   "cell_type": "markdown",
   "metadata": {},
   "source": [
    "## Review of Python's datetime Module"
   ]
  },
  {
   "cell_type": "code",
   "execution_count": 9,
   "metadata": {},
   "outputs": [],
   "source": [
    "#dt.date(yyyy, MM, dd)\n",
    "dt.date(2016, 4, 12) # April 12th 2016\n",
    "someday = dt.date(2010, 1, 20) # January 1st 2010"
   ]
  },
  {
   "cell_type": "code",
   "execution_count": 10,
   "metadata": {},
   "outputs": [
    {
     "data": {
      "text/plain": [
       "20"
      ]
     },
     "execution_count": 10,
     "metadata": {},
     "output_type": "execute_result"
    }
   ],
   "source": [
    "someday.year\n",
    "someday.month\n",
    "someday.day"
   ]
  },
  {
   "cell_type": "markdown",
   "metadata": {},
   "source": [
    "Datetime must have a time, or will be set to midnight"
   ]
  },
  {
   "cell_type": "code",
   "execution_count": 12,
   "metadata": {},
   "outputs": [
    {
     "data": {
      "text/plain": [
       "datetime.datetime(2010, 1, 20, 0, 0)"
      ]
     },
     "execution_count": 12,
     "metadata": {},
     "output_type": "execute_result"
    }
   ],
   "source": [
    "dt.datetime(2010, 1, 20)"
   ]
  },
  {
   "cell_type": "code",
   "execution_count": 14,
   "metadata": {},
   "outputs": [
    {
     "data": {
      "text/plain": [
       "datetime.datetime(2010, 1, 10, 8, 13, 57)"
      ]
     },
     "execution_count": 14,
     "metadata": {},
     "output_type": "execute_result"
    }
   ],
   "source": [
    "dt.datetime(2010, 1, 10, 8, 13, 57)"
   ]
  },
  {
   "cell_type": "markdown",
   "metadata": {},
   "source": [
    "In the afternoon, we will need the military time"
   ]
  },
  {
   "cell_type": "code",
   "execution_count": 17,
   "metadata": {},
   "outputs": [
    {
     "data": {
      "text/plain": [
       "'2010-01-10 17:13:57'"
      ]
     },
     "execution_count": 17,
     "metadata": {},
     "output_type": "execute_result"
    }
   ],
   "source": [
    "str(dt.datetime(2010, 1, 10, 17, 13, 57))"
   ]
  },
  {
   "cell_type": "code",
   "execution_count": 18,
   "metadata": {},
   "outputs": [],
   "source": [
    "sometime = dt.datetime(2010, 1, 10, 17, 13, 57)"
   ]
  },
  {
   "cell_type": "code",
   "execution_count": 19,
   "metadata": {},
   "outputs": [
    {
     "data": {
      "text/plain": [
       "57"
      ]
     },
     "execution_count": 19,
     "metadata": {},
     "output_type": "execute_result"
    }
   ],
   "source": [
    "sometime.year\n",
    "sometime.month\n",
    "sometime.day\n",
    "sometime.hour\n",
    "sometime.minute\n",
    "sometime.second"
   ]
  },
  {
   "cell_type": "markdown",
   "metadata": {},
   "source": [
    "## The pandas Timestamp Object"
   ]
  },
  {
   "cell_type": "code",
   "execution_count": 26,
   "metadata": {},
   "outputs": [
    {
     "data": {
      "text/plain": [
       "Timestamp('2000-04-03 00:00:00')"
      ]
     },
     "execution_count": 26,
     "metadata": {},
     "output_type": "execute_result"
    }
   ],
   "source": [
    "pd.Timestamp('2010-01-10')\n",
    "pd.Timestamp('2015/01/31')\n",
    "pd.Timestamp('01/01/2015')\n",
    "pd.Timestamp('2014, 11, 04')\n",
    "pd.Timestamp('19/12/2015') # Becareful with these two formats\n",
    "pd.Timestamp('12/19/2015') #\n",
    "pd.Timestamp('4/3/2000') # or this could happen"
   ]
  },
  {
   "cell_type": "code",
   "execution_count": 29,
   "metadata": {},
   "outputs": [
    {
     "data": {
      "text/plain": [
       "Timestamp('2010-01-10 18:13:15')"
      ]
     },
     "execution_count": 29,
     "metadata": {},
     "output_type": "execute_result"
    }
   ],
   "source": [
    "pd.Timestamp('2010-01-10 08:35:15')\n",
    "pd.Timestamp('2010-01-10 6:13:15 PM')"
   ]
  },
  {
   "cell_type": "code",
   "execution_count": 30,
   "metadata": {},
   "outputs": [
    {
     "data": {
      "text/plain": [
       "Timestamp('2015-01-01 00:00:00')"
      ]
     },
     "execution_count": 30,
     "metadata": {},
     "output_type": "execute_result"
    }
   ],
   "source": [
    "pd.Timestamp(dt.date(2015,1,1))"
   ]
  },
  {
   "cell_type": "code",
   "execution_count": 33,
   "metadata": {},
   "outputs": [
    {
     "data": {
      "text/plain": [
       "Timestamp('2020-03-14 21:34:33')"
      ]
     },
     "execution_count": 33,
     "metadata": {},
     "output_type": "execute_result"
    }
   ],
   "source": [
    "pd.Timestamp(dt.datetime(2020,3,14, 21, 34, 33))"
   ]
  },
  {
   "cell_type": "markdown",
   "metadata": {},
   "source": [
    "## The pandas DateTimeIndex Object"
   ]
  },
  {
   "cell_type": "code",
   "execution_count": 36,
   "metadata": {},
   "outputs": [
    {
     "data": {
      "text/plain": [
       "DatetimeIndex(['2016-01-02', '2016-03-12', '2009-09-07'], dtype='datetime64[ns]', freq=None)"
      ]
     },
     "execution_count": 36,
     "metadata": {},
     "output_type": "execute_result"
    }
   ],
   "source": [
    "dates =[\"2016-01-02\", \"2016-03-12\", \"2009-09-07\"]\n",
    "pd.DatetimeIndex(dates)"
   ]
  },
  {
   "cell_type": "code",
   "execution_count": 37,
   "metadata": {},
   "outputs": [
    {
     "data": {
      "text/plain": [
       "DatetimeIndex(['2016-01-02', '2016-03-12', '2009-09-07'], dtype='datetime64[ns]', freq=None)"
      ]
     },
     "execution_count": 37,
     "metadata": {},
     "output_type": "execute_result"
    }
   ],
   "source": [
    "dates =[\"2016/01/02\", \"2016/03/12\", \"2009/09/07\"]\n",
    "pd.DatetimeIndex(dates)"
   ]
  },
  {
   "cell_type": "code",
   "execution_count": 43,
   "metadata": {},
   "outputs": [],
   "source": [
    "dates = [dt.date(2016, 1, 10), dt.date(1994, 6, 14), dt.date(2003, 12, 29)]\n",
    "dt_index = pd.DatetimeIndex(dates)"
   ]
  },
  {
   "cell_type": "code",
   "execution_count": 45,
   "metadata": {},
   "outputs": [
    {
     "data": {
      "text/plain": [
       "2016-01-10    100\n",
       "1994-06-14    200\n",
       "2003-12-29    300\n",
       "dtype: int64"
      ]
     },
     "execution_count": 45,
     "metadata": {},
     "output_type": "execute_result"
    }
   ],
   "source": [
    "values = [100, 200, 300]\n",
    "pd.Series(data = values, index = dt_index)"
   ]
  },
  {
   "cell_type": "markdown",
   "metadata": {},
   "source": [
    "## The pd.to_datetime() Method"
   ]
  },
  {
   "cell_type": "code",
   "execution_count": 49,
   "metadata": {},
   "outputs": [
    {
     "data": {
      "text/plain": [
       "DatetimeIndex(['2015-01-03', '2014-02-08', '2016-01-01', '1996-05-04'], dtype='datetime64[ns]', freq=None)"
      ]
     },
     "execution_count": 49,
     "metadata": {},
     "output_type": "execute_result"
    }
   ],
   "source": [
    "pd.to_datetime(\"2001-04-19\")\n",
    "pd.to_datetime(dt.date(2015,1, 1))\n",
    "pd.to_datetime(dt.datetime(2015, 1, 1, 14, 25, 20))\n",
    "pd.to_datetime((\"2015-01-03\", \"2014/02/08\", \"2016\", \"May 4th, 1996\"))"
   ]
  },
  {
   "cell_type": "code",
   "execution_count": 52,
   "metadata": {},
   "outputs": [
    {
     "data": {
      "text/plain": [
       "0       2015-01-03\n",
       "1       2014/02/08\n",
       "2             2016\n",
       "3    May 4th, 1996\n",
       "dtype: object"
      ]
     },
     "execution_count": 52,
     "metadata": {},
     "output_type": "execute_result"
    }
   ],
   "source": [
    "times = pd.Series([\"2015-01-03\", \"2014/02/08\", \"2016\", \"May 4th, 1996\"])\n",
    "times"
   ]
  },
  {
   "cell_type": "markdown",
   "metadata": {},
   "source": [
    "Convert dates to datetime, maintaning the same format (yyyy-MM-dd)"
   ]
  },
  {
   "cell_type": "code",
   "execution_count": 53,
   "metadata": {},
   "outputs": [
    {
     "data": {
      "text/plain": [
       "0   2015-01-03\n",
       "1   2014-02-08\n",
       "2   2016-01-01\n",
       "3   1996-05-04\n",
       "dtype: datetime64[ns]"
      ]
     },
     "execution_count": 53,
     "metadata": {},
     "output_type": "execute_result"
    }
   ],
   "source": [
    "pd.to_datetime(times)"
   ]
  },
  {
   "cell_type": "code",
   "execution_count": 56,
   "metadata": {},
   "outputs": [
    {
     "data": {
      "text/plain": [
       "0    July 5th, 1996\n",
       "1        10/04/1992\n",
       "2             Hello\n",
       "3        2015-02-31\n",
       "dtype: object"
      ]
     },
     "execution_count": 56,
     "metadata": {},
     "output_type": "execute_result"
    }
   ],
   "source": [
    "dates = pd.Series([\"July 5th, 1996\", \"10/04/1992\", \"Hello\", \"2015-02-31\"])\n",
    "dates"
   ]
  },
  {
   "cell_type": "markdown",
   "metadata": {},
   "source": [
    "Parameter that raise errors if there is a incompatible data"
   ]
  },
  {
   "cell_type": "markdown",
   "metadata": {},
   "source": [
    "So we use coerce to convert to datetime, and everything that is not datetime will be NaT (Not a Time)"
   ]
  },
  {
   "cell_type": "code",
   "execution_count": 58,
   "metadata": {},
   "outputs": [
    {
     "data": {
      "text/plain": [
       "0   1996-07-05\n",
       "1   1992-10-04\n",
       "2          NaT\n",
       "3          NaT\n",
       "dtype: datetime64[ns]"
      ]
     },
     "execution_count": 58,
     "metadata": {},
     "output_type": "execute_result"
    }
   ],
   "source": [
    "pd.to_datetime(dates, errors= \"coerce\")"
   ]
  },
  {
   "cell_type": "markdown",
   "metadata": {},
   "source": [
    "UNIX TIME IN DATETIME"
   ]
  },
  {
   "cell_type": "code",
   "execution_count": 65,
   "metadata": {},
   "outputs": [],
   "source": [
    "pd.to_datetime([1577836800, 1798761600,1830297600, 1861920000], unit=\"s\")"
   ]
  },
  {
   "cell_type": "markdown",
   "metadata": {},
   "source": [
    "## Create Range of Dates with the pd.date_range Method - Part I"
   ]
  },
  {
   "cell_type": "markdown",
   "metadata": {},
   "source": [
    "Freq = \"d\" = DAY"
   ]
  },
  {
   "cell_type": "code",
   "execution_count": 66,
   "metadata": {},
   "outputs": [],
   "source": [
    "times =  pd.date_range(start = \"2016-01-01\", end = \"2016-01-10\", freq = \"D\")"
   ]
  },
  {
   "cell_type": "code",
   "execution_count": 67,
   "metadata": {},
   "outputs": [
    {
     "data": {
      "text/plain": [
       "pandas.core.indexes.datetimes.DatetimeIndex"
      ]
     },
     "execution_count": 67,
     "metadata": {},
     "output_type": "execute_result"
    }
   ],
   "source": [
    "type(times)"
   ]
  },
  {
   "cell_type": "code",
   "execution_count": 68,
   "metadata": {},
   "outputs": [
    {
     "data": {
      "text/plain": [
       "pandas._libs.tslibs.timestamps.Timestamp"
      ]
     },
     "execution_count": 68,
     "metadata": {},
     "output_type": "execute_result"
    }
   ],
   "source": [
    "type(times[0])"
   ]
  },
  {
   "cell_type": "code",
   "execution_count": 70,
   "metadata": {},
   "outputs": [
    {
     "data": {
      "text/plain": [
       "DatetimeIndex(['2016-01-01', '2016-01-03', '2016-01-05', '2016-01-07',\n",
       "               '2016-01-09'],\n",
       "              dtype='datetime64[ns]', freq='2D')"
      ]
     },
     "execution_count": 70,
     "metadata": {},
     "output_type": "execute_result"
    }
   ],
   "source": [
    "pd.date_range(start = \"2016-01-01\", end = \"2016-01-10\", freq = \"2D\") #increment of 2days"
   ]
  },
  {
   "cell_type": "code",
   "execution_count": 89,
   "metadata": {},
   "outputs": [
    {
     "data": {
      "text/plain": [
       "DatetimeIndex(['2016-01-01', '2016-01-04', '2016-01-05', '2016-01-06',\n",
       "               '2016-01-07', '2016-01-08'],\n",
       "              dtype='datetime64[ns]', freq='B')"
      ]
     },
     "execution_count": 89,
     "metadata": {},
     "output_type": "execute_result"
    }
   ],
   "source": [
    "pd.date_range(start = \"2016-01-01\", end = \"2016-01-10\", freq = \"B\") # B will be just business days"
   ]
  },
  {
   "cell_type": "code",
   "execution_count": 74,
   "metadata": {},
   "outputs": [
    {
     "data": {
      "text/plain": [
       "DatetimeIndex(['2016-01-01', '2016-01-08'], dtype='datetime64[ns]', freq='W-FRI')"
      ]
     },
     "execution_count": 74,
     "metadata": {},
     "output_type": "execute_result"
    }
   ],
   "source": [
    "pd.date_range(start = \"2016-01-01\", end = \"2016-01-10\", freq = \"W-FRI\") # Just friday of each week"
   ]
  },
  {
   "cell_type": "code",
   "execution_count": 75,
   "metadata": {},
   "outputs": [
    {
     "data": {
      "text/plain": [
       "DatetimeIndex(['2016-01-01 00:00:00', '2016-01-01 01:00:00',\n",
       "               '2016-01-01 02:00:00', '2016-01-01 03:00:00',\n",
       "               '2016-01-01 04:00:00', '2016-01-01 05:00:00',\n",
       "               '2016-01-01 06:00:00', '2016-01-01 07:00:00',\n",
       "               '2016-01-01 08:00:00', '2016-01-01 09:00:00',\n",
       "               ...\n",
       "               '2016-01-09 15:00:00', '2016-01-09 16:00:00',\n",
       "               '2016-01-09 17:00:00', '2016-01-09 18:00:00',\n",
       "               '2016-01-09 19:00:00', '2016-01-09 20:00:00',\n",
       "               '2016-01-09 21:00:00', '2016-01-09 22:00:00',\n",
       "               '2016-01-09 23:00:00', '2016-01-10 00:00:00'],\n",
       "              dtype='datetime64[ns]', length=217, freq='H')"
      ]
     },
     "execution_count": 75,
     "metadata": {},
     "output_type": "execute_result"
    }
   ],
   "source": [
    "pd.date_range(start = \"2016-01-01\", end = \"2016-01-10\", freq = \"H\") # H -> Every single hour"
   ]
  },
  {
   "cell_type": "code",
   "execution_count": 76,
   "metadata": {},
   "outputs": [
    {
     "data": {
      "text/plain": [
       "DatetimeIndex(['2016-01-01 00:00:00', '2016-01-01 12:00:00',\n",
       "               '2016-01-02 00:00:00', '2016-01-02 12:00:00',\n",
       "               '2016-01-03 00:00:00', '2016-01-03 12:00:00',\n",
       "               '2016-01-04 00:00:00', '2016-01-04 12:00:00',\n",
       "               '2016-01-05 00:00:00', '2016-01-05 12:00:00',\n",
       "               '2016-01-06 00:00:00', '2016-01-06 12:00:00',\n",
       "               '2016-01-07 00:00:00', '2016-01-07 12:00:00',\n",
       "               '2016-01-08 00:00:00', '2016-01-08 12:00:00',\n",
       "               '2016-01-09 00:00:00', '2016-01-09 12:00:00',\n",
       "               '2016-01-10 00:00:00'],\n",
       "              dtype='datetime64[ns]', freq='12H')"
      ]
     },
     "execution_count": 76,
     "metadata": {},
     "output_type": "execute_result"
    }
   ],
   "source": [
    "pd.date_range(start = \"2016-01-01\", end = \"2016-01-10\", freq = \"12h\") # 12h frequency"
   ]
  },
  {
   "cell_type": "code",
   "execution_count": 80,
   "metadata": {},
   "outputs": [
    {
     "data": {
      "text/plain": [
       "DatetimeIndex(['2016-01-31', '2016-02-29', '2016-03-31', '2016-04-30',\n",
       "               '2016-05-31', '2016-06-30', '2016-07-31', '2016-08-31',\n",
       "               '2016-09-30', '2016-10-31', '2016-11-30', '2016-12-31'],\n",
       "              dtype='datetime64[ns]', freq='M')"
      ]
     },
     "execution_count": 80,
     "metadata": {},
     "output_type": "execute_result"
    }
   ],
   "source": [
    "pd.date_range(start = \"2016-01-01\", end = \"2017-01-01\", freq = \"M\") # Last day of each month"
   ]
  },
  {
   "cell_type": "code",
   "execution_count": 82,
   "metadata": {},
   "outputs": [
    {
     "data": {
      "text/plain": [
       "DatetimeIndex(['2016-01-01', '2016-02-01', '2016-03-01', '2016-04-01',\n",
       "               '2016-05-01', '2016-06-01', '2016-07-01', '2016-08-01',\n",
       "               '2016-09-01', '2016-10-01', '2016-11-01', '2016-12-01',\n",
       "               '2017-01-01'],\n",
       "              dtype='datetime64[ns]', freq='MS')"
      ]
     },
     "execution_count": 82,
     "metadata": {},
     "output_type": "execute_result"
    }
   ],
   "source": [
    "pd.date_range(start = \"2016-01-01\", end = \"2017-01-01\", freq = \"MS\") # First day of each month"
   ]
  },
  {
   "cell_type": "markdown",
   "metadata": {},
   "source": [
    "## Create Range of Dates with the pd.date_range Method - Part II"
   ]
  },
  {
   "cell_type": "markdown",
   "metadata": {},
   "source": [
    "Periods will be the number of timestamps we want to generate"
   ]
  },
  {
   "cell_type": "code",
   "execution_count": 85,
   "metadata": {},
   "outputs": [
    {
     "data": {
      "text/plain": [
       "DatetimeIndex(['2012-09-09', '2012-09-10', '2012-09-11', '2012-09-12',\n",
       "               '2012-09-13', '2012-09-14', '2012-09-15', '2012-09-16',\n",
       "               '2012-09-17', '2012-09-18', '2012-09-19', '2012-09-20',\n",
       "               '2012-09-21', '2012-09-22', '2012-09-23', '2012-09-24',\n",
       "               '2012-09-25', '2012-09-26', '2012-09-27', '2012-09-28',\n",
       "               '2012-09-29', '2012-09-30', '2012-10-01', '2012-10-02',\n",
       "               '2012-10-03'],\n",
       "              dtype='datetime64[ns]', freq='D')"
      ]
     },
     "execution_count": 85,
     "metadata": {},
     "output_type": "execute_result"
    }
   ],
   "source": [
    "pd.date_range(start= \"2012-09-09\", periods= 25, freq=\"D\")"
   ]
  },
  {
   "cell_type": "code",
   "execution_count": 87,
   "metadata": {},
   "outputs": [
    {
     "data": {
      "text/plain": [
       "25"
      ]
     },
     "execution_count": 87,
     "metadata": {},
     "output_type": "execute_result"
    }
   ],
   "source": [
    "len(pd.date_range(start= \"2012-09-09\", periods= 25, freq=\"D\"))"
   ]
  },
  {
   "cell_type": "code",
   "execution_count": 88,
   "metadata": {},
   "outputs": [
    {
     "data": {
      "text/plain": [
       "DatetimeIndex(['2012-09-10', '2012-09-11', '2012-09-12', '2012-09-13',\n",
       "               '2012-09-14', '2012-09-17', '2012-09-18', '2012-09-19',\n",
       "               '2012-09-20', '2012-09-21', '2012-09-24', '2012-09-25',\n",
       "               '2012-09-26', '2012-09-27', '2012-09-28', '2012-10-01',\n",
       "               '2012-10-02', '2012-10-03', '2012-10-04', '2012-10-05',\n",
       "               '2012-10-08', '2012-10-09', '2012-10-10', '2012-10-11',\n",
       "               '2012-10-12', '2012-10-15', '2012-10-16', '2012-10-17',\n",
       "               '2012-10-18', '2012-10-19', '2012-10-22', '2012-10-23',\n",
       "               '2012-10-24', '2012-10-25', '2012-10-26', '2012-10-29',\n",
       "               '2012-10-30', '2012-10-31', '2012-11-01', '2012-11-02',\n",
       "               '2012-11-05', '2012-11-06', '2012-11-07', '2012-11-08',\n",
       "               '2012-11-09', '2012-11-12', '2012-11-13', '2012-11-14',\n",
       "               '2012-11-15', '2012-11-16'],\n",
       "              dtype='datetime64[ns]', freq='B')"
      ]
     },
     "execution_count": 88,
     "metadata": {},
     "output_type": "execute_result"
    }
   ],
   "source": [
    "pd.date_range(start= \"2012-09-09\", periods= 50, freq=\"B\")"
   ]
  },
  {
   "cell_type": "code",
   "execution_count": 90,
   "metadata": {},
   "outputs": [
    {
     "data": {
      "text/plain": [
       "DatetimeIndex(['2012-09-09', '2012-09-16', '2012-09-23', '2012-09-30',\n",
       "               '2012-10-07', '2012-10-14', '2012-10-21', '2012-10-28',\n",
       "               '2012-11-04', '2012-11-11', '2012-11-18', '2012-11-25',\n",
       "               '2012-12-02', '2012-12-09', '2012-12-16', '2012-12-23',\n",
       "               '2012-12-30', '2013-01-06', '2013-01-13', '2013-01-20',\n",
       "               '2013-01-27', '2013-02-03', '2013-02-10', '2013-02-17',\n",
       "               '2013-02-24', '2013-03-03', '2013-03-10', '2013-03-17',\n",
       "               '2013-03-24', '2013-03-31', '2013-04-07', '2013-04-14',\n",
       "               '2013-04-21', '2013-04-28', '2013-05-05', '2013-05-12',\n",
       "               '2013-05-19', '2013-05-26', '2013-06-02', '2013-06-09',\n",
       "               '2013-06-16', '2013-06-23', '2013-06-30', '2013-07-07',\n",
       "               '2013-07-14', '2013-07-21', '2013-07-28', '2013-08-04',\n",
       "               '2013-08-11', '2013-08-18'],\n",
       "              dtype='datetime64[ns]', freq='W-SUN')"
      ]
     },
     "execution_count": 90,
     "metadata": {},
     "output_type": "execute_result"
    }
   ],
   "source": [
    "pd.date_range(start= \"2012-09-09\", periods= 50, freq=\"W\")"
   ]
  },
  {
   "cell_type": "code",
   "execution_count": 91,
   "metadata": {},
   "outputs": [
    {
     "data": {
      "text/plain": [
       "DatetimeIndex(['2012-09-11', '2012-09-18', '2012-09-25', '2012-10-02',\n",
       "               '2012-10-09', '2012-10-16', '2012-10-23', '2012-10-30',\n",
       "               '2012-11-06', '2012-11-13', '2012-11-20', '2012-11-27',\n",
       "               '2012-12-04', '2012-12-11', '2012-12-18', '2012-12-25',\n",
       "               '2013-01-01', '2013-01-08', '2013-01-15', '2013-01-22',\n",
       "               '2013-01-29', '2013-02-05', '2013-02-12', '2013-02-19',\n",
       "               '2013-02-26', '2013-03-05', '2013-03-12', '2013-03-19',\n",
       "               '2013-03-26', '2013-04-02', '2013-04-09', '2013-04-16',\n",
       "               '2013-04-23', '2013-04-30', '2013-05-07', '2013-05-14',\n",
       "               '2013-05-21', '2013-05-28', '2013-06-04', '2013-06-11',\n",
       "               '2013-06-18', '2013-06-25', '2013-07-02', '2013-07-09',\n",
       "               '2013-07-16', '2013-07-23', '2013-07-30', '2013-08-06',\n",
       "               '2013-08-13', '2013-08-20'],\n",
       "              dtype='datetime64[ns]', freq='W-TUE')"
      ]
     },
     "execution_count": 91,
     "metadata": {},
     "output_type": "execute_result"
    }
   ],
   "source": [
    "pd.date_range(start= \"2012-09-09\", periods= 50, freq=\"W-TUE\")"
   ]
  },
  {
   "cell_type": "code",
   "execution_count": 92,
   "metadata": {},
   "outputs": [
    {
     "data": {
      "text/plain": [
       "DatetimeIndex(['2012-09-09 00:00:00', '2012-09-09 06:00:00',\n",
       "               '2012-09-09 12:00:00', '2012-09-09 18:00:00',\n",
       "               '2012-09-10 00:00:00', '2012-09-10 06:00:00',\n",
       "               '2012-09-10 12:00:00', '2012-09-10 18:00:00',\n",
       "               '2012-09-11 00:00:00', '2012-09-11 06:00:00',\n",
       "               '2012-09-11 12:00:00', '2012-09-11 18:00:00',\n",
       "               '2012-09-12 00:00:00', '2012-09-12 06:00:00',\n",
       "               '2012-09-12 12:00:00', '2012-09-12 18:00:00',\n",
       "               '2012-09-13 00:00:00', '2012-09-13 06:00:00',\n",
       "               '2012-09-13 12:00:00', '2012-09-13 18:00:00',\n",
       "               '2012-09-14 00:00:00', '2012-09-14 06:00:00',\n",
       "               '2012-09-14 12:00:00', '2012-09-14 18:00:00',\n",
       "               '2012-09-15 00:00:00', '2012-09-15 06:00:00',\n",
       "               '2012-09-15 12:00:00', '2012-09-15 18:00:00',\n",
       "               '2012-09-16 00:00:00', '2012-09-16 06:00:00',\n",
       "               '2012-09-16 12:00:00', '2012-09-16 18:00:00',\n",
       "               '2012-09-17 00:00:00', '2012-09-17 06:00:00',\n",
       "               '2012-09-17 12:00:00', '2012-09-17 18:00:00',\n",
       "               '2012-09-18 00:00:00', '2012-09-18 06:00:00',\n",
       "               '2012-09-18 12:00:00', '2012-09-18 18:00:00',\n",
       "               '2012-09-19 00:00:00', '2012-09-19 06:00:00',\n",
       "               '2012-09-19 12:00:00', '2012-09-19 18:00:00',\n",
       "               '2012-09-20 00:00:00', '2012-09-20 06:00:00',\n",
       "               '2012-09-20 12:00:00', '2012-09-20 18:00:00',\n",
       "               '2012-09-21 00:00:00', '2012-09-21 06:00:00'],\n",
       "              dtype='datetime64[ns]', freq='6H')"
      ]
     },
     "execution_count": 92,
     "metadata": {},
     "output_type": "execute_result"
    }
   ],
   "source": [
    "pd.date_range(start= \"2012-09-09\", periods= 50, freq=\"6h\")"
   ]
  },
  {
   "cell_type": "markdown",
   "metadata": {},
   "source": [
    "## Create Range of Dates with the pd.date_range Method - Part III"
   ]
  },
  {
   "cell_type": "markdown",
   "metadata": {},
   "source": [
    "Start at the end date and, will move until the beginning that will be the number of periods + our parameters"
   ]
  },
  {
   "cell_type": "code",
   "execution_count": 95,
   "metadata": {},
   "outputs": [
    {
     "data": {
      "text/plain": [
       "DatetimeIndex(['1999-12-12', '1999-12-13', '1999-12-14', '1999-12-15',\n",
       "               '1999-12-16', '1999-12-17', '1999-12-18', '1999-12-19',\n",
       "               '1999-12-20', '1999-12-21', '1999-12-22', '1999-12-23',\n",
       "               '1999-12-24', '1999-12-25', '1999-12-26', '1999-12-27',\n",
       "               '1999-12-28', '1999-12-29', '1999-12-30', '1999-12-31'],\n",
       "              dtype='datetime64[ns]', freq='D')"
      ]
     },
     "execution_count": 95,
     "metadata": {},
     "output_type": "execute_result"
    }
   ],
   "source": [
    "pd.date_range(end = \"1999-12-31\", periods= 20, freq= \"D\")"
   ]
  },
  {
   "cell_type": "code",
   "execution_count": 96,
   "metadata": {},
   "outputs": [
    {
     "data": {
      "text/plain": [
       "DatetimeIndex(['1999-11-08', '1999-11-09', '1999-11-10', '1999-11-11',\n",
       "               '1999-11-12', '1999-11-15', '1999-11-16', '1999-11-17',\n",
       "               '1999-11-18', '1999-11-19', '1999-11-22', '1999-11-23',\n",
       "               '1999-11-24', '1999-11-25', '1999-11-26', '1999-11-29',\n",
       "               '1999-11-30', '1999-12-01', '1999-12-02', '1999-12-03',\n",
       "               '1999-12-06', '1999-12-07', '1999-12-08', '1999-12-09',\n",
       "               '1999-12-10', '1999-12-13', '1999-12-14', '1999-12-15',\n",
       "               '1999-12-16', '1999-12-17', '1999-12-20', '1999-12-21',\n",
       "               '1999-12-22', '1999-12-23', '1999-12-24', '1999-12-27',\n",
       "               '1999-12-28', '1999-12-29', '1999-12-30', '1999-12-31'],\n",
       "              dtype='datetime64[ns]', freq='B')"
      ]
     },
     "execution_count": 96,
     "metadata": {},
     "output_type": "execute_result"
    }
   ],
   "source": [
    "pd.date_range(end = \"1999-12-31\", periods= 40, freq= \"B\")"
   ]
  },
  {
   "cell_type": "code",
   "execution_count": 97,
   "metadata": {},
   "outputs": [
    {
     "data": {
      "text/plain": [
       "DatetimeIndex(['1999-03-28', '1999-04-04', '1999-04-11', '1999-04-18',\n",
       "               '1999-04-25', '1999-05-02', '1999-05-09', '1999-05-16',\n",
       "               '1999-05-23', '1999-05-30', '1999-06-06', '1999-06-13',\n",
       "               '1999-06-20', '1999-06-27', '1999-07-04', '1999-07-11',\n",
       "               '1999-07-18', '1999-07-25', '1999-08-01', '1999-08-08',\n",
       "               '1999-08-15', '1999-08-22', '1999-08-29', '1999-09-05',\n",
       "               '1999-09-12', '1999-09-19', '1999-09-26', '1999-10-03',\n",
       "               '1999-10-10', '1999-10-17', '1999-10-24', '1999-10-31',\n",
       "               '1999-11-07', '1999-11-14', '1999-11-21', '1999-11-28',\n",
       "               '1999-12-05', '1999-12-12', '1999-12-19', '1999-12-26'],\n",
       "              dtype='datetime64[ns]', freq='W-SUN')"
      ]
     },
     "execution_count": 97,
     "metadata": {},
     "output_type": "execute_result"
    }
   ],
   "source": [
    "pd.date_range(end = \"1999-12-31\", periods= 40, freq= \"W-SUN\")"
   ]
  },
  {
   "cell_type": "code",
   "execution_count": 98,
   "metadata": {},
   "outputs": [
    {
     "data": {
      "text/plain": [
       "DatetimeIndex(['1995-08-01', '1995-09-01', '1995-10-01', '1995-11-01',\n",
       "               '1995-12-01', '1996-01-01', '1996-02-01', '1996-03-01',\n",
       "               '1996-04-01', '1996-05-01', '1996-06-01', '1996-07-01',\n",
       "               '1996-08-01', '1996-09-01', '1996-10-01', '1996-11-01',\n",
       "               '1996-12-01', '1997-01-01', '1997-02-01', '1997-03-01',\n",
       "               '1997-04-01', '1997-05-01', '1997-06-01', '1997-07-01',\n",
       "               '1997-08-01', '1997-09-01', '1997-10-01', '1997-11-01',\n",
       "               '1997-12-01', '1998-01-01', '1998-02-01', '1998-03-01',\n",
       "               '1998-04-01', '1998-05-01', '1998-06-01', '1998-07-01',\n",
       "               '1998-08-01', '1998-09-01', '1998-10-01', '1998-11-01',\n",
       "               '1998-12-01', '1999-01-01', '1999-02-01', '1999-03-01',\n",
       "               '1999-04-01', '1999-05-01', '1999-06-01', '1999-07-01',\n",
       "               '1999-08-01', '1999-09-01', '1999-10-01', '1999-11-01',\n",
       "               '1999-12-01'],\n",
       "              dtype='datetime64[ns]', freq='MS')"
      ]
     },
     "execution_count": 98,
     "metadata": {},
     "output_type": "execute_result"
    }
   ],
   "source": [
    "pd.date_range(end = \"1999-12-31\", periods= 53, freq= \"MS\") # MS -> Month Start"
   ]
  },
  {
   "cell_type": "code",
   "execution_count": 99,
   "metadata": {},
   "outputs": [
    {
     "data": {
      "text/plain": [
       "DatetimeIndex(['1999-12-15 20:00:00', '1999-12-16 03:00:00',\n",
       "               '1999-12-16 10:00:00', '1999-12-16 17:00:00',\n",
       "               '1999-12-17 00:00:00', '1999-12-17 07:00:00',\n",
       "               '1999-12-17 14:00:00', '1999-12-17 21:00:00',\n",
       "               '1999-12-18 04:00:00', '1999-12-18 11:00:00',\n",
       "               '1999-12-18 18:00:00', '1999-12-19 01:00:00',\n",
       "               '1999-12-19 08:00:00', '1999-12-19 15:00:00',\n",
       "               '1999-12-19 22:00:00', '1999-12-20 05:00:00',\n",
       "               '1999-12-20 12:00:00', '1999-12-20 19:00:00',\n",
       "               '1999-12-21 02:00:00', '1999-12-21 09:00:00',\n",
       "               '1999-12-21 16:00:00', '1999-12-21 23:00:00',\n",
       "               '1999-12-22 06:00:00', '1999-12-22 13:00:00',\n",
       "               '1999-12-22 20:00:00', '1999-12-23 03:00:00',\n",
       "               '1999-12-23 10:00:00', '1999-12-23 17:00:00',\n",
       "               '1999-12-24 00:00:00', '1999-12-24 07:00:00',\n",
       "               '1999-12-24 14:00:00', '1999-12-24 21:00:00',\n",
       "               '1999-12-25 04:00:00', '1999-12-25 11:00:00',\n",
       "               '1999-12-25 18:00:00', '1999-12-26 01:00:00',\n",
       "               '1999-12-26 08:00:00', '1999-12-26 15:00:00',\n",
       "               '1999-12-26 22:00:00', '1999-12-27 05:00:00',\n",
       "               '1999-12-27 12:00:00', '1999-12-27 19:00:00',\n",
       "               '1999-12-28 02:00:00', '1999-12-28 09:00:00',\n",
       "               '1999-12-28 16:00:00', '1999-12-28 23:00:00',\n",
       "               '1999-12-29 06:00:00', '1999-12-29 13:00:00',\n",
       "               '1999-12-29 20:00:00', '1999-12-30 03:00:00',\n",
       "               '1999-12-30 10:00:00', '1999-12-30 17:00:00',\n",
       "               '1999-12-31 00:00:00'],\n",
       "              dtype='datetime64[ns]', freq='7H')"
      ]
     },
     "execution_count": 99,
     "metadata": {},
     "output_type": "execute_result"
    }
   ],
   "source": [
    "pd.date_range(end = \"1999-12-31\", periods= 53, freq= \"7h\") # MS -> Month Start"
   ]
  },
  {
   "cell_type": "markdown",
   "metadata": {},
   "source": [
    "## The .dt Acessor"
   ]
  }
 ],
 "metadata": {
  "interpreter": {
   "hash": "510b6b8e1d84b453a7d8ac1c7d32df47bbc012607103dc3aad555362b3de02a8"
  },
  "kernelspec": {
   "display_name": "Python 3.9.7 ('pandas_playground')",
   "language": "python",
   "name": "python3"
  },
  "language_info": {
   "codemirror_mode": {
    "name": "ipython",
    "version": 3
   },
   "file_extension": ".py",
   "mimetype": "text/x-python",
   "name": "python",
   "nbconvert_exporter": "python",
   "pygments_lexer": "ipython3",
   "version": "3.9.7"
  },
  "orig_nbformat": 4
 },
 "nbformat": 4,
 "nbformat_minor": 2
}
