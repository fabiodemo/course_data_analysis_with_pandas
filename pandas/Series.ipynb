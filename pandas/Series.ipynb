{
 "cells": [
  {
   "cell_type": "markdown",
   "id": "49a4abdc-41fa-4df2-b387-2c9a76c65963",
   "metadata": {
    "tags": []
   },
   "source": [
    "# Series"
   ]
  },
  {
   "cell_type": "code",
   "execution_count": 1,
   "id": "cead166b-f99a-4069-bca8-797c27232633",
   "metadata": {},
   "outputs": [],
   "source": [
    "import pandas as pd"
   ]
  },
  {
   "cell_type": "markdown",
   "id": "95bdd2d8-65ce-4cbf-911d-032c98887ada",
   "metadata": {
    "tags": []
   },
   "source": [
    "## Create a Series Object from a Python List"
   ]
  },
  {
   "cell_type": "code",
   "execution_count": null,
   "id": "d4b02f52-d38e-4c81-8032-b16b26899f44",
   "metadata": {},
   "outputs": [],
   "source": [
    "ice_cream = [\"Chocolate\", \"Vanilla\", \"Strawberry\", \"Rum Raisin\"]\n",
    "\n",
    "pd.Series(ice_cream)"
   ]
  },
  {
   "cell_type": "code",
   "execution_count": null,
   "id": "fdfe9eec-9b92-4215-887e-c87e63183bb6",
   "metadata": {},
   "outputs": [],
   "source": [
    "lottery = [4, 8, 15, 16, 23, 42, 64, 89, 121]\n",
    "\n",
    "pd.Series(lottery)"
   ]
  },
  {
   "cell_type": "code",
   "execution_count": null,
   "id": "fb28325a-a12c-43ca-a8a0-d7caf0e98cdb",
   "metadata": {},
   "outputs": [],
   "source": [
    "registrations = [True, False, False, False, True]\n",
    "\n",
    "pd.Series(registrations)"
   ]
  },
  {
   "cell_type": "code",
   "execution_count": null,
   "id": "42a56310-69dd-484b-8475-b4801a1d4a11",
   "metadata": {},
   "outputs": [],
   "source": [
    "webster = {\n",
    "    \"Aardvark\": \"An animal\",\n",
    "    \"Banana\": \"A delicious fruit\",\n",
    "    \"Cyan\": \"A color\",\n",
    "}\n",
    "\n",
    "pd.Series(webster)"
   ]
  },
  {
   "cell_type": "markdown",
   "id": "0899d2a0-a751-4043-926d-4f663d02fa44",
   "metadata": {},
   "source": [
    "### Exercise: Create a Series Object"
   ]
  },
  {
   "cell_type": "code",
   "execution_count": null,
   "id": "86dde8a7-966e-4a46-ac31-666635caac07",
   "metadata": {},
   "outputs": [],
   "source": [
    "###############################################################\n",
    "# DO NOT DELETE THIS CODE. IT IS NEEDED FOR THE TESTS TO RUN. #\n",
    "from unittest.mock import MagicMock                           #\n",
    "import pandas as pd                                           #\n",
    "#pd.Series = MagicMock()                                       #\n",
    "###############################################################\n",
    "\n",
    "# Assume the pandas library has already been imported and assigned\n",
    "# the alias \"pd\".\n",
    "\n",
    "# Create a list with 4 countries - United States, France, Germany, Italy\n",
    "# Create a new Series by passing in the list of countries\n",
    "# Assign the Series to a \"countries\" variable\n",
    "temp_list = [\"United States\", \"France\", \"Germany\", \"Italy\"]\n",
    "countries = pd.Series(temp_list)\n",
    "countries = pd.Series([\"United States\", \"France\", \"Germany\", \"Italy\"])\n",
    "\n",
    "\n",
    "# Create a list with 3 colors - red, green, blue\n",
    "# Create a new Series by passing in the list of colors\n",
    "# Assign the Series to a \"colors\" variable\n",
    "temp_list = [\"red\", \"green\", \"blue\"]\n",
    "colors = temp_list = pd.Series(temp_list)\n",
    "\n",
    "# Given the \"recipe\" dictionary below,\n",
    "# create a new Series by passing in the dictionary as the data source\n",
    "# Assign the resulting Series to a \"series_dict\" variable\n",
    "recipe = {\n",
    "  \"Flour\": True,\n",
    "  \"Sugar\": True,\n",
    "  \"Salt\": False\n",
    "}\n",
    "\n",
    "series_dict = pd.Series(recipe)"
   ]
  },
  {
   "cell_type": "code",
   "execution_count": null,
   "id": "7b150319-6bd8-4a86-836c-77c576c45aac",
   "metadata": {},
   "outputs": [],
   "source": [
    "countries"
   ]
  },
  {
   "cell_type": "code",
   "execution_count": null,
   "id": "9d9d9edf-973a-4789-ad29-8e32ce01ec5b",
   "metadata": {},
   "outputs": [],
   "source": [
    "colors"
   ]
  },
  {
   "cell_type": "code",
   "execution_count": null,
   "id": "11a11645-52d7-45ed-bf3b-1e777b5ee556",
   "metadata": {},
   "outputs": [],
   "source": [
    "series_dict"
   ]
  },
  {
   "cell_type": "markdown",
   "id": "8ec6f3cc",
   "metadata": {},
   "source": [
    "## Intro to Atributes\n",
    "Do not require parenthesis at the end"
   ]
  },
  {
   "cell_type": "code",
   "execution_count": 6,
   "id": "618045a2",
   "metadata": {},
   "outputs": [],
   "source": [
    "about_me = ['Smart', 'Handsome', 'Charming', 'Brilliant', 'Humble']\n",
    "s = pd.Series(about_me)"
   ]
  },
  {
   "cell_type": "code",
   "execution_count": 9,
   "id": "9adf5400",
   "metadata": {},
   "outputs": [
    {
     "data": {
      "text/plain": [
       "array(['Smart', 'Handsome', 'Charming', 'Brilliant', 'Humble'],\n",
       "      dtype=object)"
      ]
     },
     "execution_count": 9,
     "metadata": {},
     "output_type": "execute_result"
    }
   ],
   "source": [
    "s.values"
   ]
  },
  {
   "cell_type": "code",
   "execution_count": 11,
   "id": "1725d299",
   "metadata": {},
   "outputs": [
    {
     "data": {
      "text/plain": [
       "RangeIndex(start=0, stop=5, step=1)"
      ]
     },
     "execution_count": 11,
     "metadata": {},
     "output_type": "execute_result"
    }
   ],
   "source": [
    "s.index"
   ]
  },
  {
   "cell_type": "code",
   "execution_count": 12,
   "id": "d3b2a737",
   "metadata": {},
   "outputs": [
    {
     "data": {
      "text/plain": [
       "dtype('O')"
      ]
     },
     "execution_count": 12,
     "metadata": {},
     "output_type": "execute_result"
    }
   ],
   "source": [
    "s.dtype"
   ]
  },
  {
   "cell_type": "markdown",
   "id": "2386d8c7",
   "metadata": {},
   "source": [
    "## Intro to Methods\n",
    "Since Methods are functions, they require parenthesis at the end"
   ]
  },
  {
   "cell_type": "code",
   "execution_count": 24,
   "id": "218ace04",
   "metadata": {},
   "outputs": [
    {
     "data": {
      "text/plain": [
       "0    2.99\n",
       "1    4.45\n",
       "2    1.57\n",
       "dtype: float64"
      ]
     },
     "execution_count": 24,
     "metadata": {},
     "output_type": "execute_result"
    }
   ],
   "source": [
    "prices = [2.99, 4.45, 1.57]\n",
    "s = pd.Series(prices)\n",
    "s"
   ]
  },
  {
   "cell_type": "code",
   "execution_count": 32,
   "id": "be3a9f33",
   "metadata": {},
   "outputs": [
    {
     "data": {
      "text/plain": [
       "9.01"
      ]
     },
     "execution_count": 32,
     "metadata": {},
     "output_type": "execute_result"
    }
   ],
   "source": [
    "s.sum()"
   ]
  },
  {
   "cell_type": "code",
   "execution_count": 33,
   "id": "5b28bff3",
   "metadata": {},
   "outputs": [
    {
     "data": {
      "text/plain": [
       "20.889635000000006"
      ]
     },
     "execution_count": 33,
     "metadata": {},
     "output_type": "execute_result"
    }
   ],
   "source": [
    "s.product()"
   ]
  },
  {
   "cell_type": "code",
   "execution_count": 34,
   "id": "d3a26478",
   "metadata": {},
   "outputs": [
    {
     "data": {
      "text/plain": [
       "3.0033333333333334"
      ]
     },
     "execution_count": 34,
     "metadata": {},
     "output_type": "execute_result"
    }
   ],
   "source": [
    "s.mean()"
   ]
  },
  {
   "cell_type": "markdown",
   "id": "2386d8c7",
   "metadata": {},
   "source": [
    "## Parameters and Arguments\n",
    "Thinking like a game: \\\n",
    "-> Difficulty - Easy, Medium, Hard \\\n",
    "-> Volume - 1 to 10 \\\n",
    "-> Subtitles - True/False"
   ]
  },
  {
   "cell_type": "code",
   "execution_count": 42,
   "id": "70af1108",
   "metadata": {},
   "outputs": [
    {
     "data": {
      "text/plain": [
       "Monday           Apple\n",
       "Tuesday         Orange\n",
       "Wednesday         Plum\n",
       "Thursday         Grape\n",
       "Friday       Blueberry\n",
       "dtype: object"
      ]
     },
     "execution_count": 42,
     "metadata": {},
     "output_type": "execute_result"
    }
   ],
   "source": [
    "fruits = [\"Apple\", \"Orange\", \"Plum\", \"Grape\", \"Blueberry\"]\n",
    "weekdays = [\"Monday\", \"Tuesday\", \"Wednesday\", \"Thursday\", \"Friday\"]\n",
    "\n",
    "# The below instructions generate the same output, but the second one has defined its parameters explicit\n",
    "pd.Series(fruits, weekdays)\n",
    "pd.Series(data = fruits, index = weekdays)\n",
    "pd.Series(fruits, index = weekdays)"
   ]
  },
  {
   "cell_type": "code",
   "execution_count": 43,
   "id": "70af1108",
   "metadata": {},
   "outputs": [
    {
     "data": {
      "text/plain": [
       "Monday            Apple\n",
       "Tuesday          Orange\n",
       "Wednesday          Plum\n",
       "Thursday          Grape\n",
       "Friday        Blueberry\n",
       "Monday       Watermelon\n",
       "dtype: object"
      ]
     },
     "execution_count": 43,
     "metadata": {},
     "output_type": "execute_result"
    }
   ],
   "source": [
    "fruits = [\"Apple\", \"Orange\", \"Plum\", \"Grape\", \"Blueberry\", \"Watermelon\"]\n",
    "weekdays = [\"Monday\", \"Tuesday\", \"Wednesday\", \"Thursday\", \"Friday\", \"Monday\"]\n",
    "\n",
    "pd.Series(data = fruits, index = weekdays)"
   ]
  },
  {
   "cell_type": "markdown",
   "id": "1d228bf4",
   "metadata": {},
   "source": [
    "## Import <mark style=\"background:lightgrey\">Series</mark> with the <mark style=\"background:lightgrey\">read_csv</mark> Method"
   ]
  },
  {
   "cell_type": "code",
   "execution_count": 55,
   "id": "fc25fca4",
   "metadata": {},
   "outputs": [
    {
     "data": {
      "text/plain": [
       "0       Bulbasaur\n",
       "1         Ivysaur\n",
       "2        Venusaur\n",
       "3      Charmander\n",
       "4      Charmeleon\n",
       "          ...    \n",
       "716       Yveltal\n",
       "717       Zygarde\n",
       "718       Diancie\n",
       "719         Hoopa\n",
       "720     Volcanion\n",
       "Name: Pokemon, Length: 721, dtype: object"
      ]
     },
     "execution_count": 55,
     "metadata": {},
     "output_type": "execute_result"
    }
   ],
   "source": [
    "pokemon = pd.read_csv(\"pokemon.csv\", usecols= [\"Pokemon\"], squeeze = True)\n",
    "pokemon"
   ]
  },
  {
   "cell_type": "markdown",
   "id": "af7d44c1",
   "metadata": {},
   "source": [
    "Series will only have one column, while dataframe will be used for one or more column"
   ]
  },
  {
   "cell_type": "code",
   "execution_count": 59,
   "id": "9deeabce",
   "metadata": {},
   "outputs": [
    {
     "data": {
      "text/plain": [
       "0        50.12\n",
       "1        54.10\n",
       "2        54.65\n",
       "3        52.38\n",
       "4        52.95\n",
       "         ...  \n",
       "3007    772.88\n",
       "3008    771.07\n",
       "3009    773.18\n",
       "3010    771.61\n",
       "3011    782.22\n",
       "Name: Stock Price, Length: 3012, dtype: float64"
      ]
     },
     "execution_count": 59,
     "metadata": {},
     "output_type": "execute_result"
    }
   ],
   "source": [
    "google_stock_price = pd.read_csv(\"google_stock_price.csv\", usecols = [\"Stock Price\"], squeeze = True)\n",
    "google_stock_price"
   ]
  },
  {
   "cell_type": "markdown",
   "id": "3cdc8114",
   "metadata": {},
   "source": [
    "## Exercise"
   ]
  },
  {
   "cell_type": "code",
   "execution_count": 61,
   "id": "ca2e59bf",
   "metadata": {},
   "outputs": [
    {
     "data": {
      "text/html": [
       "<div>\n",
       "<style scoped>\n",
       "    .dataframe tbody tr th:only-of-type {\n",
       "        vertical-align: middle;\n",
       "    }\n",
       "\n",
       "    .dataframe tbody tr th {\n",
       "        vertical-align: top;\n",
       "    }\n",
       "\n",
       "    .dataframe thead th {\n",
       "        text-align: right;\n",
       "    }\n",
       "</style>\n",
       "<table border=\"1\" class=\"dataframe\">\n",
       "  <thead>\n",
       "    <tr style=\"text-align: right;\">\n",
       "      <th></th>\n",
       "      <th>First Name</th>\n",
       "      <th>Gender</th>\n",
       "      <th>City</th>\n",
       "      <th>Frequency</th>\n",
       "      <th>Item</th>\n",
       "      <th>Spend</th>\n",
       "    </tr>\n",
       "  </thead>\n",
       "  <tbody>\n",
       "    <tr>\n",
       "      <th>0</th>\n",
       "      <td>Wanda</td>\n",
       "      <td>Female</td>\n",
       "      <td>Stamford</td>\n",
       "      <td>Weekly</td>\n",
       "      <td>Burger</td>\n",
       "      <td>15.66</td>\n",
       "    </tr>\n",
       "    <tr>\n",
       "      <th>1</th>\n",
       "      <td>Eric</td>\n",
       "      <td>Male</td>\n",
       "      <td>Stamford</td>\n",
       "      <td>Daily</td>\n",
       "      <td>Chalupa</td>\n",
       "      <td>10.56</td>\n",
       "    </tr>\n",
       "    <tr>\n",
       "      <th>2</th>\n",
       "      <td>Charles</td>\n",
       "      <td>Male</td>\n",
       "      <td>New York</td>\n",
       "      <td>Never</td>\n",
       "      <td>Sushi</td>\n",
       "      <td>42.14</td>\n",
       "    </tr>\n",
       "    <tr>\n",
       "      <th>3</th>\n",
       "      <td>Anna</td>\n",
       "      <td>Female</td>\n",
       "      <td>Philadelphia</td>\n",
       "      <td>Once</td>\n",
       "      <td>Ice Cream</td>\n",
       "      <td>11.01</td>\n",
       "    </tr>\n",
       "    <tr>\n",
       "      <th>4</th>\n",
       "      <td>Deborah</td>\n",
       "      <td>Female</td>\n",
       "      <td>Philadelphia</td>\n",
       "      <td>Daily</td>\n",
       "      <td>Chalupa</td>\n",
       "      <td>23.49</td>\n",
       "    </tr>\n",
       "    <tr>\n",
       "      <th>...</th>\n",
       "      <td>...</td>\n",
       "      <td>...</td>\n",
       "      <td>...</td>\n",
       "      <td>...</td>\n",
       "      <td>...</td>\n",
       "      <td>...</td>\n",
       "    </tr>\n",
       "    <tr>\n",
       "      <th>995</th>\n",
       "      <td>Donna</td>\n",
       "      <td>Female</td>\n",
       "      <td>New York</td>\n",
       "      <td>Monthly</td>\n",
       "      <td>Sushi</td>\n",
       "      <td>83.53</td>\n",
       "    </tr>\n",
       "    <tr>\n",
       "      <th>996</th>\n",
       "      <td>Albert</td>\n",
       "      <td>Male</td>\n",
       "      <td>Philadelphia</td>\n",
       "      <td>Daily</td>\n",
       "      <td>Sushi</td>\n",
       "      <td>72.88</td>\n",
       "    </tr>\n",
       "    <tr>\n",
       "      <th>997</th>\n",
       "      <td>Jean</td>\n",
       "      <td>Female</td>\n",
       "      <td>Stamford</td>\n",
       "      <td>Weekly</td>\n",
       "      <td>Donut</td>\n",
       "      <td>5.85</td>\n",
       "    </tr>\n",
       "    <tr>\n",
       "      <th>998</th>\n",
       "      <td>Jessica</td>\n",
       "      <td>Female</td>\n",
       "      <td>New York</td>\n",
       "      <td>Daily</td>\n",
       "      <td>Chalupa</td>\n",
       "      <td>43.19</td>\n",
       "    </tr>\n",
       "    <tr>\n",
       "      <th>999</th>\n",
       "      <td>Brian</td>\n",
       "      <td>Male</td>\n",
       "      <td>New York</td>\n",
       "      <td>Daily</td>\n",
       "      <td>Chalupa</td>\n",
       "      <td>28.36</td>\n",
       "    </tr>\n",
       "  </tbody>\n",
       "</table>\n",
       "<p>1000 rows × 6 columns</p>\n",
       "</div>"
      ],
      "text/plain": [
       "    First Name  Gender          City Frequency       Item  Spend\n",
       "0        Wanda  Female      Stamford    Weekly     Burger  15.66\n",
       "1         Eric    Male      Stamford     Daily    Chalupa  10.56\n",
       "2      Charles    Male      New York     Never      Sushi  42.14\n",
       "3         Anna  Female  Philadelphia      Once  Ice Cream  11.01\n",
       "4      Deborah  Female  Philadelphia     Daily    Chalupa  23.49\n",
       "..         ...     ...           ...       ...        ...    ...\n",
       "995      Donna  Female      New York   Monthly      Sushi  83.53\n",
       "996     Albert    Male  Philadelphia     Daily      Sushi  72.88\n",
       "997       Jean  Female      Stamford    Weekly      Donut   5.85\n",
       "998    Jessica  Female      New York     Daily    Chalupa  43.19\n",
       "999      Brian    Male      New York     Daily    Chalupa  28.36\n",
       "\n",
       "[1000 rows x 6 columns]"
      ]
     },
     "execution_count": 61,
     "metadata": {},
     "output_type": "execute_result"
    }
   ],
   "source": [
    "# Assume the pandas library has already been imported and assigned the alias \"pd\".\n",
    "\n",
    "# Let's say we have a foods.csv CSV file with 3 columns: Item Number, Menu Item, Price\n",
    "# The raw CSV data looks like this:\n",
    "#\n",
    "# Item Number,Menu Item,Price\n",
    "# 1,Big Mac,4.99\n",
    "# 2,McNuggets,7.99\n",
    "# 3,Quarter Pounder,3.99\n",
    "#\n",
    "# Import the CSV file into a Pandas Series object\n",
    "# The Series should have the standard Pandas numeric index\n",
    "# The Series values should be the string values from the \"Menu Item\" column\n",
    "# Assign the Series object to a \"foods\" variable\n",
    "foods = pd.read_csv(\"foods.csv\", usecols = [\"Menu Item\"], squeeze = True)\n",
    "foods"
   ]
  }
 ],
 "metadata": {
  "kernelspec": {
   "display_name": "Python 3 (ipykernel)",
   "language": "python",
   "name": "python3"
  },
  "language_info": {
   "codemirror_mode": {
    "name": "ipython",
    "version": 3
   },
   "file_extension": ".py",
   "mimetype": "text/x-python",
   "name": "python",
   "nbconvert_exporter": "python",
   "pygments_lexer": "ipython3",
   "version": "3.9.7"
  }
 },
 "nbformat": 4,
 "nbformat_minor": 5
}
