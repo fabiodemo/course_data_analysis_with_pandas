{
 "cells": [
  {
   "cell_type": "markdown",
   "id": "49a4abdc-41fa-4df2-b387-2c9a76c65963",
   "metadata": {
    "tags": []
   },
   "source": [
    "# Series"
   ]
  },
  {
   "cell_type": "code",
   "execution_count": 1,
   "id": "cead166b-f99a-4069-bca8-797c27232633",
   "metadata": {},
   "outputs": [],
   "source": [
    "import pandas as pd"
   ]
  },
  {
   "cell_type": "markdown",
   "id": "95bdd2d8-65ce-4cbf-911d-032c98887ada",
   "metadata": {
    "tags": []
   },
   "source": [
    "## Create a Series Object from a Python List"
   ]
  },
  {
   "cell_type": "code",
   "execution_count": 2,
   "id": "d4b02f52-d38e-4c81-8032-b16b26899f44",
   "metadata": {},
   "outputs": [
    {
     "data": {
      "text/plain": [
       "0     Chocolate\n",
       "1       Vanilla\n",
       "2    Strawberry\n",
       "3    Rum Raisin\n",
       "dtype: object"
      ]
     },
     "execution_count": 2,
     "metadata": {},
     "output_type": "execute_result"
    }
   ],
   "source": [
    "ice_cream = [\"Chocolate\", \"Vanilla\", \"Strawberry\", \"Rum Raisin\"]\n",
    "\n",
    "pd.Series(ice_cream)"
   ]
  },
  {
   "cell_type": "code",
   "execution_count": 5,
   "id": "fdfe9eec-9b92-4215-887e-c87e63183bb6",
   "metadata": {},
   "outputs": [
    {
     "data": {
      "text/plain": [
       "0      4\n",
       "1      8\n",
       "2     15\n",
       "3     16\n",
       "4     23\n",
       "5     42\n",
       "6     64\n",
       "7     89\n",
       "8    121\n",
       "dtype: int64"
      ]
     },
     "execution_count": 5,
     "metadata": {},
     "output_type": "execute_result"
    }
   ],
   "source": [
    "lottery = [4, 8, 15, 16, 23, 42, 64, 89, 121]\n",
    "\n",
    "pd.Series(lottery)"
   ]
  },
  {
   "cell_type": "code",
   "execution_count": 6,
   "id": "fb28325a-a12c-43ca-a8a0-d7caf0e98cdb",
   "metadata": {},
   "outputs": [
    {
     "data": {
      "text/plain": [
       "0     True\n",
       "1    False\n",
       "2    False\n",
       "3    False\n",
       "4     True\n",
       "dtype: bool"
      ]
     },
     "execution_count": 6,
     "metadata": {},
     "output_type": "execute_result"
    }
   ],
   "source": [
    "registrations = [True, False, False, False, True]\n",
    "\n",
    "pd.Series(registrations)"
   ]
  },
  {
   "cell_type": "code",
   "execution_count": 8,
   "id": "42a56310-69dd-484b-8475-b4801a1d4a11",
   "metadata": {},
   "outputs": [
    {
     "data": {
      "text/plain": [
       "Aardvark            An animal\n",
       "Banana      A delicious fruit\n",
       "Cyan                  A color\n",
       "dtype: object"
      ]
     },
     "execution_count": 8,
     "metadata": {},
     "output_type": "execute_result"
    }
   ],
   "source": [
    "webster = {\n",
    "    \"Aardvark\": \"An animal\",\n",
    "    \"Banana\": \"A delicious fruit\",\n",
    "    \"Cyan\": \"A color\",\n",
    "}\n",
    "\n",
    "pd.Series(webster)"
   ]
  },
  {
   "cell_type": "markdown",
   "id": "0899d2a0-a751-4043-926d-4f663d02fa44",
   "metadata": {},
   "source": [
    "### Exercise: Create a Series Object"
   ]
  },
  {
   "cell_type": "code",
   "execution_count": 9,
   "id": "86dde8a7-966e-4a46-ac31-666635caac07",
   "metadata": {},
   "outputs": [],
   "source": [
    "###############################################################\n",
    "# DO NOT DELETE THIS CODE. IT IS NEEDED FOR THE TESTS TO RUN. #\n",
    "from unittest.mock import MagicMock                           #\n",
    "import pandas as pd                                           #\n",
    "pd.Series = MagicMock()                                       #\n",
    "###############################################################\n",
    "\n",
    "# Assume the pandas library has already been imported and assigned\n",
    "# the alias \"pd\".\n",
    "\n",
    "# Create a list with 4 countries - United States, France, Germany, Italy\n",
    "# Create a new Series by passing in the list of countries\n",
    "# Assign the Series to a \"countries\" variable\n",
    "temp_list = [\"United States\", \"France\", \"Germany\", \"Italy\"]\n",
    "temp_list = pd.Series(temp_list)\n",
    "countries = temp_list\n",
    "#countries = pd.Series([\"United States\", \"France\", \"Germany\", \"Italy\"])\n",
    "\n",
    "\n",
    "# Create a list with 3 colors - red, green, blue\n",
    "# Create a new Series by passing in the list of colors\n",
    "# Assign the Series to a \"colors\" variable\n",
    "temp_list = [\"red\", \"green\", \"blue\"]\n",
    "temp_list = pd.Series(temp_list)\n",
    "colors = temp_list\n",
    "\n",
    "# Given the \"recipe\" dictionary below,\n",
    "# create a new Series by passing in the dictionary as the data source\n",
    "# Assign the resulting Series to a \"series_dict\" variable\n",
    "recipe = {\n",
    "  \"Flour\": True,\n",
    "  \"Sugar\": True,\n",
    "  \"Salt\": False\n",
    "}\n",
    "\n",
    "series_dict = pd.Series(recipe)"
   ]
  },
  {
   "cell_type": "code",
   "execution_count": 11,
   "id": "7b150319-6bd8-4a86-836c-77c576c45aac",
   "metadata": {},
   "outputs": [
    {
     "data": {
      "text/plain": [
       "<MagicMock name='mock()' id='2488881359024'>"
      ]
     },
     "execution_count": 11,
     "metadata": {},
     "output_type": "execute_result"
    }
   ],
   "source": [
    "countries."
   ]
  },
  {
   "cell_type": "code",
   "execution_count": 10,
   "id": "9d9d9edf-973a-4789-ad29-8e32ce01ec5b",
   "metadata": {},
   "outputs": [
    {
     "data": {
      "text/plain": [
       "<MagicMock name='mock()' id='2488881359024'>"
      ]
     },
     "execution_count": 10,
     "metadata": {},
     "output_type": "execute_result"
    }
   ],
   "source": [
    "colors"
   ]
  },
  {
   "cell_type": "code",
   "execution_count": 12,
   "id": "11a11645-52d7-45ed-bf3b-1e777b5ee556",
   "metadata": {},
   "outputs": [
    {
     "data": {
      "text/plain": [
       "<MagicMock name='mock()' id='2488881359024'>"
      ]
     },
     "execution_count": 12,
     "metadata": {},
     "output_type": "execute_result"
    }
   ],
   "source": [
    "series_dict"
   ]
  }
 ],
 "metadata": {
  "kernelspec": {
   "display_name": "Python 3 (ipykernel)",
   "language": "python",
   "name": "python3"
  },
  "language_info": {
   "codemirror_mode": {
    "name": "ipython",
    "version": 3
   },
   "file_extension": ".py",
   "mimetype": "text/x-python",
   "name": "python",
   "nbconvert_exporter": "python",
   "pygments_lexer": "ipython3",
   "version": "3.9.7"
  }
 },
 "nbformat": 4,
 "nbformat_minor": 5
}
