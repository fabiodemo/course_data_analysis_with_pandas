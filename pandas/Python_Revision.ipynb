{
 "cells": [
  {
   "cell_type": "code",
   "execution_count": 1,
   "id": "e0db9c59-55f4-46a6-ab78-98dbc2f13973",
   "metadata": {},
   "outputs": [],
   "source": [
    "%config Completer.use_jedi = False"
   ]
  },
  {
   "cell_type": "code",
   "execution_count": 2,
   "id": "cf7ee7aa",
   "metadata": {},
   "outputs": [
    {
     "name": "stdout",
     "output_type": "stream",
     "text": [
      "Hello World!\n"
     ]
    }
   ],
   "source": [
    "print(\"Hello World!\")"
   ]
  },
  {
   "cell_type": "code",
   "execution_count": 3,
   "id": "8bcbb671",
   "metadata": {},
   "outputs": [
    {
     "data": {
      "text/plain": [
       "2"
      ]
     },
     "execution_count": 3,
     "metadata": {},
     "output_type": "execute_result"
    }
   ],
   "source": [
    "1 + 1"
   ]
  },
  {
   "cell_type": "code",
   "execution_count": 4,
   "id": "41a2dbe4",
   "metadata": {},
   "outputs": [
    {
     "data": {
      "text/plain": [
       "8"
      ]
     },
     "execution_count": 4,
     "metadata": {},
     "output_type": "execute_result"
    }
   ],
   "source": [
    "2 + 2\n",
    "3 + 5"
   ]
  },
  {
   "cell_type": "markdown",
   "id": "35c7440c",
   "metadata": {},
   "source": [
    "# Basic Data Types"
   ]
  },
  {
   "cell_type": "markdown",
   "id": "7847f99e",
   "metadata": {},
   "source": [
    "## Integer"
   ]
  },
  {
   "cell_type": "code",
   "execution_count": 5,
   "id": "ee5b6b50",
   "metadata": {},
   "outputs": [
    {
     "data": {
      "text/plain": [
       "0"
      ]
     },
     "execution_count": 5,
     "metadata": {},
     "output_type": "execute_result"
    }
   ],
   "source": [
    "5\n",
    "10\n",
    "-23\n",
    "0"
   ]
  },
  {
   "cell_type": "markdown",
   "id": "49a52a99",
   "metadata": {},
   "source": [
    "## Floating Point Number"
   ]
  },
  {
   "cell_type": "code",
   "execution_count": 6,
   "id": "355218ba",
   "metadata": {},
   "outputs": [
    {
     "data": {
      "text/plain": [
       "-133.23182"
      ]
     },
     "execution_count": 6,
     "metadata": {},
     "output_type": "execute_result"
    }
   ],
   "source": [
    "3.14\n",
    "9.99\n",
    "-133.23182"
   ]
  },
  {
   "cell_type": "markdown",
   "id": "acfe7f24",
   "metadata": {},
   "source": [
    "## String"
   ]
  },
  {
   "cell_type": "code",
   "execution_count": 7,
   "id": "aa9f1da2",
   "metadata": {},
   "outputs": [
    {
     "data": {
      "text/plain": [
       "'Sacramento'"
      ]
     },
     "execution_count": 7,
     "metadata": {},
     "output_type": "execute_result"
    }
   ],
   "source": [
    "\"Teste string\"\n",
    "'Sacramento'"
   ]
  },
  {
   "cell_type": "code",
   "execution_count": 8,
   "id": "4dd3f291",
   "metadata": {},
   "outputs": [
    {
     "data": {
      "text/plain": [
       "'139.99'"
      ]
     },
     "execution_count": 8,
     "metadata": {},
     "output_type": "execute_result"
    }
   ],
   "source": [
    "\"139.99\""
   ]
  },
  {
   "cell_type": "code",
   "execution_count": 9,
   "id": "0b5498a7",
   "metadata": {},
   "outputs": [
    {
     "data": {
      "text/plain": [
       "'139.99 dollars!'"
      ]
     },
     "execution_count": 9,
     "metadata": {},
     "output_type": "execute_result"
    }
   ],
   "source": [
    "\"139.99 dollars!\""
   ]
  },
  {
   "cell_type": "code",
   "execution_count": 10,
   "id": "7d34d049",
   "metadata": {},
   "outputs": [
    {
     "data": {
      "text/plain": [
       "''"
      ]
     },
     "execution_count": 10,
     "metadata": {},
     "output_type": "execute_result"
    }
   ],
   "source": [
    "\"\""
   ]
  },
  {
   "cell_type": "markdown",
   "id": "95ec516b",
   "metadata": {},
   "source": [
    "## Booleans"
   ]
  },
  {
   "cell_type": "code",
   "execution_count": 11,
   "id": "ca06ec61",
   "metadata": {},
   "outputs": [
    {
     "data": {
      "text/plain": [
       "False"
      ]
     },
     "execution_count": 11,
     "metadata": {},
     "output_type": "execute_result"
    }
   ],
   "source": [
    "True\n",
    "False"
   ]
  },
  {
   "cell_type": "code",
   "execution_count": 12,
   "id": "bc2965a3",
   "metadata": {},
   "outputs": [
    {
     "data": {
      "text/plain": [
       "True"
      ]
     },
     "execution_count": 12,
     "metadata": {},
     "output_type": "execute_result"
    }
   ],
   "source": [
    "5 < 7"
   ]
  },
  {
   "cell_type": "markdown",
   "id": "7a0038cf",
   "metadata": {},
   "source": [
    "## None\n",
    "Used to represent the absence of a value"
   ]
  },
  {
   "cell_type": "code",
   "execution_count": 13,
   "id": "99158a77",
   "metadata": {},
   "outputs": [
    {
     "name": "stdout",
     "output_type": "stream",
     "text": [
      "None\n"
     ]
    }
   ],
   "source": [
    "print(None)"
   ]
  },
  {
   "cell_type": "markdown",
   "id": "b0a4296d",
   "metadata": {},
   "source": [
    "# Operators"
   ]
  },
  {
   "cell_type": "code",
   "execution_count": 14,
   "id": "07a6fb46",
   "metadata": {},
   "outputs": [
    {
     "data": {
      "text/plain": [
       "13"
      ]
     },
     "execution_count": 14,
     "metadata": {},
     "output_type": "execute_result"
    }
   ],
   "source": [
    "5 + 8"
   ]
  },
  {
   "cell_type": "code",
   "execution_count": 15,
   "id": "f3c93fae",
   "metadata": {},
   "outputs": [
    {
     "data": {
      "text/plain": [
       "-3.7099999999999995"
      ]
     },
     "execution_count": 15,
     "metadata": {},
     "output_type": "execute_result"
    }
   ],
   "source": [
    "3.14 - 6.85"
   ]
  },
  {
   "cell_type": "code",
   "execution_count": 16,
   "id": "742ea81f",
   "metadata": {},
   "outputs": [
    {
     "data": {
      "text/plain": [
       "63"
      ]
     },
     "execution_count": 16,
     "metadata": {},
     "output_type": "execute_result"
    }
   ],
   "source": [
    "7 * 9"
   ]
  },
  {
   "cell_type": "code",
   "execution_count": 17,
   "id": "297d89b4",
   "metadata": {},
   "outputs": [
    {
     "data": {
      "text/plain": [
       "'MahiMahiMahiMahiMahiMahiMahiMahiMahiMahi'"
      ]
     },
     "execution_count": 17,
     "metadata": {},
     "output_type": "execute_result"
    }
   ],
   "source": [
    "\"Mahi\" * 10"
   ]
  },
  {
   "cell_type": "code",
   "execution_count": 18,
   "id": "cb3b136b",
   "metadata": {},
   "outputs": [
    {
     "data": {
      "text/plain": [
       "23"
      ]
     },
     "execution_count": 18,
     "metadata": {},
     "output_type": "execute_result"
    }
   ],
   "source": [
    "# PENDAS\n",
    "# Parentheses Exponents Multiplication Division Addition Subtraction\n",
    "3 + 4 * 5"
   ]
  },
  {
   "cell_type": "code",
   "execution_count": 19,
   "id": "e4d7c0ff",
   "metadata": {},
   "outputs": [
    {
     "data": {
      "text/plain": [
       "35"
      ]
     },
     "execution_count": 19,
     "metadata": {},
     "output_type": "execute_result"
    }
   ],
   "source": [
    "(3 + 4) * 5"
   ]
  },
  {
   "cell_type": "code",
   "execution_count": 20,
   "id": "ca81df74",
   "metadata": {},
   "outputs": [
    {
     "data": {
      "text/plain": [
       "3.75"
      ]
     },
     "execution_count": 20,
     "metadata": {},
     "output_type": "execute_result"
    }
   ],
   "source": [
    "15 / 4"
   ]
  },
  {
   "cell_type": "code",
   "execution_count": 21,
   "id": "0f5cd68a",
   "metadata": {},
   "outputs": [
    {
     "data": {
      "text/plain": [
       "2.0"
      ]
     },
     "execution_count": 21,
     "metadata": {},
     "output_type": "execute_result"
    }
   ],
   "source": [
    "10 / 5"
   ]
  },
  {
   "cell_type": "code",
   "execution_count": 22,
   "id": "daad3207",
   "metadata": {},
   "outputs": [
    {
     "data": {
      "text/plain": [
       "3"
      ]
     },
     "execution_count": 22,
     "metadata": {},
     "output_type": "execute_result"
    }
   ],
   "source": [
    "# Floor\n",
    "10 // 3"
   ]
  },
  {
   "cell_type": "code",
   "execution_count": 23,
   "id": "8f105aa1",
   "metadata": {},
   "outputs": [
    {
     "data": {
      "text/plain": [
       "2"
      ]
     },
     "execution_count": 23,
     "metadata": {},
     "output_type": "execute_result"
    }
   ],
   "source": [
    "14 % 3"
   ]
  },
  {
   "cell_type": "code",
   "execution_count": 24,
   "id": "68f02fb0",
   "metadata": {},
   "outputs": [
    {
     "data": {
      "text/plain": [
       "True"
      ]
     },
     "execution_count": 24,
     "metadata": {},
     "output_type": "execute_result"
    }
   ],
   "source": [
    "# Equality Operator\n",
    "1 == 1\n",
    "2 == 2\n",
    "5 == 5.0"
   ]
  },
  {
   "cell_type": "code",
   "execution_count": 25,
   "id": "7e2c81f8",
   "metadata": {},
   "outputs": [
    {
     "data": {
      "text/plain": [
       "False"
      ]
     },
     "execution_count": 25,
     "metadata": {},
     "output_type": "execute_result"
    }
   ],
   "source": [
    "'Hello' == 'hello' #case sensitive"
   ]
  },
  {
   "cell_type": "code",
   "execution_count": 26,
   "id": "a23a57dd",
   "metadata": {},
   "outputs": [
    {
     "data": {
      "text/plain": [
       "False"
      ]
     },
     "execution_count": 26,
     "metadata": {},
     "output_type": "execute_result"
    }
   ],
   "source": [
    "5 != 5"
   ]
  },
  {
   "cell_type": "code",
   "execution_count": 27,
   "id": "8385e4b9",
   "metadata": {},
   "outputs": [
    {
     "data": {
      "text/plain": [
       "True"
      ]
     },
     "execution_count": 27,
     "metadata": {},
     "output_type": "execute_result"
    }
   ],
   "source": [
    "5 < 8\n",
    "4 <= 8"
   ]
  },
  {
   "cell_type": "code",
   "execution_count": 28,
   "id": "f81a7a13",
   "metadata": {},
   "outputs": [
    {
     "data": {
      "text/plain": [
       "True"
      ]
     },
     "execution_count": 28,
     "metadata": {},
     "output_type": "execute_result"
    }
   ],
   "source": [
    "4 > 7\n",
    "7 >= 6"
   ]
  },
  {
   "cell_type": "markdown",
   "id": "6b07736c",
   "metadata": {},
   "source": [
    "## Concatenation"
   ]
  },
  {
   "cell_type": "code",
   "execution_count": 29,
   "id": "ba8c980c",
   "metadata": {},
   "outputs": [
    {
     "data": {
      "text/plain": [
       "'racecar'"
      ]
     },
     "execution_count": 29,
     "metadata": {},
     "output_type": "execute_result"
    }
   ],
   "source": [
    "\"race\" + \"car\""
   ]
  },
  {
   "cell_type": "code",
   "execution_count": null,
   "id": "a2f388c5",
   "metadata": {},
   "outputs": [],
   "source": []
  },
  {
   "cell_type": "markdown",
   "id": "99bdcc05",
   "metadata": {},
   "source": [
    "# Variables"
   ]
  },
  {
   "cell_type": "code",
   "execution_count": 30,
   "id": "11e7f782",
   "metadata": {},
   "outputs": [],
   "source": [
    "age = 24"
   ]
  },
  {
   "cell_type": "code",
   "execution_count": 31,
   "id": "c6ee7f2e",
   "metadata": {},
   "outputs": [
    {
     "data": {
      "text/plain": [
       "24"
      ]
     },
     "execution_count": 31,
     "metadata": {},
     "output_type": "execute_result"
    }
   ],
   "source": [
    "age"
   ]
  },
  {
   "cell_type": "code",
   "execution_count": 32,
   "id": "82dc8819",
   "metadata": {},
   "outputs": [
    {
     "data": {
      "text/plain": [
       "29"
      ]
     },
     "execution_count": 32,
     "metadata": {},
     "output_type": "execute_result"
    }
   ],
   "source": [
    "age + 5"
   ]
  },
  {
   "cell_type": "code",
   "execution_count": 33,
   "id": "5fbe92f2",
   "metadata": {},
   "outputs": [
    {
     "data": {
      "text/plain": [
       "24"
      ]
     },
     "execution_count": 33,
     "metadata": {},
     "output_type": "execute_result"
    }
   ],
   "source": [
    "age"
   ]
  },
  {
   "cell_type": "markdown",
   "id": "8094d796",
   "metadata": {},
   "source": [
    "## Snake case\n",
    "Whenever we have a variable that has multiple words, we separate every word with a underscore\n",
    "Community convention"
   ]
  },
  {
   "cell_type": "code",
   "execution_count": 34,
   "id": "b39a2b71",
   "metadata": {},
   "outputs": [],
   "source": [
    "price = 19.99\n",
    "first_name = 'Fabio'\n",
    "profession = 'Data Scientist'\n",
    "is_cool = True\n"
   ]
  },
  {
   "cell_type": "code",
   "execution_count": 35,
   "id": "7dc1bb7c",
   "metadata": {},
   "outputs": [
    {
     "data": {
      "text/plain": [
       "'Fabio'"
      ]
     },
     "execution_count": 35,
     "metadata": {},
     "output_type": "execute_result"
    }
   ],
   "source": [
    "first_name"
   ]
  },
  {
   "cell_type": "code",
   "execution_count": 36,
   "id": "6e6d85c5",
   "metadata": {},
   "outputs": [
    {
     "data": {
      "text/plain": [
       "True"
      ]
     },
     "execution_count": 36,
     "metadata": {},
     "output_type": "execute_result"
    }
   ],
   "source": [
    "is_cool"
   ]
  },
  {
   "cell_type": "code",
   "execution_count": 37,
   "id": "b4fffed2",
   "metadata": {},
   "outputs": [
    {
     "data": {
      "text/plain": [
       "'Fabio is awesome'"
      ]
     },
     "execution_count": 37,
     "metadata": {},
     "output_type": "execute_result"
    }
   ],
   "source": [
    "first_name + \" is awesome\""
   ]
  },
  {
   "cell_type": "code",
   "execution_count": 38,
   "id": "cdad4840",
   "metadata": {},
   "outputs": [
    {
     "data": {
      "text/plain": [
       "29"
      ]
     },
     "execution_count": 38,
     "metadata": {},
     "output_type": "execute_result"
    }
   ],
   "source": [
    "age = age + 5\n",
    "age"
   ]
  },
  {
   "cell_type": "code",
   "execution_count": 39,
   "id": "c58316f5",
   "metadata": {},
   "outputs": [
    {
     "data": {
      "text/plain": [
       "'Data engineer'"
      ]
     },
     "execution_count": 39,
     "metadata": {},
     "output_type": "execute_result"
    }
   ],
   "source": [
    "profession = 'Data engineer'\n",
    "profession"
   ]
  },
  {
   "cell_type": "markdown",
   "id": "4a5cd50a",
   "metadata": {},
   "source": [
    "# Built-in Functions"
   ]
  },
  {
   "cell_type": "code",
   "execution_count": 40,
   "id": "c1aa017a",
   "metadata": {},
   "outputs": [
    {
     "data": {
      "text/plain": [
       "36"
      ]
     },
     "execution_count": 40,
     "metadata": {},
     "output_type": "execute_result"
    }
   ],
   "source": [
    "string = \"How many characters do we have here?\"\n",
    "len(string)"
   ]
  },
  {
   "cell_type": "code",
   "execution_count": 41,
   "id": "558ff3cc",
   "metadata": {},
   "outputs": [
    {
     "data": {
      "text/plain": [
       "'4.12'"
      ]
     },
     "execution_count": 41,
     "metadata": {},
     "output_type": "execute_result"
    }
   ],
   "source": [
    "str(4.12)"
   ]
  },
  {
   "cell_type": "code",
   "execution_count": 42,
   "id": "39c8976f",
   "metadata": {},
   "outputs": [
    {
     "data": {
      "text/plain": [
       "10"
      ]
     },
     "execution_count": 42,
     "metadata": {},
     "output_type": "execute_result"
    }
   ],
   "source": [
    "int(\"10\")"
   ]
  },
  {
   "cell_type": "code",
   "execution_count": 43,
   "id": "be6cec37",
   "metadata": {},
   "outputs": [
    {
     "data": {
      "text/plain": [
       "10.0"
      ]
     },
     "execution_count": 43,
     "metadata": {},
     "output_type": "execute_result"
    }
   ],
   "source": [
    "float(\"10\")\n",
    "float(10)"
   ]
  },
  {
   "cell_type": "code",
   "execution_count": 44,
   "id": "48ac8c30",
   "metadata": {},
   "outputs": [
    {
     "data": {
      "text/plain": [
       "bool"
      ]
     },
     "execution_count": 44,
     "metadata": {},
     "output_type": "execute_result"
    }
   ],
   "source": [
    "type(\"10\")\n",
    "type(True)"
   ]
  },
  {
   "cell_type": "code",
   "execution_count": 45,
   "id": "7ed1ce11",
   "metadata": {},
   "outputs": [
    {
     "data": {
      "text/plain": [
       "True"
      ]
     },
     "execution_count": 45,
     "metadata": {},
     "output_type": "execute_result"
    }
   ],
   "source": [
    "type(10) == type(15)"
   ]
  },
  {
   "cell_type": "code",
   "execution_count": 46,
   "id": "660230c1",
   "metadata": {},
   "outputs": [
    {
     "data": {
      "text/plain": [
       "False"
      ]
     },
     "execution_count": 46,
     "metadata": {},
     "output_type": "execute_result"
    }
   ],
   "source": [
    "type(10) == type(\"10\")"
   ]
  },
  {
   "cell_type": "markdown",
   "id": "94cce2ea",
   "metadata": {},
   "source": [
    "# Custom Functions"
   ]
  },
  {
   "cell_type": "code",
   "execution_count": 47,
   "id": "b8d6adf5",
   "metadata": {},
   "outputs": [],
   "source": [
    "# Declare a function that accepts a temperature in Celsius and returns it in Fahrenheit\n",
    "\n",
    "def convert_to_farenheit(celsius_temp = 0):\n",
    "    product = celsius_temp * 1.8\n",
    "    return product + 32"
   ]
  },
  {
   "cell_type": "code",
   "execution_count": 48,
   "id": "abb4405b",
   "metadata": {},
   "outputs": [
    {
     "data": {
      "text/plain": [
       "'Hello!'"
      ]
     },
     "execution_count": 48,
     "metadata": {},
     "output_type": "execute_result"
    }
   ],
   "source": [
    "\"Hello!\" "
   ]
  },
  {
   "cell_type": "code",
   "execution_count": 49,
   "id": "590cd403",
   "metadata": {},
   "outputs": [
    {
     "data": {
      "text/plain": [
       "35.6"
      ]
     },
     "execution_count": 49,
     "metadata": {},
     "output_type": "execute_result"
    }
   ],
   "source": [
    "convert_to_farenheit(2)"
   ]
  },
  {
   "cell_type": "code",
   "execution_count": 50,
   "id": "18544059",
   "metadata": {},
   "outputs": [
    {
     "data": {
      "text/plain": [
       "89.6"
      ]
     },
     "execution_count": 50,
     "metadata": {},
     "output_type": "execute_result"
    }
   ],
   "source": [
    "convert_to_farenheit(32)"
   ]
  },
  {
   "cell_type": "code",
   "execution_count": 51,
   "id": "dd025c39",
   "metadata": {},
   "outputs": [
    {
     "data": {
      "text/plain": [
       "89.6"
      ]
     },
     "execution_count": 51,
     "metadata": {},
     "output_type": "execute_result"
    }
   ],
   "source": [
    "convert_to_farenheit(celsius_temp = 32)"
   ]
  },
  {
   "cell_type": "code",
   "execution_count": 52,
   "id": "5e9a7df9",
   "metadata": {},
   "outputs": [
    {
     "data": {
      "text/plain": [
       "32.0"
      ]
     },
     "execution_count": 52,
     "metadata": {},
     "output_type": "execute_result"
    }
   ],
   "source": [
    "convert_to_farenheit()"
   ]
  },
  {
   "cell_type": "markdown",
   "id": "64653332",
   "metadata": {},
   "source": [
    "# String Methods\n",
    "Method is a function that belongs to a specific object"
   ]
  },
  {
   "cell_type": "code",
   "execution_count": 53,
   "id": "20da3cd9",
   "metadata": {},
   "outputs": [],
   "source": [
    "profession = \"Developer\""
   ]
  },
  {
   "cell_type": "code",
   "execution_count": 54,
   "id": "2f1c47a9",
   "metadata": {},
   "outputs": [
    {
     "data": {
      "text/plain": [
       "'DEVELOPER'"
      ]
     },
     "execution_count": 54,
     "metadata": {},
     "output_type": "execute_result"
    }
   ],
   "source": [
    "\"Developer\".upper()\n",
    "profession.upper()"
   ]
  },
  {
   "cell_type": "code",
   "execution_count": 55,
   "id": "900b0642",
   "metadata": {},
   "outputs": [
    {
     "data": {
      "text/plain": [
       "'dEVELOPER'"
      ]
     },
     "execution_count": 55,
     "metadata": {},
     "output_type": "execute_result"
    }
   ],
   "source": [
    "profession.swapcase()"
   ]
  },
  {
   "cell_type": "code",
   "execution_count": 56,
   "id": "3f22fcb7",
   "metadata": {},
   "outputs": [],
   "source": [
    "# immutable - incapable of change\n",
    "# mutable - capable of change\n",
    "\n",
    "# string - immutable -> when we invoke an string method, we are not able to change the original string (without reassign)\n"
   ]
  },
  {
   "cell_type": "code",
   "execution_count": 57,
   "id": "111de130",
   "metadata": {},
   "outputs": [
    {
     "data": {
      "text/plain": [
       "'Developer'"
      ]
     },
     "execution_count": 57,
     "metadata": {},
     "output_type": "execute_result"
    }
   ],
   "source": [
    "profession"
   ]
  },
  {
   "cell_type": "code",
   "execution_count": 58,
   "id": "57a4d534",
   "metadata": {},
   "outputs": [
    {
     "data": {
      "text/plain": [
       "'Once Upon A Time'"
      ]
     },
     "execution_count": 58,
     "metadata": {},
     "output_type": "execute_result"
    }
   ],
   "source": [
    "\"once upon a time\".title()"
   ]
  },
  {
   "cell_type": "code",
   "execution_count": 59,
   "id": "83a778dc",
   "metadata": {},
   "outputs": [
    {
     "data": {
      "text/plain": [
       "'Once upon a time'"
      ]
     },
     "execution_count": 59,
     "metadata": {},
     "output_type": "execute_result"
    }
   ],
   "source": [
    "\"once upon a time\".capitalize()"
   ]
  },
  {
   "cell_type": "code",
   "execution_count": 60,
   "id": "be7fe7f6",
   "metadata": {},
   "outputs": [],
   "source": [
    "profession =\"                   Developer             \""
   ]
  },
  {
   "cell_type": "code",
   "execution_count": 61,
   "id": "af69aa6e",
   "metadata": {},
   "outputs": [
    {
     "data": {
      "text/plain": [
       "'Developer             '"
      ]
     },
     "execution_count": 61,
     "metadata": {},
     "output_type": "execute_result"
    }
   ],
   "source": [
    "profession.lstrip()"
   ]
  },
  {
   "cell_type": "code",
   "execution_count": 62,
   "id": "85ccafe8",
   "metadata": {},
   "outputs": [
    {
     "data": {
      "text/plain": [
       "'                   Developer'"
      ]
     },
     "execution_count": 62,
     "metadata": {},
     "output_type": "execute_result"
    }
   ],
   "source": [
    "profession.rstrip()"
   ]
  },
  {
   "cell_type": "code",
   "execution_count": 63,
   "id": "71f7f463",
   "metadata": {},
   "outputs": [
    {
     "data": {
      "text/plain": [
       "'Developer'"
      ]
     },
     "execution_count": 63,
     "metadata": {},
     "output_type": "execute_result"
    }
   ],
   "source": [
    "profession.strip()"
   ]
  },
  {
   "cell_type": "code",
   "execution_count": 64,
   "id": "3af37507",
   "metadata": {},
   "outputs": [
    {
     "data": {
      "text/plain": [
       "'                   Drvrloprr             '"
      ]
     },
     "execution_count": 64,
     "metadata": {},
     "output_type": "execute_result"
    }
   ],
   "source": [
    "profession.replace(\"e\", \"r\")"
   ]
  },
  {
   "cell_type": "code",
   "execution_count": 65,
   "id": "46c23825",
   "metadata": {},
   "outputs": [
    {
     "data": {
      "text/plain": [
       "'Drvrloprr'"
      ]
     },
     "execution_count": 65,
     "metadata": {},
     "output_type": "execute_result"
    }
   ],
   "source": [
    "profession.strip().replace(\"e\", \"r\")"
   ]
  },
  {
   "cell_type": "code",
   "execution_count": 66,
   "id": "38e9f605",
   "metadata": {},
   "outputs": [],
   "source": [
    "animal = \"rhinoceros\""
   ]
  },
  {
   "cell_type": "code",
   "execution_count": 67,
   "id": "cb5b486d",
   "metadata": {},
   "outputs": [
    {
     "data": {
      "text/plain": [
       "True"
      ]
     },
     "execution_count": 67,
     "metadata": {},
     "output_type": "execute_result"
    }
   ],
   "source": [
    "animal.startswith(\"rhino\")"
   ]
  },
  {
   "cell_type": "code",
   "execution_count": 68,
   "id": "4a6111f1",
   "metadata": {},
   "outputs": [
    {
     "data": {
      "text/plain": [
       "False"
      ]
     },
     "execution_count": 68,
     "metadata": {},
     "output_type": "execute_result"
    }
   ],
   "source": [
    "animal.startswith(\"asd\")"
   ]
  },
  {
   "cell_type": "code",
   "execution_count": 69,
   "id": "b9ccfb24",
   "metadata": {},
   "outputs": [
    {
     "data": {
      "text/plain": [
       "False"
      ]
     },
     "execution_count": 69,
     "metadata": {},
     "output_type": "execute_result"
    }
   ],
   "source": [
    "animal.startswith(\"R\")"
   ]
  },
  {
   "cell_type": "code",
   "execution_count": 70,
   "id": "7cc47ebe",
   "metadata": {},
   "outputs": [
    {
     "data": {
      "text/plain": [
       "True"
      ]
     },
     "execution_count": 70,
     "metadata": {},
     "output_type": "execute_result"
    }
   ],
   "source": [
    "animal.startswith(\"r\")"
   ]
  },
  {
   "cell_type": "code",
   "execution_count": 71,
   "id": "1e5b0f4a",
   "metadata": {},
   "outputs": [
    {
     "data": {
      "text/plain": [
       "True"
      ]
     },
     "execution_count": 71,
     "metadata": {},
     "output_type": "execute_result"
    }
   ],
   "source": [
    "animal.endswith(\"ros\")"
   ]
  },
  {
   "cell_type": "code",
   "execution_count": 72,
   "id": "7f605743",
   "metadata": {},
   "outputs": [
    {
     "data": {
      "text/plain": [
       "True"
      ]
     },
     "execution_count": 72,
     "metadata": {},
     "output_type": "execute_result"
    }
   ],
   "source": [
    "animal.endswith(\"s\")"
   ]
  },
  {
   "cell_type": "code",
   "execution_count": 73,
   "id": "68aa7552",
   "metadata": {},
   "outputs": [
    {
     "data": {
      "text/plain": [
       "True"
      ]
     },
     "execution_count": 73,
     "metadata": {},
     "output_type": "execute_result"
    }
   ],
   "source": [
    "\"rhino\" in animal"
   ]
  },
  {
   "cell_type": "code",
   "execution_count": 74,
   "id": "f7888da5",
   "metadata": {},
   "outputs": [
    {
     "data": {
      "text/plain": [
       "True"
      ]
     },
     "execution_count": 74,
     "metadata": {},
     "output_type": "execute_result"
    }
   ],
   "source": [
    "\"cero\" in animal"
   ]
  },
  {
   "cell_type": "code",
   "execution_count": 75,
   "id": "e6e1fac3",
   "metadata": {},
   "outputs": [
    {
     "data": {
      "text/plain": [
       "False"
      ]
     },
     "execution_count": 75,
     "metadata": {},
     "output_type": "execute_result"
    }
   ],
   "source": [
    "\"rhan\" in animal"
   ]
  },
  {
   "cell_type": "code",
   "execution_count": 76,
   "id": "94fb97ae",
   "metadata": {},
   "outputs": [
    {
     "data": {
      "text/plain": [
       "False"
      ]
     },
     "execution_count": 76,
     "metadata": {},
     "output_type": "execute_result"
    }
   ],
   "source": [
    "\"z\" in animal"
   ]
  },
  {
   "cell_type": "code",
   "execution_count": 77,
   "id": "6823dbb8",
   "metadata": {},
   "outputs": [
    {
     "data": {
      "text/plain": [
       "True"
      ]
     },
     "execution_count": 77,
     "metadata": {},
     "output_type": "execute_result"
    }
   ],
   "source": [
    "\"z\" not in animal"
   ]
  },
  {
   "cell_type": "code",
   "execution_count": 78,
   "id": "966b43aa",
   "metadata": {},
   "outputs": [
    {
     "data": {
      "text/plain": [
       "False"
      ]
     },
     "execution_count": 78,
     "metadata": {},
     "output_type": "execute_result"
    }
   ],
   "source": [
    "\"rhino\" not in animal"
   ]
  },
  {
   "cell_type": "markdown",
   "id": "5bf1541f",
   "metadata": {},
   "source": [
    "# Lists\n",
    "Mutable data structure that holds an ordered collection of elements"
   ]
  },
  {
   "cell_type": "code",
   "execution_count": 79,
   "id": "b34fa909",
   "metadata": {},
   "outputs": [
    {
     "data": {
      "text/plain": [
       "[1, 2, 3, 4]"
      ]
     },
     "execution_count": 79,
     "metadata": {},
     "output_type": "execute_result"
    }
   ],
   "source": [
    "[1, 2, 3, 4]"
   ]
  },
  {
   "cell_type": "code",
   "execution_count": 80,
   "id": "bac4b769",
   "metadata": {},
   "outputs": [
    {
     "data": {
      "text/plain": [
       "[True, False, False, True]"
      ]
     },
     "execution_count": 80,
     "metadata": {},
     "output_type": "execute_result"
    }
   ],
   "source": [
    "[True, False, False, True]"
   ]
  },
  {
   "cell_type": "code",
   "execution_count": 81,
   "id": "011acd5d",
   "metadata": {},
   "outputs": [
    {
     "data": {
      "text/plain": [
       "['Harry', 'Ron', 'Hermione']"
      ]
     },
     "execution_count": 81,
     "metadata": {},
     "output_type": "execute_result"
    }
   ],
   "source": [
    "party_attendees = [\"Harry\", \"Ron\", \"Hermione\"]\n",
    "party_attendees"
   ]
  },
  {
   "cell_type": "code",
   "execution_count": 82,
   "id": "53e3abe5",
   "metadata": {},
   "outputs": [
    {
     "data": {
      "text/plain": [
       "[]"
      ]
     },
     "execution_count": 82,
     "metadata": {},
     "output_type": "execute_result"
    }
   ],
   "source": [
    "[]"
   ]
  },
  {
   "cell_type": "code",
   "execution_count": 83,
   "id": "401f54f2",
   "metadata": {},
   "outputs": [
    {
     "data": {
      "text/plain": [
       "3"
      ]
     },
     "execution_count": 83,
     "metadata": {},
     "output_type": "execute_result"
    }
   ],
   "source": [
    "len(party_attendees)"
   ]
  },
  {
   "cell_type": "code",
   "execution_count": 84,
   "id": "f0b09bdc",
   "metadata": {},
   "outputs": [
    {
     "data": {
      "text/plain": [
       "list"
      ]
     },
     "execution_count": 84,
     "metadata": {},
     "output_type": "execute_result"
    }
   ],
   "source": [
    "type(party_attendees)"
   ]
  },
  {
   "cell_type": "code",
   "execution_count": 85,
   "id": "b49354e3",
   "metadata": {},
   "outputs": [],
   "source": [
    "presidents = [\"Washington\", \"Lincoln\"]"
   ]
  },
  {
   "cell_type": "code",
   "execution_count": 86,
   "id": "9ac1b15b",
   "metadata": {},
   "outputs": [],
   "source": [
    "presidents.append(\"Jefferson\")"
   ]
  },
  {
   "cell_type": "code",
   "execution_count": 87,
   "id": "c9fcfe2a",
   "metadata": {},
   "outputs": [
    {
     "data": {
      "text/plain": [
       "['Washington', 'Lincoln', 'Jefferson']"
      ]
     },
     "execution_count": 87,
     "metadata": {},
     "output_type": "execute_result"
    }
   ],
   "source": [
    "presidents"
   ]
  },
  {
   "cell_type": "code",
   "execution_count": 88,
   "id": "d3ea4a43",
   "metadata": {},
   "outputs": [
    {
     "data": {
      "text/plain": [
       "'Jefferson'"
      ]
     },
     "execution_count": 88,
     "metadata": {},
     "output_type": "execute_result"
    }
   ],
   "source": [
    "presidents.pop()"
   ]
  },
  {
   "cell_type": "code",
   "execution_count": 89,
   "id": "1616eeea",
   "metadata": {},
   "outputs": [
    {
     "data": {
      "text/plain": [
       "['Washington', 'Lincoln']"
      ]
     },
     "execution_count": 89,
     "metadata": {},
     "output_type": "execute_result"
    }
   ],
   "source": [
    "presidents"
   ]
  },
  {
   "cell_type": "code",
   "execution_count": 90,
   "id": "9af120a3",
   "metadata": {},
   "outputs": [],
   "source": [
    "presidents.remove(\"Washington\")"
   ]
  },
  {
   "cell_type": "code",
   "execution_count": 91,
   "id": "1ad36fe9",
   "metadata": {},
   "outputs": [
    {
     "data": {
      "text/plain": [
       "['Lincoln']"
      ]
     },
     "execution_count": 91,
     "metadata": {},
     "output_type": "execute_result"
    }
   ],
   "source": [
    "presidents"
   ]
  },
  {
   "cell_type": "code",
   "execution_count": 92,
   "id": "f0489d8a",
   "metadata": {},
   "outputs": [
    {
     "data": {
      "text/plain": [
       "True"
      ]
     },
     "execution_count": 92,
     "metadata": {},
     "output_type": "execute_result"
    }
   ],
   "source": [
    "\"cat\" in \"caterpillar\""
   ]
  },
  {
   "cell_type": "code",
   "execution_count": 93,
   "id": "9a2ce969",
   "metadata": {},
   "outputs": [],
   "source": [
    "planets = [\"Mercury\", \"Venus\", \"Earth\", \"Mars\"]"
   ]
  },
  {
   "cell_type": "code",
   "execution_count": 94,
   "id": "84dc875e",
   "metadata": {},
   "outputs": [
    {
     "data": {
      "text/plain": [
       "True"
      ]
     },
     "execution_count": 94,
     "metadata": {},
     "output_type": "execute_result"
    }
   ],
   "source": [
    "\"Earth\" in planets"
   ]
  },
  {
   "cell_type": "code",
   "execution_count": 95,
   "id": "32268fa9",
   "metadata": {},
   "outputs": [
    {
     "data": {
      "text/plain": [
       "False"
      ]
     },
     "execution_count": 95,
     "metadata": {},
     "output_type": "execute_result"
    }
   ],
   "source": [
    "\"earth\" in planets"
   ]
  },
  {
   "cell_type": "code",
   "execution_count": 96,
   "id": "e186f073",
   "metadata": {},
   "outputs": [
    {
     "data": {
      "text/plain": [
       "True"
      ]
     },
     "execution_count": 96,
     "metadata": {},
     "output_type": "execute_result"
    }
   ],
   "source": [
    "\"Pluto\" not in planets"
   ]
  },
  {
   "cell_type": "code",
   "execution_count": 97,
   "id": "a21b69e3",
   "metadata": {},
   "outputs": [
    {
     "data": {
      "text/plain": [
       "False"
      ]
     },
     "execution_count": 97,
     "metadata": {},
     "output_type": "execute_result"
    }
   ],
   "source": [
    "\"Mars\" not in planets"
   ]
  },
  {
   "cell_type": "markdown",
   "id": "a433e999",
   "metadata": {},
   "source": [
    "# Index Positions and Slicing"
   ]
  },
  {
   "cell_type": "code",
   "execution_count": 98,
   "id": "006f137c-6470-4386-bd52-6fa9a083d058",
   "metadata": {},
   "outputs": [],
   "source": [
    "spiderman = \"Spider-man\""
   ]
  },
  {
   "cell_type": "code",
   "execution_count": 99,
   "id": "8add41f4-2173-4050-baef-db4a46c61aaa",
   "metadata": {},
   "outputs": [
    {
     "data": {
      "text/plain": [
       "'Spider-man'"
      ]
     },
     "execution_count": 99,
     "metadata": {},
     "output_type": "execute_result"
    }
   ],
   "source": [
    "spiderman"
   ]
  },
  {
   "cell_type": "code",
   "execution_count": 100,
   "id": "b748dd80-b5a2-43ae-b1b8-c1590e86e2cc",
   "metadata": {},
   "outputs": [
    {
     "data": {
      "text/plain": [
       "10"
      ]
     },
     "execution_count": 100,
     "metadata": {},
     "output_type": "execute_result"
    }
   ],
   "source": [
    "# 0 1 2 3 4 ...\n",
    "# S p i d e ...\n",
    "len(spiderman)"
   ]
  },
  {
   "cell_type": "code",
   "execution_count": 101,
   "id": "5092b48d",
   "metadata": {},
   "outputs": [
    {
     "data": {
      "text/plain": [
       "'n'"
      ]
     },
     "execution_count": 101,
     "metadata": {},
     "output_type": "execute_result"
    }
   ],
   "source": [
    "spiderman[0]\n",
    "spiderman[1]\n",
    "spiderman[9]\n",
    "spiderman[len(spiderman)-1]"
   ]
  },
  {
   "cell_type": "code",
   "execution_count": 102,
   "id": "71c171ad",
   "metadata": {},
   "outputs": [
    {
     "data": {
      "text/plain": [
       "'n'"
      ]
     },
     "execution_count": 102,
     "metadata": {},
     "output_type": "execute_result"
    }
   ],
   "source": [
    "spiderman[-1]"
   ]
  },
  {
   "cell_type": "code",
   "execution_count": 103,
   "id": "bb8a981c",
   "metadata": {},
   "outputs": [
    {
     "data": {
      "text/plain": [
       "'-'"
      ]
     },
     "execution_count": 103,
     "metadata": {},
     "output_type": "execute_result"
    }
   ],
   "source": [
    "spiderman[-4]"
   ]
  },
  {
   "cell_type": "code",
   "execution_count": 104,
   "id": "23598c4d",
   "metadata": {},
   "outputs": [],
   "source": [
    "superheroes = [\"Batman\", \"Superman\", \"Wolverine\", \"Ironman\", \"Chuck Norris\"]"
   ]
  },
  {
   "cell_type": "code",
   "execution_count": 105,
   "id": "2b486dd1",
   "metadata": {},
   "outputs": [
    {
     "data": {
      "text/plain": [
       "5"
      ]
     },
     "execution_count": 105,
     "metadata": {},
     "output_type": "execute_result"
    }
   ],
   "source": [
    "len(superheroes)"
   ]
  },
  {
   "cell_type": "code",
   "execution_count": 106,
   "id": "25e549cd",
   "metadata": {},
   "outputs": [
    {
     "data": {
      "text/plain": [
       "'Chuck Norris'"
      ]
     },
     "execution_count": 106,
     "metadata": {},
     "output_type": "execute_result"
    }
   ],
   "source": [
    "superheroes[0]\n",
    "superheroes[2]\n",
    "superheroes[4]"
   ]
  },
  {
   "cell_type": "code",
   "execution_count": 107,
   "id": "0560cc6c",
   "metadata": {},
   "outputs": [
    {
     "data": {
      "text/plain": [
       "'Wolverine'"
      ]
     },
     "execution_count": 107,
     "metadata": {},
     "output_type": "execute_result"
    }
   ],
   "source": [
    "superheroes[-1]\n",
    "superheroes[-3]"
   ]
  },
  {
   "cell_type": "code",
   "execution_count": 108,
   "id": "b7466fc5",
   "metadata": {},
   "outputs": [
    {
     "data": {
      "text/plain": [
       "['Superman', 'Wolverine']"
      ]
     },
     "execution_count": 108,
     "metadata": {},
     "output_type": "execute_result"
    }
   ],
   "source": [
    "superheroes[1:3]\n",
    "# first element will be inclusive, and the second element will be exclusive"
   ]
  },
  {
   "cell_type": "code",
   "execution_count": 109,
   "id": "4a39b417",
   "metadata": {},
   "outputs": [
    {
     "data": {
      "text/plain": [
       "['Superman', 'Wolverine', 'Ironman']"
      ]
     },
     "execution_count": 109,
     "metadata": {},
     "output_type": "execute_result"
    }
   ],
   "source": [
    "superheroes[1:4]"
   ]
  },
  {
   "cell_type": "code",
   "execution_count": 110,
   "id": "f2912402",
   "metadata": {},
   "outputs": [
    {
     "data": {
      "text/plain": [
       "'pide'"
      ]
     },
     "execution_count": 110,
     "metadata": {},
     "output_type": "execute_result"
    }
   ],
   "source": [
    "spiderman[1:5]"
   ]
  },
  {
   "cell_type": "code",
   "execution_count": 111,
   "id": "a0e38bcf",
   "metadata": {},
   "outputs": [
    {
     "data": {
      "text/plain": [
       "['Batman', 'Superman']"
      ]
     },
     "execution_count": 111,
     "metadata": {},
     "output_type": "execute_result"
    }
   ],
   "source": [
    "superheroes[0:2]\n",
    "# The syntax above is equal to\n",
    "superheroes[:2]"
   ]
  },
  {
   "cell_type": "code",
   "execution_count": 112,
   "id": "b8a6d659",
   "metadata": {},
   "outputs": [
    {
     "data": {
      "text/plain": [
       "['Wolverine', 'Ironman', 'Chuck Norris']"
      ]
     },
     "execution_count": 112,
     "metadata": {},
     "output_type": "execute_result"
    }
   ],
   "source": [
    "# To the beginning to the end of the notebook\n",
    "superheroes[2:]"
   ]
  },
  {
   "cell_type": "code",
   "execution_count": 113,
   "id": "74bf6d98",
   "metadata": {},
   "outputs": [
    {
     "data": {
      "text/plain": [
       "'r-man'"
      ]
     },
     "execution_count": 113,
     "metadata": {},
     "output_type": "execute_result"
    }
   ],
   "source": [
    "spiderman[5:]"
   ]
  },
  {
   "cell_type": "code",
   "execution_count": 114,
   "id": "57cbbdbd",
   "metadata": {},
   "outputs": [
    {
     "data": {
      "text/plain": [
       "'der-m'"
      ]
     },
     "execution_count": 114,
     "metadata": {},
     "output_type": "execute_result"
    }
   ],
   "source": [
    "spiderman[3:-2]"
   ]
  },
  {
   "cell_type": "markdown",
   "id": "00bb9a67",
   "metadata": {},
   "source": [
    "# Dicitonaries\n",
    "An unordered collection of key pairs"
   ]
  },
  {
   "cell_type": "markdown",
   "id": "060219f8",
   "metadata": {},
   "source": [
    "#### If you want concept of order -> Lists\n",
    "#### If you want the concept of association -> Dictionaries"
   ]
  },
  {
   "cell_type": "code",
   "execution_count": 115,
   "id": "e1a80dd4",
   "metadata": {},
   "outputs": [],
   "source": [
    "# Keys need to be unique (between parenthesis) and the value associated with the key can be repeated\n",
    "menu = {\n",
    "    \"File Mignon\": 29.99,\n",
    "    \"Pasta\": 19.99,\n",
    "    \"Big Mac\": 3.99,\n",
    "    \"Pizza\": 1.99,\n",
    "    \"Salmon\": 39.99,\n",
    "}"
   ]
  },
  {
   "cell_type": "code",
   "execution_count": 116,
   "id": "e860fee2",
   "metadata": {},
   "outputs": [
    {
     "data": {
      "text/plain": [
       "{'File Mignon': 29.99,\n",
       " 'Pasta': 19.99,\n",
       " 'Big Mac': 3.99,\n",
       " 'Pizza': 1.99,\n",
       " 'Salmon': 39.99}"
      ]
     },
     "execution_count": 116,
     "metadata": {},
     "output_type": "execute_result"
    }
   ],
   "source": [
    "menu"
   ]
  },
  {
   "cell_type": "code",
   "execution_count": 117,
   "id": "019d1a7e",
   "metadata": {},
   "outputs": [
    {
     "data": {
      "text/plain": [
       "5"
      ]
     },
     "execution_count": 117,
     "metadata": {},
     "output_type": "execute_result"
    }
   ],
   "source": [
    "len(menu)"
   ]
  },
  {
   "cell_type": "code",
   "execution_count": 118,
   "id": "891ce407",
   "metadata": {},
   "outputs": [
    {
     "data": {
      "text/plain": [
       "29.99"
      ]
     },
     "execution_count": 118,
     "metadata": {},
     "output_type": "execute_result"
    }
   ],
   "source": [
    "menu[\"File Mignon\"]"
   ]
  },
  {
   "cell_type": "code",
   "execution_count": 119,
   "id": "55bbf273",
   "metadata": {},
   "outputs": [],
   "source": [
    "menu[\"Burrito\"] = 13.99"
   ]
  },
  {
   "cell_type": "code",
   "execution_count": 120,
   "id": "dc3c18be",
   "metadata": {},
   "outputs": [
    {
     "data": {
      "text/plain": [
       "{'File Mignon': 29.99,\n",
       " 'Pasta': 19.99,\n",
       " 'Big Mac': 3.99,\n",
       " 'Pizza': 1.99,\n",
       " 'Salmon': 39.99,\n",
       " 'Burrito': 13.99}"
      ]
     },
     "execution_count": 120,
     "metadata": {},
     "output_type": "execute_result"
    }
   ],
   "source": [
    "menu"
   ]
  },
  {
   "cell_type": "code",
   "execution_count": 121,
   "id": "39dc24a0",
   "metadata": {},
   "outputs": [
    {
     "data": {
      "text/plain": [
       "29.99"
      ]
     },
     "execution_count": 121,
     "metadata": {},
     "output_type": "execute_result"
    }
   ],
   "source": [
    "menu.pop(\"File Mignon\")"
   ]
  },
  {
   "cell_type": "code",
   "execution_count": 122,
   "id": "9284a8be",
   "metadata": {},
   "outputs": [
    {
     "data": {
      "text/plain": [
       "{'Pasta': 19.99,\n",
       " 'Big Mac': 3.99,\n",
       " 'Pizza': 1.99,\n",
       " 'Salmon': 39.99,\n",
       " 'Burrito': 13.99}"
      ]
     },
     "execution_count": 122,
     "metadata": {},
     "output_type": "execute_result"
    }
   ],
   "source": [
    "menu"
   ]
  },
  {
   "cell_type": "markdown",
   "id": "7347692b",
   "metadata": {},
   "source": [
    "### Checking if key is inside dictionary"
   ]
  },
  {
   "cell_type": "code",
   "execution_count": 123,
   "id": "824fe53e",
   "metadata": {},
   "outputs": [
    {
     "data": {
      "text/plain": [
       "True"
      ]
     },
     "execution_count": 123,
     "metadata": {},
     "output_type": "execute_result"
    }
   ],
   "source": [
    "\"Pizza\" in menu"
   ]
  },
  {
   "cell_type": "code",
   "execution_count": 124,
   "id": "f099c6d3",
   "metadata": {},
   "outputs": [
    {
     "data": {
      "text/plain": [
       "False"
      ]
     },
     "execution_count": 124,
     "metadata": {},
     "output_type": "execute_result"
    }
   ],
   "source": [
    "\"Hot Pockets\" in menu"
   ]
  },
  {
   "cell_type": "code",
   "execution_count": 125,
   "id": "997cd1cb",
   "metadata": {},
   "outputs": [
    {
     "data": {
      "text/plain": [
       "True"
      ]
     },
     "execution_count": 125,
     "metadata": {},
     "output_type": "execute_result"
    }
   ],
   "source": [
    "\"Bubble gum\" not in menu"
   ]
  },
  {
   "cell_type": "markdown",
   "id": "c55503a1",
   "metadata": {},
   "source": [
    "### Checking if value is inside dictionary"
   ]
  },
  {
   "cell_type": "code",
   "execution_count": 126,
   "id": "ed9177dc",
   "metadata": {},
   "outputs": [
    {
     "data": {
      "text/plain": [
       "dict_values([19.99, 3.99, 1.99, 39.99, 13.99])"
      ]
     },
     "execution_count": 126,
     "metadata": {},
     "output_type": "execute_result"
    }
   ],
   "source": [
    "menu.values()"
   ]
  },
  {
   "cell_type": "code",
   "execution_count": 127,
   "id": "f1675d0f",
   "metadata": {},
   "outputs": [
    {
     "data": {
      "text/plain": [
       "False"
      ]
     },
     "execution_count": 127,
     "metadata": {},
     "output_type": "execute_result"
    }
   ],
   "source": [
    "5.99 in menu.values()"
   ]
  },
  {
   "cell_type": "code",
   "execution_count": 128,
   "id": "44592d2d",
   "metadata": {},
   "outputs": [
    {
     "data": {
      "text/plain": [
       "True"
      ]
     },
     "execution_count": 128,
     "metadata": {},
     "output_type": "execute_result"
    }
   ],
   "source": [
    "19.99 in menu.values()"
   ]
  },
  {
   "cell_type": "code",
   "execution_count": 129,
   "id": "0b5e5ee7-24a6-4935-94b4-eb45f2a9c20d",
   "metadata": {},
   "outputs": [
    {
     "ename": "AttributeError",
     "evalue": "'dict' object has no attribute 'v'",
     "output_type": "error",
     "traceback": [
      "\u001b[1;31m---------------------------------------------------------------------------\u001b[0m",
      "\u001b[1;31mAttributeError\u001b[0m                            Traceback (most recent call last)",
      "\u001b[1;32m~\\AppData\\Local\\Temp/ipykernel_8596/3558286490.py\u001b[0m in \u001b[0;36m<module>\u001b[1;34m\u001b[0m\n\u001b[1;32m----> 1\u001b[1;33m \u001b[0mmenu\u001b[0m\u001b[1;33m.\u001b[0m\u001b[0mv\u001b[0m\u001b[1;33m\u001b[0m\u001b[1;33m\u001b[0m\u001b[0m\n\u001b[0m",
      "\u001b[1;31mAttributeError\u001b[0m: 'dict' object has no attribute 'v'"
     ]
    }
   ],
   "source": []
  }
 ],
 "metadata": {
  "kernelspec": {
   "display_name": "Python 3 (ipykernel)",
   "language": "python",
   "name": "python3"
  },
  "language_info": {
   "codemirror_mode": {
    "name": "ipython",
    "version": 3
   },
   "file_extension": ".py",
   "mimetype": "text/x-python",
   "name": "python",
   "nbconvert_exporter": "python",
   "pygments_lexer": "ipython3",
   "version": "3.9.7"
  }
 },
 "nbformat": 4,
 "nbformat_minor": 5
}
