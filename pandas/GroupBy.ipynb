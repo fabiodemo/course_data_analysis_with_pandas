{
 "cells": [
  {
   "cell_type": "markdown",
   "id": "60e66423-cdb4-4406-a7c4-3f761970947a",
   "metadata": {},
   "source": [
    "## Group By"
   ]
  },
  {
   "cell_type": "markdown",
   "id": "6520ddf3",
   "metadata": {},
   "source": [
    "With Group By, we can create several separated dataframes, without the need to create each one of the dataframes manually (comparing, assinign, etc)."
   ]
  },
  {
   "cell_type": "code",
   "execution_count": null,
   "id": "b6d2195d-4f29-4f5d-aeef-46fa22127c1b",
   "metadata": {},
   "outputs": [],
   "source": [
    "import pandas as pd"
   ]
  },
  {
   "cell_type": "code",
   "execution_count": null,
   "id": "703bc97c-a66b-4463-aee5-f162b952ee0c",
   "metadata": {},
   "outputs": [],
   "source": [
    "fortune = pd.read_csv(\"fortune1000.csv\", index_col=\"Rank\") # 1000 most profitable companies\n",
    "sectors = fortune.groupby(\"Sector\")\n",
    "fortune.head(3)"
   ]
  },
  {
   "cell_type": "code",
   "execution_count": null,
   "id": "b4396f0a-547d-4005-97dc-16001f430da4",
   "metadata": {},
   "outputs": [],
   "source": [
    "fortune.groupby(\"Sector\")"
   ]
  },
  {
   "cell_type": "code",
   "execution_count": null,
   "id": "f147cd1d-969c-4414-811f-adbf2d1033a5",
   "metadata": {},
   "outputs": [],
   "source": [
    "type(fortune)"
   ]
  },
  {
   "cell_type": "code",
   "execution_count": null,
   "id": "cc2c838f-3743-4434-bd69-c6353ef68707",
   "metadata": {},
   "outputs": [],
   "source": [
    "type(sectors)"
   ]
  },
  {
   "cell_type": "code",
   "execution_count": null,
   "id": "8ad6cf4c-f03e-4bf9-9f34-39a01fc83b22",
   "metadata": {},
   "outputs": [],
   "source": [
    "sectors"
   ]
  },
  {
   "cell_type": "markdown",
   "id": "c850ccb7",
   "metadata": {},
   "source": [
    "## The groupby() Method"
   ]
  },
  {
   "cell_type": "code",
   "execution_count": null,
   "id": "db935499",
   "metadata": {},
   "outputs": [],
   "source": [
    "len(fortune) # Number of rows\n",
    "len(sectors) # Number of groups\n"
   ]
  },
  {
   "cell_type": "code",
   "execution_count": null,
   "id": "88dcf51a",
   "metadata": {},
   "outputs": [],
   "source": [
    "fortune.Sector.nunique()"
   ]
  },
  {
   "cell_type": "code",
   "execution_count": null,
   "id": "4a707c60",
   "metadata": {},
   "outputs": [],
   "source": [
    "sectors.size()"
   ]
  },
  {
   "cell_type": "markdown",
   "id": "d6c2cdf2",
   "metadata": {},
   "source": [
    "Size of group is the same as value counts. Except value counts will order by quantity."
   ]
  },
  {
   "cell_type": "code",
   "execution_count": null,
   "id": "bb477be6",
   "metadata": {},
   "outputs": [],
   "source": [
    "fortune[\"Sector\"].value_counts()"
   ]
  },
  {
   "cell_type": "code",
   "execution_count": null,
   "id": "130cfd45",
   "metadata": {},
   "outputs": [],
   "source": [
    "fortune.head(3)"
   ]
  },
  {
   "cell_type": "markdown",
   "id": "9bea80b6",
   "metadata": {},
   "source": [
    "Gets the first item of each group to show."
   ]
  },
  {
   "cell_type": "code",
   "execution_count": null,
   "id": "bd984362",
   "metadata": {},
   "outputs": [],
   "source": [
    "sectors.first()"
   ]
  },
  {
   "cell_type": "code",
   "execution_count": null,
   "id": "1964dbb7",
   "metadata": {},
   "outputs": [],
   "source": [
    "fortune.tail(3)"
   ]
  },
  {
   "cell_type": "code",
   "execution_count": null,
   "id": "fef4cf98",
   "metadata": {},
   "outputs": [],
   "source": [
    "sectors.last()"
   ]
  },
  {
   "cell_type": "code",
   "execution_count": null,
   "id": "8efccffd",
   "metadata": {},
   "outputs": [],
   "source": [
    "sectors.groups"
   ]
  },
  {
   "cell_type": "code",
   "execution_count": null,
   "id": "d78760af",
   "metadata": {},
   "outputs": [],
   "source": [
    "fortune.loc[24]"
   ]
  },
  {
   "cell_type": "markdown",
   "id": "dbf385d9",
   "metadata": {},
   "source": [
    "## Retrieve a Group with the .get_group() Method"
   ]
  },
  {
   "cell_type": "code",
   "execution_count": null,
   "id": "703bc97c-a66b-4463-aee5-f162b952ee0c",
   "metadata": {},
   "outputs": [],
   "source": [
    "fortune = pd.read_csv(\"fortune1000.csv\", index_col=\"Rank\") # 1000 most profitable companies\n",
    "sectors = fortune.groupby(\"Sector\")\n",
    "fortune.head(3)"
   ]
  },
  {
   "cell_type": "code",
   "execution_count": null,
   "id": "dffb96cd",
   "metadata": {},
   "outputs": [],
   "source": [
    "sectors.get_group(\"Energy\")\n",
    "sectors.get_group(\"Technology\")\n",
    "sectors.get_group(\"Apparel\")"
   ]
  },
  {
   "cell_type": "markdown",
   "id": "04288343",
   "metadata": {},
   "source": [
    "## Methods on the Groupby Object and Dataframe Columns"
   ]
  },
  {
   "cell_type": "code",
   "execution_count": null,
   "id": "703bc97c-a66b-4463-aee5-f162b952ee0c",
   "metadata": {},
   "outputs": [],
   "source": [
    "fortune = pd.read_csv(\"fortune1000.csv\", index_col=\"Rank\") # 1000 most profitable companies\n",
    "sectors = fortune.groupby(\"Sector\")\n",
    "fortune.head(3)"
   ]
  },
  {
   "cell_type": "code",
   "execution_count": null,
   "id": "6866e0b3",
   "metadata": {},
   "outputs": [],
   "source": [
    "sectors.max()"
   ]
  },
  {
   "cell_type": "code",
   "execution_count": null,
   "id": "b7ede62b",
   "metadata": {},
   "outputs": [],
   "source": [
    "sectors.min()"
   ]
  },
  {
   "cell_type": "markdown",
   "id": "223056c5",
   "metadata": {},
   "source": [
    "Only apply to numeric columns"
   ]
  },
  {
   "cell_type": "code",
   "execution_count": null,
   "id": "803ca02d",
   "metadata": {},
   "outputs": [],
   "source": [
    "sectors.sum()"
   ]
  },
  {
   "cell_type": "code",
   "execution_count": null,
   "id": "ae4cb017",
   "metadata": {},
   "outputs": [],
   "source": [
    "sectors[\"Revenue\"].sum()"
   ]
  },
  {
   "cell_type": "code",
   "execution_count": null,
   "id": "980676f4",
   "metadata": {},
   "outputs": [],
   "source": [
    "sectors.get_group(\"Apparel\")[\"Revenue\"].sum() # Same as this\n",
    "# Apparel\t95968\t8236\t346397\n",
    "sectors.get_group(\"Apparel\")[\"Revenue\"].mean()\n"
   ]
  },
  {
   "cell_type": "code",
   "execution_count": null,
   "id": "cf5103e7",
   "metadata": {},
   "outputs": [],
   "source": [
    "sectors.mean()"
   ]
  },
  {
   "cell_type": "code",
   "execution_count": null,
   "id": "81b23b5d",
   "metadata": {},
   "outputs": [],
   "source": [
    "sectors[\"Employees\"].sum()"
   ]
  },
  {
   "cell_type": "code",
   "execution_count": null,
   "id": "e5805896",
   "metadata": {},
   "outputs": [],
   "source": [
    "sectors[\"Profits\"].max()\n",
    "sectors[\"Profits\"].min()\n",
    "sectors[\"Employees\"].mean()\n",
    "\n",
    "sectors[[\"Profits\", \"Revenue\"]].sum()\n"
   ]
  },
  {
   "cell_type": "markdown",
   "id": "c377e77a",
   "metadata": {},
   "source": [
    "## Grouping by Multiple Columns"
   ]
  },
  {
   "cell_type": "code",
   "execution_count": null,
   "id": "703bc97c-a66b-4463-aee5-f162b952ee0c",
   "metadata": {},
   "outputs": [],
   "source": [
    "fortune = pd.read_csv(\"fortune1000.csv\", index_col=\"Rank\") # 1000 most profitable companies\n",
    "sectors = fortune.groupby([\"Sector\", \"Industry\"])\n",
    "fortune.head(3)"
   ]
  },
  {
   "cell_type": "markdown",
   "id": "09ed66a7",
   "metadata": {},
   "source": [
    "MultIndex series"
   ]
  },
  {
   "cell_type": "code",
   "execution_count": null,
   "id": "69b78e2a",
   "metadata": {},
   "outputs": [],
   "source": [
    "sectors.size()"
   ]
  },
  {
   "cell_type": "code",
   "execution_count": null,
   "id": "812215b9",
   "metadata": {},
   "outputs": [],
   "source": [
    "sectors.sum()"
   ]
  },
  {
   "cell_type": "code",
   "execution_count": null,
   "id": "0e5b7dcb",
   "metadata": {},
   "outputs": [],
   "source": [
    "sectors[\"Revenue\"].sum()\n",
    "sectors[\"Employees\"].mean()"
   ]
  },
  {
   "cell_type": "markdown",
   "id": "a4a514e3",
   "metadata": {},
   "source": [
    "The .agg() Method"
   ]
  },
  {
   "cell_type": "markdown",
   "id": "558ee000",
   "metadata": {},
   "source": [
    "Perform more than one operation over a dataframe."
   ]
  },
  {
   "cell_type": "code",
   "execution_count": null,
   "id": "703bc97c-a66b-4463-aee5-f162b952ee0c",
   "metadata": {},
   "outputs": [],
   "source": [
    "fortune = pd.read_csv(\"fortune1000.csv\", index_col=\"Rank\") # 1000 most profitable companies\n",
    "sectors = fortune.groupby(\"Sector\")\n",
    "fortune.head(3)"
   ]
  },
  {
   "cell_type": "code",
   "execution_count": null,
   "id": "8629aa50",
   "metadata": {},
   "outputs": [],
   "source": [
    "sectors[\"Employees\"].mean()"
   ]
  },
  {
   "cell_type": "code",
   "execution_count": null,
   "id": "bc521dda",
   "metadata": {},
   "outputs": [],
   "source": [
    "sectors.agg({\n",
    "            \"Revenue\" : \"sum\",\n",
    "            \"Profits\" : \"sum\",\n",
    "            \"Employees\" : \"mean\"\n",
    "            })"
   ]
  },
  {
   "cell_type": "markdown",
   "id": "65f9174c",
   "metadata": {},
   "source": [
    "Using more than one operations over the numeric columns"
   ]
  },
  {
   "cell_type": "code",
   "execution_count": null,
   "id": "bc521dda",
   "metadata": {},
   "outputs": [],
   "source": [
    "sectors.agg([\"size\", \"sum\", \"mean\"])"
   ]
  },
  {
   "cell_type": "code",
   "execution_count": null,
   "id": "bc521dda",
   "metadata": {},
   "outputs": [],
   "source": [
    "sectors.agg({\n",
    "            \"Revenue\" : [\"sum\", \"mean\"],\n",
    "            \"Profits\" : \"sum\",\n",
    "            \"Employees\" : \"mean\"\n",
    "            })"
   ]
  },
  {
   "cell_type": "markdown",
   "id": "83e6e8c8",
   "metadata": {},
   "source": [
    "## Iterating Through Groups"
   ]
  },
  {
   "cell_type": "code",
   "execution_count": 65,
   "id": "703bc97c-a66b-4463-aee5-f162b952ee0c",
   "metadata": {},
   "outputs": [
    {
     "data": {
      "text/html": [
       "<div>\n",
       "<style scoped>\n",
       "    .dataframe tbody tr th:only-of-type {\n",
       "        vertical-align: middle;\n",
       "    }\n",
       "\n",
       "    .dataframe tbody tr th {\n",
       "        vertical-align: top;\n",
       "    }\n",
       "\n",
       "    .dataframe thead th {\n",
       "        text-align: right;\n",
       "    }\n",
       "</style>\n",
       "<table border=\"1\" class=\"dataframe\">\n",
       "  <thead>\n",
       "    <tr style=\"text-align: right;\">\n",
       "      <th></th>\n",
       "      <th>Company</th>\n",
       "      <th>Sector</th>\n",
       "      <th>Industry</th>\n",
       "      <th>Location</th>\n",
       "      <th>Revenue</th>\n",
       "      <th>Profits</th>\n",
       "      <th>Employees</th>\n",
       "    </tr>\n",
       "    <tr>\n",
       "      <th>Rank</th>\n",
       "      <th></th>\n",
       "      <th></th>\n",
       "      <th></th>\n",
       "      <th></th>\n",
       "      <th></th>\n",
       "      <th></th>\n",
       "      <th></th>\n",
       "    </tr>\n",
       "  </thead>\n",
       "  <tbody>\n",
       "    <tr>\n",
       "      <th>1</th>\n",
       "      <td>Walmart</td>\n",
       "      <td>Retailing</td>\n",
       "      <td>General Merchandisers</td>\n",
       "      <td>Bentonville, AR</td>\n",
       "      <td>482130</td>\n",
       "      <td>14694</td>\n",
       "      <td>2300000</td>\n",
       "    </tr>\n",
       "    <tr>\n",
       "      <th>2</th>\n",
       "      <td>Exxon Mobil</td>\n",
       "      <td>Energy</td>\n",
       "      <td>Petroleum Refining</td>\n",
       "      <td>Irving, TX</td>\n",
       "      <td>246204</td>\n",
       "      <td>16150</td>\n",
       "      <td>75600</td>\n",
       "    </tr>\n",
       "    <tr>\n",
       "      <th>3</th>\n",
       "      <td>Apple</td>\n",
       "      <td>Technology</td>\n",
       "      <td>Computers, Office Equipment</td>\n",
       "      <td>Cupertino, CA</td>\n",
       "      <td>233715</td>\n",
       "      <td>53394</td>\n",
       "      <td>110000</td>\n",
       "    </tr>\n",
       "  </tbody>\n",
       "</table>\n",
       "</div>"
      ],
      "text/plain": [
       "          Company      Sector                     Industry         Location  \\\n",
       "Rank                                                                          \n",
       "1         Walmart   Retailing        General Merchandisers  Bentonville, AR   \n",
       "2     Exxon Mobil      Energy           Petroleum Refining       Irving, TX   \n",
       "3           Apple  Technology  Computers, Office Equipment    Cupertino, CA   \n",
       "\n",
       "      Revenue  Profits  Employees  \n",
       "Rank                               \n",
       "1      482130    14694    2300000  \n",
       "2      246204    16150      75600  \n",
       "3      233715    53394     110000  "
      ]
     },
     "execution_count": 65,
     "metadata": {},
     "output_type": "execute_result"
    }
   ],
   "source": [
    "fortune = pd.read_csv(\"fortune1000.csv\", index_col=\"Rank\") # 1000 most profitable companies\n",
    "sectors = fortune.groupby(\"Sector\")\n",
    "fortune.head(3)"
   ]
  },
  {
   "cell_type": "markdown",
   "id": "4345ab58",
   "metadata": {},
   "source": [
    "Creating an empty array to append data to it"
   ]
  },
  {
   "cell_type": "code",
   "execution_count": 68,
   "id": "a8fcd6a4",
   "metadata": {},
   "outputs": [
    {
     "data": {
      "text/html": [
       "<div>\n",
       "<style scoped>\n",
       "    .dataframe tbody tr th:only-of-type {\n",
       "        vertical-align: middle;\n",
       "    }\n",
       "\n",
       "    .dataframe tbody tr th {\n",
       "        vertical-align: top;\n",
       "    }\n",
       "\n",
       "    .dataframe thead th {\n",
       "        text-align: right;\n",
       "    }\n",
       "</style>\n",
       "<table border=\"1\" class=\"dataframe\">\n",
       "  <thead>\n",
       "    <tr style=\"text-align: right;\">\n",
       "      <th></th>\n",
       "      <th>Company</th>\n",
       "      <th>Sector</th>\n",
       "      <th>Industry</th>\n",
       "      <th>Location</th>\n",
       "      <th>Revenue</th>\n",
       "      <th>Profits</th>\n",
       "      <th>Employees</th>\n",
       "    </tr>\n",
       "  </thead>\n",
       "  <tbody>\n",
       "  </tbody>\n",
       "</table>\n",
       "</div>"
      ],
      "text/plain": [
       "Empty DataFrame\n",
       "Columns: [Company, Sector, Industry, Location, Revenue, Profits, Employees]\n",
       "Index: []"
      ]
     },
     "execution_count": 68,
     "metadata": {},
     "output_type": "execute_result"
    }
   ],
   "source": [
    "df = pd.DataFrame(columns = fortune.columns)\n",
    "df"
   ]
  },
  {
   "cell_type": "code",
   "execution_count": 70,
   "id": "78981603",
   "metadata": {},
   "outputs": [],
   "source": [
    "for sector,data in sectors:\n",
    "    highest_revenue_company_in_group = data.nlargest(1, \"Revenue\")\n",
    "    df = df.append(highest_revenue_company_in_group)"
   ]
  },
  {
   "cell_type": "code",
   "execution_count": 71,
   "id": "9efd105a",
   "metadata": {},
   "outputs": [
    {
     "data": {
      "text/html": [
       "<div>\n",
       "<style scoped>\n",
       "    .dataframe tbody tr th:only-of-type {\n",
       "        vertical-align: middle;\n",
       "    }\n",
       "\n",
       "    .dataframe tbody tr th {\n",
       "        vertical-align: top;\n",
       "    }\n",
       "\n",
       "    .dataframe thead th {\n",
       "        text-align: right;\n",
       "    }\n",
       "</style>\n",
       "<table border=\"1\" class=\"dataframe\">\n",
       "  <thead>\n",
       "    <tr style=\"text-align: right;\">\n",
       "      <th></th>\n",
       "      <th>Company</th>\n",
       "      <th>Sector</th>\n",
       "      <th>Industry</th>\n",
       "      <th>Location</th>\n",
       "      <th>Revenue</th>\n",
       "      <th>Profits</th>\n",
       "      <th>Employees</th>\n",
       "    </tr>\n",
       "  </thead>\n",
       "  <tbody>\n",
       "    <tr>\n",
       "      <th>24</th>\n",
       "      <td>Boeing</td>\n",
       "      <td>Aerospace &amp; Defense</td>\n",
       "      <td>Aerospace and Defense</td>\n",
       "      <td>Chicago, IL</td>\n",
       "      <td>96114</td>\n",
       "      <td>5176</td>\n",
       "      <td>161400</td>\n",
       "    </tr>\n",
       "    <tr>\n",
       "      <th>91</th>\n",
       "      <td>Nike</td>\n",
       "      <td>Apparel</td>\n",
       "      <td>Apparel</td>\n",
       "      <td>Beaverton, OR</td>\n",
       "      <td>30601</td>\n",
       "      <td>3273</td>\n",
       "      <td>62600</td>\n",
       "    </tr>\n",
       "    <tr>\n",
       "      <th>144</th>\n",
       "      <td>ManpowerGroup</td>\n",
       "      <td>Business Services</td>\n",
       "      <td>Temporary Help</td>\n",
       "      <td>Milwaukee, WI</td>\n",
       "      <td>19330</td>\n",
       "      <td>419</td>\n",
       "      <td>27000</td>\n",
       "    </tr>\n",
       "    <tr>\n",
       "      <th>56</th>\n",
       "      <td>Dow Chemical</td>\n",
       "      <td>Chemicals</td>\n",
       "      <td>Chemicals</td>\n",
       "      <td>Midland, MI</td>\n",
       "      <td>48778</td>\n",
       "      <td>7685</td>\n",
       "      <td>49495</td>\n",
       "    </tr>\n",
       "    <tr>\n",
       "      <th>2</th>\n",
       "      <td>Exxon Mobil</td>\n",
       "      <td>Energy</td>\n",
       "      <td>Petroleum Refining</td>\n",
       "      <td>Irving, TX</td>\n",
       "      <td>246204</td>\n",
       "      <td>16150</td>\n",
       "      <td>75600</td>\n",
       "    </tr>\n",
       "    <tr>\n",
       "      <th>155</th>\n",
       "      <td>Fluor</td>\n",
       "      <td>Engineering &amp; Construction</td>\n",
       "      <td>Engineering, Construction</td>\n",
       "      <td>Irving, TX</td>\n",
       "      <td>18114</td>\n",
       "      <td>413</td>\n",
       "      <td>38758</td>\n",
       "    </tr>\n",
       "    <tr>\n",
       "      <th>4</th>\n",
       "      <td>Berkshire Hathaway</td>\n",
       "      <td>Financials</td>\n",
       "      <td>Insurance: Property and Casualty (Stock)</td>\n",
       "      <td>Omaha, NE</td>\n",
       "      <td>210821</td>\n",
       "      <td>24083</td>\n",
       "      <td>331000</td>\n",
       "    </tr>\n",
       "    <tr>\n",
       "      <th>7</th>\n",
       "      <td>CVS Health</td>\n",
       "      <td>Food and Drug Stores</td>\n",
       "      <td>Food and Drug Stores</td>\n",
       "      <td>Woonsocket, RI</td>\n",
       "      <td>153290</td>\n",
       "      <td>5237</td>\n",
       "      <td>199000</td>\n",
       "    </tr>\n",
       "    <tr>\n",
       "      <th>41</th>\n",
       "      <td>Archer Daniels Midland</td>\n",
       "      <td>Food, Beverages &amp; Tobacco</td>\n",
       "      <td>Food Production</td>\n",
       "      <td>Chicago, IL</td>\n",
       "      <td>67702</td>\n",
       "      <td>1849</td>\n",
       "      <td>32300</td>\n",
       "    </tr>\n",
       "    <tr>\n",
       "      <th>5</th>\n",
       "      <td>McKesson</td>\n",
       "      <td>Health Care</td>\n",
       "      <td>Wholesalers: Health Care</td>\n",
       "      <td>San Francisco, CA</td>\n",
       "      <td>181241</td>\n",
       "      <td>1476</td>\n",
       "      <td>70400</td>\n",
       "    </tr>\n",
       "    <tr>\n",
       "      <th>109</th>\n",
       "      <td>McDonald’s</td>\n",
       "      <td>Hotels, Resturants &amp; Leisure</td>\n",
       "      <td>Food Services</td>\n",
       "      <td>Oak Brook, IL</td>\n",
       "      <td>25413</td>\n",
       "      <td>4529</td>\n",
       "      <td>420000</td>\n",
       "    </tr>\n",
       "    <tr>\n",
       "      <th>34</th>\n",
       "      <td>Procter &amp; Gamble</td>\n",
       "      <td>Household Products</td>\n",
       "      <td>Household and Personal Products</td>\n",
       "      <td>Cincinnati, OH</td>\n",
       "      <td>78756</td>\n",
       "      <td>7036</td>\n",
       "      <td>110000</td>\n",
       "    </tr>\n",
       "    <tr>\n",
       "      <th>11</th>\n",
       "      <td>General Electric</td>\n",
       "      <td>Industrials</td>\n",
       "      <td>Industrial Machinery</td>\n",
       "      <td>Fairfield, CT</td>\n",
       "      <td>140389</td>\n",
       "      <td>-6126</td>\n",
       "      <td>333000</td>\n",
       "    </tr>\n",
       "    <tr>\n",
       "      <th>126</th>\n",
       "      <td>Alcoa</td>\n",
       "      <td>Materials</td>\n",
       "      <td>Metals</td>\n",
       "      <td>New York, NY</td>\n",
       "      <td>22534</td>\n",
       "      <td>-322</td>\n",
       "      <td>60000</td>\n",
       "    </tr>\n",
       "    <tr>\n",
       "      <th>53</th>\n",
       "      <td>Disney</td>\n",
       "      <td>Media</td>\n",
       "      <td>Entertainment</td>\n",
       "      <td>Burbank, CA</td>\n",
       "      <td>52465</td>\n",
       "      <td>8382</td>\n",
       "      <td>185000</td>\n",
       "    </tr>\n",
       "    <tr>\n",
       "      <th>8</th>\n",
       "      <td>General Motors</td>\n",
       "      <td>Motor Vehicles &amp; Parts</td>\n",
       "      <td>Motor Vehicles and Parts</td>\n",
       "      <td>Detroit, MI</td>\n",
       "      <td>152356</td>\n",
       "      <td>9687</td>\n",
       "      <td>215000</td>\n",
       "    </tr>\n",
       "    <tr>\n",
       "      <th>1</th>\n",
       "      <td>Walmart</td>\n",
       "      <td>Retailing</td>\n",
       "      <td>General Merchandisers</td>\n",
       "      <td>Bentonville, AR</td>\n",
       "      <td>482130</td>\n",
       "      <td>14694</td>\n",
       "      <td>2300000</td>\n",
       "    </tr>\n",
       "    <tr>\n",
       "      <th>3</th>\n",
       "      <td>Apple</td>\n",
       "      <td>Technology</td>\n",
       "      <td>Computers, Office Equipment</td>\n",
       "      <td>Cupertino, CA</td>\n",
       "      <td>233715</td>\n",
       "      <td>53394</td>\n",
       "      <td>110000</td>\n",
       "    </tr>\n",
       "    <tr>\n",
       "      <th>10</th>\n",
       "      <td>AT&amp;T</td>\n",
       "      <td>Telecommunications</td>\n",
       "      <td>Telecommunications</td>\n",
       "      <td>Dallas, TX</td>\n",
       "      <td>146801</td>\n",
       "      <td>13345</td>\n",
       "      <td>281450</td>\n",
       "    </tr>\n",
       "    <tr>\n",
       "      <th>48</th>\n",
       "      <td>UPS</td>\n",
       "      <td>Transportation</td>\n",
       "      <td>Mail, Package, and Freight Delivery</td>\n",
       "      <td>Atlanta, GA</td>\n",
       "      <td>58363</td>\n",
       "      <td>4844</td>\n",
       "      <td>341240</td>\n",
       "    </tr>\n",
       "    <tr>\n",
       "      <th>57</th>\n",
       "      <td>Sysco</td>\n",
       "      <td>Wholesalers</td>\n",
       "      <td>Wholesalers: Food and Grocery</td>\n",
       "      <td>Houston, TX</td>\n",
       "      <td>48681</td>\n",
       "      <td>687</td>\n",
       "      <td>51700</td>\n",
       "    </tr>\n",
       "  </tbody>\n",
       "</table>\n",
       "</div>"
      ],
      "text/plain": [
       "                    Company                        Sector  \\\n",
       "24                   Boeing           Aerospace & Defense   \n",
       "91                     Nike                       Apparel   \n",
       "144           ManpowerGroup             Business Services   \n",
       "56             Dow Chemical                     Chemicals   \n",
       "2               Exxon Mobil                        Energy   \n",
       "155                   Fluor    Engineering & Construction   \n",
       "4        Berkshire Hathaway                    Financials   \n",
       "7                CVS Health          Food and Drug Stores   \n",
       "41   Archer Daniels Midland     Food, Beverages & Tobacco   \n",
       "5                  McKesson                   Health Care   \n",
       "109              McDonald’s  Hotels, Resturants & Leisure   \n",
       "34         Procter & Gamble            Household Products   \n",
       "11         General Electric                   Industrials   \n",
       "126                   Alcoa                     Materials   \n",
       "53                   Disney                         Media   \n",
       "8            General Motors        Motor Vehicles & Parts   \n",
       "1                   Walmart                     Retailing   \n",
       "3                     Apple                    Technology   \n",
       "10                     AT&T            Telecommunications   \n",
       "48                      UPS                Transportation   \n",
       "57                    Sysco                   Wholesalers   \n",
       "\n",
       "                                     Industry           Location Revenue  \\\n",
       "24                      Aerospace and Defense        Chicago, IL   96114   \n",
       "91                                    Apparel      Beaverton, OR   30601   \n",
       "144                            Temporary Help      Milwaukee, WI   19330   \n",
       "56                                  Chemicals        Midland, MI   48778   \n",
       "2                          Petroleum Refining         Irving, TX  246204   \n",
       "155                 Engineering, Construction         Irving, TX   18114   \n",
       "4    Insurance: Property and Casualty (Stock)          Omaha, NE  210821   \n",
       "7                        Food and Drug Stores     Woonsocket, RI  153290   \n",
       "41                            Food Production        Chicago, IL   67702   \n",
       "5                    Wholesalers: Health Care  San Francisco, CA  181241   \n",
       "109                             Food Services      Oak Brook, IL   25413   \n",
       "34            Household and Personal Products     Cincinnati, OH   78756   \n",
       "11                       Industrial Machinery      Fairfield, CT  140389   \n",
       "126                                    Metals       New York, NY   22534   \n",
       "53                              Entertainment        Burbank, CA   52465   \n",
       "8                    Motor Vehicles and Parts        Detroit, MI  152356   \n",
       "1                       General Merchandisers    Bentonville, AR  482130   \n",
       "3                 Computers, Office Equipment      Cupertino, CA  233715   \n",
       "10                         Telecommunications         Dallas, TX  146801   \n",
       "48        Mail, Package, and Freight Delivery        Atlanta, GA   58363   \n",
       "57              Wholesalers: Food and Grocery        Houston, TX   48681   \n",
       "\n",
       "    Profits Employees  \n",
       "24     5176    161400  \n",
       "91     3273     62600  \n",
       "144     419     27000  \n",
       "56     7685     49495  \n",
       "2     16150     75600  \n",
       "155     413     38758  \n",
       "4     24083    331000  \n",
       "7      5237    199000  \n",
       "41     1849     32300  \n",
       "5      1476     70400  \n",
       "109    4529    420000  \n",
       "34     7036    110000  \n",
       "11    -6126    333000  \n",
       "126    -322     60000  \n",
       "53     8382    185000  \n",
       "8      9687    215000  \n",
       "1     14694   2300000  \n",
       "3     53394    110000  \n",
       "10    13345    281450  \n",
       "48     4844    341240  \n",
       "57      687     51700  "
      ]
     },
     "execution_count": 71,
     "metadata": {},
     "output_type": "execute_result"
    }
   ],
   "source": [
    "df"
   ]
  },
  {
   "cell_type": "code",
   "execution_count": 73,
   "id": "25907d89",
   "metadata": {},
   "outputs": [
    {
     "data": {
      "text/plain": [
       "<pandas.core.groupby.generic.DataFrameGroupBy object at 0x000002575281A910>"
      ]
     },
     "execution_count": 73,
     "metadata": {},
     "output_type": "execute_result"
    }
   ],
   "source": [
    "cities = fortune.groupby(\"Location\")\n",
    "df = pd.DataFrame(columns = fortune.columns)\n",
    "cities"
   ]
  },
  {
   "cell_type": "code",
   "execution_count": null,
   "id": "d826c2ae",
   "metadata": {},
   "outputs": [],
   "source": []
  }
 ],
 "metadata": {
  "kernelspec": {
   "display_name": "Python 3 (ipykernel)",
   "language": "python",
   "name": "python3"
  },
  "language_info": {
   "codemirror_mode": {
    "name": "ipython",
    "version": 3
   },
   "file_extension": ".py",
   "mimetype": "text/x-python",
   "name": "python",
   "nbconvert_exporter": "python",
   "pygments_lexer": "ipython3",
   "version": "3.9.7"
  }
 },
 "nbformat": 4,
 "nbformat_minor": 5
}
